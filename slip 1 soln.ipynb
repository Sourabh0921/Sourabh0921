{
 "cells": [
  {
   "cell_type": "code",
   "execution_count": 1,
   "id": "1165e471",
   "metadata": {},
   "outputs": [],
   "source": [
    "import numpy as np\n",
    "import pandas as pd\n",
    "import matplotlib.pyplot as plt\n",
    "import seaborn as sns\n",
    "\n",
    "import warnings\n",
    "warnings.filterwarnings('ignore')"
   ]
  },
  {
   "cell_type": "code",
   "execution_count": 2,
   "id": "f69589ef",
   "metadata": {},
   "outputs": [
    {
     "data": {
      "text/html": [
       "<div>\n",
       "<style scoped>\n",
       "    .dataframe tbody tr th:only-of-type {\n",
       "        vertical-align: middle;\n",
       "    }\n",
       "\n",
       "    .dataframe tbody tr th {\n",
       "        vertical-align: top;\n",
       "    }\n",
       "\n",
       "    .dataframe thead th {\n",
       "        text-align: right;\n",
       "    }\n",
       "</style>\n",
       "<table border=\"1\" class=\"dataframe\">\n",
       "  <thead>\n",
       "    <tr style=\"text-align: right;\">\n",
       "      <th></th>\n",
       "      <th>Unnamed: 0</th>\n",
       "      <th>ID</th>\n",
       "      <th>Name</th>\n",
       "      <th>Age</th>\n",
       "      <th>Photo</th>\n",
       "      <th>Nationality</th>\n",
       "      <th>Flag</th>\n",
       "      <th>Overall</th>\n",
       "      <th>Potential</th>\n",
       "      <th>Club</th>\n",
       "      <th>...</th>\n",
       "      <th>Composure</th>\n",
       "      <th>Marking</th>\n",
       "      <th>StandingTackle</th>\n",
       "      <th>SlidingTackle</th>\n",
       "      <th>GKDiving</th>\n",
       "      <th>GKHandling</th>\n",
       "      <th>GKKicking</th>\n",
       "      <th>GKPositioning</th>\n",
       "      <th>GKReflexes</th>\n",
       "      <th>Release Clause</th>\n",
       "    </tr>\n",
       "  </thead>\n",
       "  <tbody>\n",
       "    <tr>\n",
       "      <th>0</th>\n",
       "      <td>0</td>\n",
       "      <td>158023</td>\n",
       "      <td>L. Messi</td>\n",
       "      <td>31.0</td>\n",
       "      <td>https://cdn.sofifa.org/players/4/19/158023.png</td>\n",
       "      <td>Argentina</td>\n",
       "      <td>https://cdn.sofifa.org/flags/52.png</td>\n",
       "      <td>94.0</td>\n",
       "      <td>94</td>\n",
       "      <td>FC Barcelona</td>\n",
       "      <td>...</td>\n",
       "      <td>96.0</td>\n",
       "      <td>33.0</td>\n",
       "      <td>28.0</td>\n",
       "      <td>26.0</td>\n",
       "      <td>6.0</td>\n",
       "      <td>11.0</td>\n",
       "      <td>15.0</td>\n",
       "      <td>14.0</td>\n",
       "      <td>8.0</td>\n",
       "      <td>�226.5M</td>\n",
       "    </tr>\n",
       "    <tr>\n",
       "      <th>1</th>\n",
       "      <td>1</td>\n",
       "      <td>20801</td>\n",
       "      <td>Cristiano Ronaldo</td>\n",
       "      <td>33.0</td>\n",
       "      <td>https://cdn.sofifa.org/players/4/19/20801.png</td>\n",
       "      <td>Portugal</td>\n",
       "      <td>https://cdn.sofifa.org/flags/38.png</td>\n",
       "      <td>94.0</td>\n",
       "      <td>94</td>\n",
       "      <td>Juventus</td>\n",
       "      <td>...</td>\n",
       "      <td>95.0</td>\n",
       "      <td>28.0</td>\n",
       "      <td>31.0</td>\n",
       "      <td>23.0</td>\n",
       "      <td>7.0</td>\n",
       "      <td>11.0</td>\n",
       "      <td>15.0</td>\n",
       "      <td>14.0</td>\n",
       "      <td>11.0</td>\n",
       "      <td>�127.1M</td>\n",
       "    </tr>\n",
       "    <tr>\n",
       "      <th>2</th>\n",
       "      <td>2</td>\n",
       "      <td>190871</td>\n",
       "      <td>Neymar Jr</td>\n",
       "      <td>26.0</td>\n",
       "      <td>https://cdn.sofifa.org/players/4/19/190871.png</td>\n",
       "      <td>Brazil</td>\n",
       "      <td>https://cdn.sofifa.org/flags/54.png</td>\n",
       "      <td>92.0</td>\n",
       "      <td>93</td>\n",
       "      <td>Paris Saint-Germain</td>\n",
       "      <td>...</td>\n",
       "      <td>94.0</td>\n",
       "      <td>27.0</td>\n",
       "      <td>24.0</td>\n",
       "      <td>33.0</td>\n",
       "      <td>9.0</td>\n",
       "      <td>9.0</td>\n",
       "      <td>15.0</td>\n",
       "      <td>15.0</td>\n",
       "      <td>11.0</td>\n",
       "      <td>�228.1M</td>\n",
       "    </tr>\n",
       "    <tr>\n",
       "      <th>3</th>\n",
       "      <td>3</td>\n",
       "      <td>193080</td>\n",
       "      <td>De Gea</td>\n",
       "      <td>27.0</td>\n",
       "      <td>https://cdn.sofifa.org/players/4/19/193080.png</td>\n",
       "      <td>Spain</td>\n",
       "      <td>https://cdn.sofifa.org/flags/45.png</td>\n",
       "      <td>91.0</td>\n",
       "      <td>93</td>\n",
       "      <td>Manchester United</td>\n",
       "      <td>...</td>\n",
       "      <td>68.0</td>\n",
       "      <td>15.0</td>\n",
       "      <td>21.0</td>\n",
       "      <td>13.0</td>\n",
       "      <td>90.0</td>\n",
       "      <td>85.0</td>\n",
       "      <td>87.0</td>\n",
       "      <td>88.0</td>\n",
       "      <td>94.0</td>\n",
       "      <td>�138.6M</td>\n",
       "    </tr>\n",
       "    <tr>\n",
       "      <th>4</th>\n",
       "      <td>4</td>\n",
       "      <td>192985</td>\n",
       "      <td>K. De Bruyne</td>\n",
       "      <td>27.0</td>\n",
       "      <td>https://cdn.sofifa.org/players/4/19/192985.png</td>\n",
       "      <td>Belgium</td>\n",
       "      <td>https://cdn.sofifa.org/flags/7.png</td>\n",
       "      <td>91.0</td>\n",
       "      <td>92</td>\n",
       "      <td>Manchester City</td>\n",
       "      <td>...</td>\n",
       "      <td>88.0</td>\n",
       "      <td>68.0</td>\n",
       "      <td>58.0</td>\n",
       "      <td>51.0</td>\n",
       "      <td>15.0</td>\n",
       "      <td>13.0</td>\n",
       "      <td>5.0</td>\n",
       "      <td>10.0</td>\n",
       "      <td>13.0</td>\n",
       "      <td>�196.4M</td>\n",
       "    </tr>\n",
       "  </tbody>\n",
       "</table>\n",
       "<p>5 rows × 89 columns</p>\n",
       "</div>"
      ],
      "text/plain": [
       "   Unnamed: 0      ID               Name   Age  \\\n",
       "0           0  158023           L. Messi  31.0   \n",
       "1           1   20801  Cristiano Ronaldo  33.0   \n",
       "2           2  190871          Neymar Jr  26.0   \n",
       "3           3  193080             De Gea  27.0   \n",
       "4           4  192985       K. De Bruyne  27.0   \n",
       "\n",
       "                                            Photo Nationality  \\\n",
       "0  https://cdn.sofifa.org/players/4/19/158023.png   Argentina   \n",
       "1   https://cdn.sofifa.org/players/4/19/20801.png    Portugal   \n",
       "2  https://cdn.sofifa.org/players/4/19/190871.png      Brazil   \n",
       "3  https://cdn.sofifa.org/players/4/19/193080.png       Spain   \n",
       "4  https://cdn.sofifa.org/players/4/19/192985.png     Belgium   \n",
       "\n",
       "                                  Flag  Overall  Potential  \\\n",
       "0  https://cdn.sofifa.org/flags/52.png     94.0         94   \n",
       "1  https://cdn.sofifa.org/flags/38.png     94.0         94   \n",
       "2  https://cdn.sofifa.org/flags/54.png     92.0         93   \n",
       "3  https://cdn.sofifa.org/flags/45.png     91.0         93   \n",
       "4   https://cdn.sofifa.org/flags/7.png     91.0         92   \n",
       "\n",
       "                  Club  ... Composure Marking StandingTackle  SlidingTackle  \\\n",
       "0         FC Barcelona  ...      96.0    33.0           28.0           26.0   \n",
       "1             Juventus  ...      95.0    28.0           31.0           23.0   \n",
       "2  Paris Saint-Germain  ...      94.0    27.0           24.0           33.0   \n",
       "3    Manchester United  ...      68.0    15.0           21.0           13.0   \n",
       "4      Manchester City  ...      88.0    68.0           58.0           51.0   \n",
       "\n",
       "  GKDiving  GKHandling  GKKicking  GKPositioning GKReflexes Release Clause  \n",
       "0      6.0        11.0       15.0           14.0        8.0        �226.5M  \n",
       "1      7.0        11.0       15.0           14.0       11.0        �127.1M  \n",
       "2      9.0         9.0       15.0           15.0       11.0        �228.1M  \n",
       "3     90.0        85.0       87.0           88.0       94.0        �138.6M  \n",
       "4     15.0        13.0        5.0           10.0       13.0        �196.4M  \n",
       "\n",
       "[5 rows x 89 columns]"
      ]
     },
     "execution_count": 2,
     "metadata": {},
     "output_type": "execute_result"
    }
   ],
   "source": [
    "data=pd.read_csv(\"C:/M.sc Data Science clg/DS SEM 2/Python Assignments/fifa19.csv\")\n",
    "data.head()"
   ]
  },
  {
   "cell_type": "code",
   "execution_count": 3,
   "id": "1013a528",
   "metadata": {},
   "outputs": [
    {
     "data": {
      "text/html": [
       "<div>\n",
       "<style scoped>\n",
       "    .dataframe tbody tr th:only-of-type {\n",
       "        vertical-align: middle;\n",
       "    }\n",
       "\n",
       "    .dataframe tbody tr th {\n",
       "        vertical-align: top;\n",
       "    }\n",
       "\n",
       "    .dataframe thead th {\n",
       "        text-align: right;\n",
       "    }\n",
       "</style>\n",
       "<table border=\"1\" class=\"dataframe\">\n",
       "  <thead>\n",
       "    <tr style=\"text-align: right;\">\n",
       "      <th></th>\n",
       "      <th>ID</th>\n",
       "      <th>Name</th>\n",
       "      <th>Age</th>\n",
       "      <th>Photo</th>\n",
       "      <th>Nationality</th>\n",
       "      <th>Flag</th>\n",
       "      <th>Overall</th>\n",
       "      <th>Potential</th>\n",
       "      <th>Club</th>\n",
       "      <th>Club Logo</th>\n",
       "      <th>...</th>\n",
       "      <th>Composure</th>\n",
       "      <th>Marking</th>\n",
       "      <th>StandingTackle</th>\n",
       "      <th>SlidingTackle</th>\n",
       "      <th>GKDiving</th>\n",
       "      <th>GKHandling</th>\n",
       "      <th>GKKicking</th>\n",
       "      <th>GKPositioning</th>\n",
       "      <th>GKReflexes</th>\n",
       "      <th>Release Clause</th>\n",
       "    </tr>\n",
       "  </thead>\n",
       "  <tbody>\n",
       "    <tr>\n",
       "      <th>0</th>\n",
       "      <td>158023</td>\n",
       "      <td>L. Messi</td>\n",
       "      <td>31.0</td>\n",
       "      <td>https://cdn.sofifa.org/players/4/19/158023.png</td>\n",
       "      <td>Argentina</td>\n",
       "      <td>https://cdn.sofifa.org/flags/52.png</td>\n",
       "      <td>94.0</td>\n",
       "      <td>94</td>\n",
       "      <td>FC Barcelona</td>\n",
       "      <td>https://cdn.sofifa.org/teams/2/light/241.png</td>\n",
       "      <td>...</td>\n",
       "      <td>96.0</td>\n",
       "      <td>33.0</td>\n",
       "      <td>28.0</td>\n",
       "      <td>26.0</td>\n",
       "      <td>6.0</td>\n",
       "      <td>11.0</td>\n",
       "      <td>15.0</td>\n",
       "      <td>14.0</td>\n",
       "      <td>8.0</td>\n",
       "      <td>�226.5M</td>\n",
       "    </tr>\n",
       "    <tr>\n",
       "      <th>1</th>\n",
       "      <td>20801</td>\n",
       "      <td>Cristiano Ronaldo</td>\n",
       "      <td>33.0</td>\n",
       "      <td>https://cdn.sofifa.org/players/4/19/20801.png</td>\n",
       "      <td>Portugal</td>\n",
       "      <td>https://cdn.sofifa.org/flags/38.png</td>\n",
       "      <td>94.0</td>\n",
       "      <td>94</td>\n",
       "      <td>Juventus</td>\n",
       "      <td>https://cdn.sofifa.org/teams/2/light/45.png</td>\n",
       "      <td>...</td>\n",
       "      <td>95.0</td>\n",
       "      <td>28.0</td>\n",
       "      <td>31.0</td>\n",
       "      <td>23.0</td>\n",
       "      <td>7.0</td>\n",
       "      <td>11.0</td>\n",
       "      <td>15.0</td>\n",
       "      <td>14.0</td>\n",
       "      <td>11.0</td>\n",
       "      <td>�127.1M</td>\n",
       "    </tr>\n",
       "    <tr>\n",
       "      <th>2</th>\n",
       "      <td>190871</td>\n",
       "      <td>Neymar Jr</td>\n",
       "      <td>26.0</td>\n",
       "      <td>https://cdn.sofifa.org/players/4/19/190871.png</td>\n",
       "      <td>Brazil</td>\n",
       "      <td>https://cdn.sofifa.org/flags/54.png</td>\n",
       "      <td>92.0</td>\n",
       "      <td>93</td>\n",
       "      <td>Paris Saint-Germain</td>\n",
       "      <td>https://cdn.sofifa.org/teams/2/light/73.png</td>\n",
       "      <td>...</td>\n",
       "      <td>94.0</td>\n",
       "      <td>27.0</td>\n",
       "      <td>24.0</td>\n",
       "      <td>33.0</td>\n",
       "      <td>9.0</td>\n",
       "      <td>9.0</td>\n",
       "      <td>15.0</td>\n",
       "      <td>15.0</td>\n",
       "      <td>11.0</td>\n",
       "      <td>�228.1M</td>\n",
       "    </tr>\n",
       "    <tr>\n",
       "      <th>3</th>\n",
       "      <td>193080</td>\n",
       "      <td>De Gea</td>\n",
       "      <td>27.0</td>\n",
       "      <td>https://cdn.sofifa.org/players/4/19/193080.png</td>\n",
       "      <td>Spain</td>\n",
       "      <td>https://cdn.sofifa.org/flags/45.png</td>\n",
       "      <td>91.0</td>\n",
       "      <td>93</td>\n",
       "      <td>Manchester United</td>\n",
       "      <td>https://cdn.sofifa.org/teams/2/light/11.png</td>\n",
       "      <td>...</td>\n",
       "      <td>68.0</td>\n",
       "      <td>15.0</td>\n",
       "      <td>21.0</td>\n",
       "      <td>13.0</td>\n",
       "      <td>90.0</td>\n",
       "      <td>85.0</td>\n",
       "      <td>87.0</td>\n",
       "      <td>88.0</td>\n",
       "      <td>94.0</td>\n",
       "      <td>�138.6M</td>\n",
       "    </tr>\n",
       "    <tr>\n",
       "      <th>4</th>\n",
       "      <td>192985</td>\n",
       "      <td>K. De Bruyne</td>\n",
       "      <td>27.0</td>\n",
       "      <td>https://cdn.sofifa.org/players/4/19/192985.png</td>\n",
       "      <td>Belgium</td>\n",
       "      <td>https://cdn.sofifa.org/flags/7.png</td>\n",
       "      <td>91.0</td>\n",
       "      <td>92</td>\n",
       "      <td>Manchester City</td>\n",
       "      <td>https://cdn.sofifa.org/teams/2/light/10.png</td>\n",
       "      <td>...</td>\n",
       "      <td>88.0</td>\n",
       "      <td>68.0</td>\n",
       "      <td>58.0</td>\n",
       "      <td>51.0</td>\n",
       "      <td>15.0</td>\n",
       "      <td>13.0</td>\n",
       "      <td>5.0</td>\n",
       "      <td>10.0</td>\n",
       "      <td>13.0</td>\n",
       "      <td>�196.4M</td>\n",
       "    </tr>\n",
       "  </tbody>\n",
       "</table>\n",
       "<p>5 rows × 88 columns</p>\n",
       "</div>"
      ],
      "text/plain": [
       "       ID               Name   Age  \\\n",
       "0  158023           L. Messi  31.0   \n",
       "1   20801  Cristiano Ronaldo  33.0   \n",
       "2  190871          Neymar Jr  26.0   \n",
       "3  193080             De Gea  27.0   \n",
       "4  192985       K. De Bruyne  27.0   \n",
       "\n",
       "                                            Photo Nationality  \\\n",
       "0  https://cdn.sofifa.org/players/4/19/158023.png   Argentina   \n",
       "1   https://cdn.sofifa.org/players/4/19/20801.png    Portugal   \n",
       "2  https://cdn.sofifa.org/players/4/19/190871.png      Brazil   \n",
       "3  https://cdn.sofifa.org/players/4/19/193080.png       Spain   \n",
       "4  https://cdn.sofifa.org/players/4/19/192985.png     Belgium   \n",
       "\n",
       "                                  Flag  Overall  Potential  \\\n",
       "0  https://cdn.sofifa.org/flags/52.png     94.0         94   \n",
       "1  https://cdn.sofifa.org/flags/38.png     94.0         94   \n",
       "2  https://cdn.sofifa.org/flags/54.png     92.0         93   \n",
       "3  https://cdn.sofifa.org/flags/45.png     91.0         93   \n",
       "4   https://cdn.sofifa.org/flags/7.png     91.0         92   \n",
       "\n",
       "                  Club                                     Club Logo  ...  \\\n",
       "0         FC Barcelona  https://cdn.sofifa.org/teams/2/light/241.png  ...   \n",
       "1             Juventus   https://cdn.sofifa.org/teams/2/light/45.png  ...   \n",
       "2  Paris Saint-Germain   https://cdn.sofifa.org/teams/2/light/73.png  ...   \n",
       "3    Manchester United   https://cdn.sofifa.org/teams/2/light/11.png  ...   \n",
       "4      Manchester City   https://cdn.sofifa.org/teams/2/light/10.png  ...   \n",
       "\n",
       "  Composure Marking  StandingTackle SlidingTackle  GKDiving  GKHandling  \\\n",
       "0      96.0    33.0            28.0          26.0       6.0        11.0   \n",
       "1      95.0    28.0            31.0          23.0       7.0        11.0   \n",
       "2      94.0    27.0            24.0          33.0       9.0         9.0   \n",
       "3      68.0    15.0            21.0          13.0      90.0        85.0   \n",
       "4      88.0    68.0            58.0          51.0      15.0        13.0   \n",
       "\n",
       "   GKKicking GKPositioning GKReflexes Release Clause  \n",
       "0       15.0          14.0        8.0        �226.5M  \n",
       "1       15.0          14.0       11.0        �127.1M  \n",
       "2       15.0          15.0       11.0        �228.1M  \n",
       "3       87.0          88.0       94.0        �138.6M  \n",
       "4        5.0          10.0       13.0        �196.4M  \n",
       "\n",
       "[5 rows x 88 columns]"
      ]
     },
     "execution_count": 3,
     "metadata": {},
     "output_type": "execute_result"
    }
   ],
   "source": [
    "data = data.drop('Unnamed: 0', axis=1)\n",
    "data.head()"
   ]
  },
  {
   "cell_type": "code",
   "execution_count": 9,
   "id": "4938fdbb",
   "metadata": {},
   "outputs": [
    {
     "data": {
      "text/plain": [
       "ID                  int64\n",
       "Name               object\n",
       "Age               float64\n",
       "Photo              object\n",
       "Nationality        object\n",
       "                   ...   \n",
       "GKHandling        float64\n",
       "GKKicking         float64\n",
       "GKPositioning     float64\n",
       "GKReflexes        float64\n",
       "Release Clause     object\n",
       "Length: 88, dtype: object"
      ]
     },
     "execution_count": 9,
     "metadata": {},
     "output_type": "execute_result"
    }
   ],
   "source": [
    "data.dtypes"
   ]
  },
  {
   "cell_type": "code",
   "execution_count": 4,
   "id": "c29b82ca",
   "metadata": {},
   "outputs": [],
   "source": [
    "# 1.Display columns containing null values and perform data imputations."
   ]
  },
  {
   "cell_type": "code",
   "execution_count": 7,
   "id": "b7557c39",
   "metadata": {},
   "outputs": [
    {
     "name": "stdout",
     "output_type": "stream",
     "text": [
      "ID                   0\n",
      "Name                 0\n",
      "Age                  1\n",
      "Photo                0\n",
      "Nationality          0\n",
      "                  ... \n",
      "GKHandling          48\n",
      "GKKicking           48\n",
      "GKPositioning       48\n",
      "GKReflexes          48\n",
      "Release Clause    1564\n",
      "Length: 88, dtype: int64\n"
     ]
    }
   ],
   "source": [
    "\n",
    "# Display the columns containing null values\n",
    "print(data.isnull().sum())"
   ]
  },
  {
   "cell_type": "code",
   "execution_count": 40,
   "id": "8c9ea588",
   "metadata": {},
   "outputs": [],
   "source": [
    "data['Name']=data['Name'].str.replace('�','')"
   ]
  },
  {
   "cell_type": "code",
   "execution_count": 42,
   "id": "489e31ac",
   "metadata": {},
   "outputs": [],
   "source": [
    "data['Club']=data['Club'].str.replace('�','')"
   ]
  },
  {
   "cell_type": "code",
   "execution_count": 43,
   "id": "15b5cfdb",
   "metadata": {},
   "outputs": [
    {
     "data": {
      "text/plain": [
       "0               FC Barcelona\n",
       "1                   Juventus\n",
       "2        Paris Saint-Germain\n",
       "3          Manchester United\n",
       "4            Manchester City\n",
       "                ...         \n",
       "18202        Crewe Alexandra\n",
       "18203         Trelleborgs FF\n",
       "18204       Cambridge United\n",
       "18205        Tranmere Rovers\n",
       "18206        Tranmere Rovers\n",
       "Name: Club, Length: 18207, dtype: object"
      ]
     },
     "execution_count": 43,
     "metadata": {},
     "output_type": "execute_result"
    }
   ],
   "source": [
    "data['Club']"
   ]
  },
  {
   "cell_type": "code",
   "execution_count": 11,
   "id": "3c94d3bc",
   "metadata": {},
   "outputs": [],
   "source": [
    "# In Release clause coulmn we have special characte rso we wnt to replace the ew do some operations"
   ]
  },
  {
   "cell_type": "code",
   "execution_count": 18,
   "id": "f8a1c116",
   "metadata": {},
   "outputs": [],
   "source": [
    "data['Release Clause']=data['Release Clause'].str.replace('�','')"
   ]
  },
  {
   "cell_type": "code",
   "execution_count": 22,
   "id": "47029ffe",
   "metadata": {},
   "outputs": [],
   "source": [
    "data['Release Clause']=data['Release Clause'].str.replace('M','')"
   ]
  },
  {
   "cell_type": "code",
   "execution_count": 24,
   "id": "342f3415",
   "metadata": {},
   "outputs": [],
   "source": [
    "data['Release Clause']=data['Release Clause'].str.replace('K','')"
   ]
  },
  {
   "cell_type": "code",
   "execution_count": 25,
   "id": "6385b992",
   "metadata": {},
   "outputs": [
    {
     "data": {
      "text/plain": [
       "0        226.5\n",
       "1        127.1\n",
       "2        228.1\n",
       "3        138.6\n",
       "4        196.4\n",
       "         ...  \n",
       "18202      143\n",
       "18203      113\n",
       "18204      165\n",
       "18205      143\n",
       "18206      165\n",
       "Name: Release Clause, Length: 18207, dtype: object"
      ]
     },
     "execution_count": 25,
     "metadata": {},
     "output_type": "execute_result"
    }
   ],
   "source": [
    "data['Release Clause']"
   ]
  },
  {
   "cell_type": "code",
   "execution_count": null,
   "id": "84445c40",
   "metadata": {},
   "outputs": [],
   "source": [
    "# Changing the datatypes of the selected columns"
   ]
  },
  {
   "cell_type": "code",
   "execution_count": 31,
   "id": "50c39bc3",
   "metadata": {},
   "outputs": [],
   "source": [
    "data['Release Clause'] = data['Release Clause'].astype('float')"
   ]
  },
  {
   "cell_type": "code",
   "execution_count": 34,
   "id": "a4905126",
   "metadata": {},
   "outputs": [
    {
     "data": {
      "text/plain": [
       "dtype('float64')"
      ]
     },
     "execution_count": 34,
     "metadata": {},
     "output_type": "execute_result"
    }
   ],
   "source": [
    "data['Release Clause'].dtypes"
   ]
  },
  {
   "cell_type": "code",
   "execution_count": 35,
   "id": "60d008fd",
   "metadata": {},
   "outputs": [],
   "source": [
    "# Perform data imputation for the 'Release Clause' column using the mean value\n",
    "data['Release Clause'].fillna(value=data['Release Clause'].mode()[0],inplace=True)"
   ]
  },
  {
   "cell_type": "code",
   "execution_count": 36,
   "id": "41cdf4b7",
   "metadata": {},
   "outputs": [
    {
     "name": "stdout",
     "output_type": "stream",
     "text": [
      "ID                 0\n",
      "Name               0\n",
      "Age                1\n",
      "Photo              0\n",
      "Nationality        0\n",
      "                  ..\n",
      "GKHandling        48\n",
      "GKKicking         48\n",
      "GKPositioning     48\n",
      "GKReflexes        48\n",
      "Release Clause     0\n",
      "Length: 88, dtype: int64\n"
     ]
    }
   ],
   "source": [
    "# Display the columns containing null values\n",
    "print(data.isnull().sum())"
   ]
  },
  {
   "cell_type": "markdown",
   "id": "d255e327",
   "metadata": {},
   "source": [
    "# 2. Plot graph depicting 10 Most Common Nationalities"
   ]
  },
  {
   "cell_type": "code",
   "execution_count": 38,
   "id": "fa0ede74",
   "metadata": {},
   "outputs": [
    {
     "data": {
      "image/png": "[encoded data removed]",
      "text/plain": [
       "<Figure size 432x288 with 1 Axes>"
      ]
     },
     "metadata": {
      "needs_background": "light"
     },
     "output_type": "display_data"
    }
   ],
   "source": [
    "\n",
    "\n",
    "# Get the count of players by nationality\n",
    "nationalities = data['Nationality'].value_counts().head(10)\n",
    "\n",
    "# Plot the bar graph\n",
    "plt.bar(nationalities.index, nationalities.values)\n",
    "\n",
    "# Add title and axis labels\n",
    "plt.title('10 Most Common Nationalities in FIFA19')\n",
    "plt.xlabel('Nationality')\n",
    "plt.ylabel('Number of Players')\n",
    "\n",
    "# Rotate the x-axis labels for better readability\n",
    "plt.xticks(rotation=45)\n",
    "\n",
    "# Show the graph\n",
    "plt.show()\n"
   ]
  },
  {
   "cell_type": "markdown",
   "id": "0460c6f2",
   "metadata": {},
   "source": [
    "# 3. Print the List of players who has “Potential” Greater Than 90."
   ]
  },
  {
   "cell_type": "code",
   "execution_count": 44,
   "id": "86f0a667",
   "metadata": {},
   "outputs": [
    {
     "name": "stdout",
     "output_type": "stream",
     "text": [
      "                   Name                 Club  Nationality  Overall  Potential\n",
      "0              L. Messi         FC Barcelona    Argentina     94.0         94\n",
      "1     Cristiano Ronaldo             Juventus     Portugal     94.0         94\n",
      "2             Neymar Jr  Paris Saint-Germain       Brazil     92.0         93\n",
      "3                De Gea    Manchester United        Spain     91.0         93\n",
      "4          K. De Bruyne      Manchester City      Belgium     91.0         92\n",
      "5             E. Hazard              Chelsea      Belgium     91.0         91\n",
      "6             L. Modri?          Real Madrid      Croatia     91.0         91\n",
      "7              L. Surez         FC Barcelona      Uruguay     91.0         91\n",
      "8          Sergio Ramos          Real Madrid        Spain     91.0         91\n",
      "9              J. Oblak       Atltico Madrid     Slovenia     90.0         93\n",
      "15            P. Dybala             Juventus    Argentina     89.0         94\n",
      "16              H. Kane    Tottenham Hotspur      England     89.0         91\n",
      "18        M. ter Stegen         FC Barcelona      Germany      NaN         92\n",
      "25             K. Mbapp  Paris Saint-Germain       France     88.0         95\n",
      "30                 Isco          Real Madrid        Spain     88.0         91\n",
      "31           C. Eriksen    Tottenham Hotspur      Denmark     88.0         91\n",
      "42            S. Umtiti         FC Barcelona       France     87.0         92\n",
      "45             P. Pogba    Manchester United       France     87.0         91\n",
      "55               L. San      Manchester City      Germany     86.0         92\n",
      "56       Bernardo Silva      Manchester City     Portugal     86.0         91\n",
      "62            R. Varane          Real Madrid       France     86.0         91\n",
      "77           M. kriniar                Inter     Slovakia     85.0         92\n",
      "79        Marco Asensio          Real Madrid        Spain     85.0         92\n",
      "155            O. Dembl         FC Barcelona       France     83.0         92\n",
      "156       Gabriel Jesus      Manchester City       Brazil     83.0         92\n",
      "177                Kepa              Chelsea        Spain     83.0         91\n",
      "226          M. de Ligt                 Ajax  Netherlands     82.0         91\n",
      "229       G. Donnarumma                Milan        Italy     82.0         93\n",
      "1143      Vincius Jnior          Real Madrid       Brazil     77.0         92\n"
     ]
    }
   ],
   "source": [
    "# Filter the data for players with Potential greater than 90\n",
    "potential_90 = data[data['Potential'] > 90]\n",
    "\n",
    "# Select the columns you want to display in the list\n",
    "columns = ['Name', 'Club', 'Nationality', 'Overall', 'Potential']\n",
    "\n",
    "# Display the list of players with Potential greater than 90\n",
    "print(potential_90[columns])\n"
   ]
  },
  {
   "cell_type": "markdown",
   "id": "4aa193d3",
   "metadata": {},
   "source": [
    "# 4.\tPlot graph to display clubs and number of players playing for them.  Display top 10 based on the high number of players."
   ]
  },
  {
   "cell_type": "code",
   "execution_count": 53,
   "id": "ac9b28c5",
   "metadata": {},
   "outputs": [
    {
     "data": {
      "image/png": "[encoded data removed]",
      "text/plain": [
       "<Figure size 1080x1080 with 1 Axes>"
      ]
     },
     "metadata": {
      "needs_background": "light"
     },
     "output_type": "display_data"
    }
   ],
   "source": [
    "plt.figure(figsize=(15, 15))\n",
    "# Group the dataset by club and count the number of players in each club\n",
    "club_counts = data.groupby('Club')['Club'].count()\n",
    "\n",
    "# Get the top 10 clubs based on the number of players\n",
    "top_clubs = club_counts.sort_values(ascending=False)[:10]\n",
    "\n",
    "# Create a bar plot to display the top 10 clubs and the number of players playing for them\n",
    "plt.bar(top_clubs.index, top_clubs.values)\n",
    "\n",
    "# Add labels and title to the plot\n",
    "plt.xlabel('Club')\n",
    "plt.ylabel('Number of Players')\n",
    "plt.title('Top 10 Clubs by Number of Players')\n",
    "\n",
    "# Show the plot\n",
    "plt.show()\n"
   ]
  },
  {
   "cell_type": "markdown",
   "id": "f5de7134",
   "metadata": {},
   "source": [
    "# 1.\tDisplay player details having release Clause more than 2,00,000."
   ]
  },
  {
   "cell_type": "code",
   "execution_count": 63,
   "id": "00c2cf2e",
   "metadata": {},
   "outputs": [
    {
     "name": "stdout",
     "output_type": "stream",
     "text": [
      "              Name                 Club          Nationality  Release Clause\n",
      "0         L. Messi         FC Barcelona            Argentina           226.5\n",
      "2        Neymar Jr  Paris Saint-Germain               Brazil           228.1\n",
      "1294   A. Bizzarri               Foggia            Argentina           840.0\n",
      "1720       Iraizoz            Girona FC                Spain           945.0\n",
      "1848         Cssio           Al Taawoun               Brazil           743.0\n",
      "...            ...                  ...                  ...             ...\n",
      "17904     M. Wolfe             Barnsley              England           220.0\n",
      "17930     L. Brown           Motherwell             Scotland           220.0\n",
      "17943  A. O'Reilly    Preston North End  Republic of Ireland           203.0\n",
      "17956    C. Murphy            Cork City  Republic of Ireland           218.0\n",
      "17970    F. Murray            Hibernian             Scotland           220.0\n",
      "\n",
      "[6388 rows x 4 columns]\n"
     ]
    }
   ],
   "source": [
    "# Filter the dataset to include only players with a release clause greater than 2,00,000\n",
    "filtered_df = data[data['Release Clause'] > 200]\n",
    "\n",
    "# Display the player details for the filtered dataset\n",
    "print(filtered_df[['Name','Club','Nationality','Release Clause']])\n"
   ]
  },
  {
   "cell_type": "markdown",
   "id": "60d7195e",
   "metadata": {},
   "source": [
    "# 2.\tDisplay pie chart of “Nationality and number of players”."
   ]
  },
  {
   "cell_type": "code",
   "execution_count": 58,
   "id": "d058192c",
   "metadata": {},
   "outputs": [
    {
     "data": {
      "image/png": "[encoded data removed]",
      "text/plain": [
       "<Figure size 432x288 with 1 Axes>"
      ]
     },
     "metadata": {},
     "output_type": "display_data"
    }
   ],
   "source": [
    "\n",
    "# Get the count of players by nationality\n",
    "nationalities = data['Nationality'].value_counts().head(10)\n",
    "\n",
    "# Plot the pie chart\n",
    "plt.pie(nationalities.values, labels=nationalities.index, autopct='%1.1f%%')\n",
    "\n",
    "# Add title\n",
    "plt.title('Nationality and Number of Players in FIFA19')\n",
    "\n",
    "# Show the graph\n",
    "plt.show()\n"
   ]
  },
  {
   "cell_type": "markdown",
   "id": "f9830e1d",
   "metadata": {},
   "source": [
    "# 3.\tDisplay list of players whose contract expires last."
   ]
  },
  {
   "cell_type": "code",
   "execution_count": 59,
   "id": "c47dfec1",
   "metadata": {},
   "outputs": [
    {
     "name": "stdout",
     "output_type": "stream",
     "text": [
      "                 Name                   Club          Nationality  \\\n",
      "10355     Kim Min Woo       Sangju Sangmu FC       Korea Republic   \n",
      "12591  Shin Chang Moo       Sangju Sangmu FC       Korea Republic   \n",
      "10674  Shim Dong Woon       Sangju Sangmu FC       Korea Republic   \n",
      "15412  Lee Sang Hyeob       Sangju Sangmu FC       Korea Republic   \n",
      "14619   Baek Dong Gyu       Sangju Sangmu FC       Korea Republic   \n",
      "13811       C. Duffus           Waterford FC  Republic of Ireland   \n",
      "15580         R. Hale             Derry City  Republic of Ireland   \n",
      "12259   B. Purrington          AFC Wimbledon              England   \n",
      "1045         A. Turan  Medipol Ba?ak?ehir FK               Turkey   \n",
      "620         L. Karius            Be?ikta? JK              Germany   \n",
      "\n",
      "      Contract Valid Until  \n",
      "10355         Oct 14, 2019  \n",
      "12591         Oct 14, 2019  \n",
      "10674         Oct 14, 2019  \n",
      "15412         Oct 14, 2019  \n",
      "14619         Oct 14, 2019  \n",
      "13811         Nov 30, 2018  \n",
      "15580         Nov 30, 2018  \n",
      "12259          May 4, 2019  \n",
      "1045          May 31, 2020  \n",
      "620           May 31, 2020  \n"
     ]
    }
   ],
   "source": [
    "\n",
    "\n",
    "# Sort the data by contract expiration date\n",
    "sorted_df = data.sort_values('Contract Valid Until', ascending=False)\n",
    "\n",
    "# Select the columns you want to display in the list\n",
    "columns = ['Name', 'Club', 'Nationality', 'Contract Valid Until']\n",
    "\n",
    "# Display the list of players with the latest contract expiration date\n",
    "print(sorted_df[columns].head(10))\n"
   ]
  },
  {
   "cell_type": "markdown",
   "id": "1d202929",
   "metadata": {},
   "source": [
    "# 4.\tPlot graph depicting potential vs wage for Manchester United Club."
   ]
  },
  {
   "cell_type": "code",
   "execution_count": 61,
   "id": "6ec8c56b",
   "metadata": {},
   "outputs": [],
   "source": [
    "data['Wage'] = data['Wage'].astype(str).str.replace('�', '')"
   ]
  },
  {
   "cell_type": "code",
   "execution_count": 62,
   "id": "0623e054",
   "metadata": {},
   "outputs": [
    {
     "data": {
      "image/png": "[encoded data removed]",
      "text/plain": [
       "<Figure size 432x288 with 1 Axes>"
      ]
     },
     "metadata": {
      "needs_background": "light"
     },
     "output_type": "display_data"
    }
   ],
   "source": [
    "\n",
    "# Select the data for Manchester United club\n",
    "man_utd = data[data['Club'] == 'Manchester United']\n",
    "\n",
    "# Create the scatter plot of Potential vs Wage\n",
    "plt.scatter(man_utd['Potential'], man_utd['Wage'])\n",
    "\n",
    "# Add title and axis labels\n",
    "plt.title('Potential vs Wage for Manchester United Club in FIFA19')\n",
    "plt.xlabel('Potential')\n",
    "plt.ylabel('Wage')\n",
    "\n",
    "# Show the graph\n",
    "plt.show()\n"
   ]
  },
  {
   "cell_type": "code",
   "execution_count": null,
   "id": "bb57e9fb",
   "metadata": {},
   "outputs": [],
   "source": []
  }
 ],
 "metadata": {
  "kernelspec": {
   "display_name": "Python 3",
   "language": "python",
   "name": "python3"
  },
  "language_info": {
   "codemirror_mode": {
    "name": "ipython",
    "version": 3
   },
   "file_extension": ".py",
   "mimetype": "text/x-python",
   "name": "python",
   "nbconvert_exporter": "python",
   "pygments_lexer": "ipython3",
   "version": "3.8.8"
  }
 },
 "nbformat": 4,
 "nbformat_minor": 5
}
