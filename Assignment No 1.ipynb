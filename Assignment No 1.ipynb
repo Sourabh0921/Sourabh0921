{
 "cells": [
  {
   "cell_type": "code",
   "execution_count": 1,
   "id": "17c0c56f",
   "metadata": {},
   "outputs": [],
   "source": [
    "# Q1 Create a 3×3 numpy array of all True’s "
   ]
  },
  {
   "cell_type": "code",
   "execution_count": 9,
   "id": "346beae2",
   "metadata": {},
   "outputs": [],
   "source": [
    "import numpy as np\n",
    "x=np.arange(9).reshape(3,3)"
   ]
  },
  {
   "cell_type": "code",
   "execution_count": 12,
   "id": "0b1b2af1",
   "metadata": {},
   "outputs": [
    {
     "data": {
      "text/plain": [
       "array([[0, 1, 2],\n",
       "       [3, 4, 5],\n",
       "       [6, 7, 8]])"
      ]
     },
     "execution_count": 12,
     "metadata": {},
     "output_type": "execute_result"
    }
   ],
   "source": [
    "x"
   ]
  },
  {
   "cell_type": "code",
   "execution_count": 15,
   "id": "3a6b49d5",
   "metadata": {},
   "outputs": [
    {
     "data": {
      "text/plain": [
       "array([[ True,  True,  True],\n",
       "       [ True,  True,  True],\n",
       "       [ True,  True,  True]])"
      ]
     },
     "execution_count": 15,
     "metadata": {},
     "output_type": "execute_result"
    }
   ],
   "source": [
    "np.full((3, 3), True)"
   ]
  },
  {
   "cell_type": "code",
   "execution_count": 17,
   "id": "a3dedf47",
   "metadata": {},
   "outputs": [
    {
     "data": {
      "text/plain": [
       "array([0, 1, 2, 3, 4, 5, 6, 7, 8, 9])"
      ]
     },
     "execution_count": 17,
     "metadata": {},
     "output_type": "execute_result"
    }
   ],
   "source": [
    "# Q2 Extract all odd numbers from arrays \n",
    "arr = np.array([0, 1, 2, 3, 4, 5, 6, 7, 8, 9])\n",
    "arr"
   ]
  },
  {
   "cell_type": "code",
   "execution_count": 18,
   "id": "827aadad",
   "metadata": {},
   "outputs": [
    {
     "data": {
      "text/plain": [
       "array([1, 3, 5, 7, 9])"
      ]
     },
     "execution_count": 18,
     "metadata": {},
     "output_type": "execute_result"
    }
   ],
   "source": [
    "arr[arr % 2 == 1]"
   ]
  },
  {
   "cell_type": "code",
   "execution_count": 19,
   "id": "83a1e94a",
   "metadata": {},
   "outputs": [],
   "source": [
    "# Q3 Replace all even numbers in above array with -5 "
   ]
  },
  {
   "cell_type": "code",
   "execution_count": 62,
   "id": "c673a109",
   "metadata": {},
   "outputs": [
    {
     "data": {
      "text/plain": [
       "array([-5,  1, -5,  3, -5,  5, -5,  7, -5,  9])"
      ]
     },
     "execution_count": 62,
     "metadata": {},
     "output_type": "execute_result"
    }
   ],
   "source": [
    "arr[arr%2==0]= -5\n",
    "arr"
   ]
  },
  {
   "cell_type": "code",
   "execution_count": 27,
   "id": "56ad3425",
   "metadata": {},
   "outputs": [
    {
     "data": {
      "text/plain": [
       "array([0, 1, 2, 3, 4, 5, 6, 7, 8, 9])"
      ]
     },
     "execution_count": 27,
     "metadata": {},
     "output_type": "execute_result"
    }
   ],
   "source": [
    "# Q4 Reshape an array \n",
    "\n",
    "a=np.array([0,1,2,3,4,5,6,7,8,9])\n",
    "a\n"
   ]
  },
  {
   "cell_type": "code",
   "execution_count": 36,
   "id": "89105f26",
   "metadata": {},
   "outputs": [
    {
     "data": {
      "text/plain": [
       "array([[0, 1, 2, 3, 4],\n",
       "       [5, 6, 7, 8, 9]])"
      ]
     },
     "execution_count": 36,
     "metadata": {},
     "output_type": "execute_result"
    }
   ],
   "source": [
    "a.reshape(2,5)"
   ]
  },
  {
   "cell_type": "code",
   "execution_count": 37,
   "id": "9db3e6e5",
   "metadata": {},
   "outputs": [
    {
     "name": "stdout",
     "output_type": "stream",
     "text": [
      "[1 2 3 2 3 4 3 4 5 6]\n",
      "[ 7  2 10  2  7  4  9  4  9  8]\n"
     ]
    }
   ],
   "source": [
    "# Q5 How to get the positions where elements of two arrays match \n",
    "\n",
    "a = np.array([1,2,3,2,3,4,3,4,5,6])\n",
    "print(a)\n",
    "b = np.array([7,2,10,2,7,4,9,4,9,8])\n",
    "print(b)"
   ]
  },
  {
   "cell_type": "code",
   "execution_count": 39,
   "id": "593b4496",
   "metadata": {},
   "outputs": [
    {
     "data": {
      "text/plain": [
       "(array([1, 3, 5, 7], dtype=int64),)"
      ]
     },
     "execution_count": 39,
     "metadata": {},
     "output_type": "execute_result"
    }
   ],
   "source": [
    "np.where(np.equal(a,b))"
   ]
  },
  {
   "cell_type": "code",
   "execution_count": 53,
   "id": "9237473e",
   "metadata": {},
   "outputs": [
    {
     "data": {
      "text/plain": [
       "array([[3, 2, 1],\n",
       "       [6, 5, 4],\n",
       "       [9, 8, 7]])"
      ]
     },
     "execution_count": 53,
     "metadata": {},
     "output_type": "execute_result"
    }
   ],
   "source": [
    "# Q6 Swap columns 1 and 2 in the array \n",
    "\n",
    "s1=np.array([[1,2,3],[4,5,6],[7,8,9]])\n",
    "'''s1[:, [1,0]]= s1[:,[0,1]]\n",
    "print(s1)'''\n",
    "s1[:,::-1]\n"
   ]
  },
  {
   "cell_type": "code",
   "execution_count": 55,
   "id": "628d270e",
   "metadata": {},
   "outputs": [
    {
     "data": {
      "text/plain": [
       "array([[1, 2, 3],\n",
       "       [4, 5, 6],\n",
       "       [7, 8, 9]])"
      ]
     },
     "execution_count": 55,
     "metadata": {},
     "output_type": "execute_result"
    }
   ],
   "source": [
    "# Q7 Reversing the columns of a 2D array \n",
    "\n",
    "rev=np.array([[1,2,3],[4,5,6],[7,8,9]])\n",
    "rev\n"
   ]
  },
  {
   "cell_type": "code",
   "execution_count": 57,
   "id": "029a812d",
   "metadata": {},
   "outputs": [
    {
     "name": "stdout",
     "output_type": "stream",
     "text": [
      "Reversing the columns [[3 2 1]\n",
      " [6 5 4]\n",
      " [9 8 7]]\n"
     ]
    }
   ],
   "source": [
    "# reversing column order in matrix\n",
    "flipped_arr = np.fliplr(rev)\n",
    "print(\"Reversing the columns\",flipped_arr)"
   ]
  },
  {
   "cell_type": "code",
   "execution_count": 58,
   "id": "02ff36ce",
   "metadata": {},
   "outputs": [],
   "source": [
    "# Q8 Create a 2D array of shape 5x3 to contain random decimal numbers between 5 and 10 "
   ]
  },
  {
   "cell_type": "code",
   "execution_count": 66,
   "id": "020e6a69",
   "metadata": {},
   "outputs": [
    {
     "name": "stdout",
     "output_type": "stream",
     "text": [
      "[[7.70587183 7.84840555 6.30370959]\n",
      " [5.9880059  7.08671926 8.88991724]\n",
      " [7.49945281 5.68842961 8.15223174]\n",
      " [8.8822173  8.2333568  6.45578564]\n",
      " [7.14391145 7.03576883 7.62166338]]\n"
     ]
    }
   ],
   "source": [
    "arr=np.arange(9).reshape(3,3)\n",
    "x1=np.random.uniform(5,10,size=(5,3))# 2D Array\n",
    "print(x1)"
   ]
  },
  {
   "cell_type": "code",
   "execution_count": 67,
   "id": "cd5e9f1a",
   "metadata": {},
   "outputs": [],
   "source": [
    "# Q9 Create a 2d array with 1 on the border and 0 inside "
   ]
  },
  {
   "cell_type": "code",
   "execution_count": 68,
   "id": "aede26a5",
   "metadata": {},
   "outputs": [
    {
     "name": "stdout",
     "output_type": "stream",
     "text": [
      "Original array [[1. 1. 1. 1. 1.]\n",
      " [1. 1. 1. 1. 1.]\n",
      " [1. 1. 1. 1. 1.]\n",
      " [1. 1. 1. 1. 1.]\n",
      " [1. 1. 1. 1. 1.]]\n",
      "1 on the border and 0 inside in the array\n",
      "[[1. 1. 1. 1. 1.]\n",
      " [1. 0. 0. 0. 1.]\n",
      " [1. 0. 0. 0. 1.]\n",
      " [1. 0. 0. 0. 1.]\n",
      " [1. 1. 1. 1. 1.]]\n"
     ]
    }
   ],
   "source": [
    "x=np.ones((5,5))\n",
    "print(\"Original array\",x)\n",
    "print(\"1 on the border and 0 inside in the array\")\n",
    "x[1:-1,1:-1] = 0\n",
    "print(x)"
   ]
  },
  {
   "cell_type": "code",
   "execution_count": 70,
   "id": "ba7edc6c",
   "metadata": {},
   "outputs": [
    {
     "data": {
      "text/plain": [
       "array([12, 14, 11])"
      ]
     },
     "execution_count": 70,
     "metadata": {},
     "output_type": "execute_result"
    }
   ],
   "source": [
    "# Q10 If \n",
    "# Write script to produce the desired output. Use of fancy indexing is must.  \n",
    "x=np.array([[9,1,12,3],[14,15,6,7],[18,9,10,11]])\n",
    "x\n",
    "row=np.array([0,1,2])\n",
    "col=np.array([2,0,3])\n",
    "x[row,col]\n"
   ]
  },
  {
   "cell_type": "code",
   "execution_count": null,
   "id": "ee685be7",
   "metadata": {},
   "outputs": [],
   "source": []
  }
 ],
 "metadata": {
  "kernelspec": {
   "display_name": "Python 3",
   "language": "python",
   "name": "python3"
  },
  "language_info": {
   "codemirror_mode": {
    "name": "ipython",
    "version": 3
   },
   "file_extension": ".py",
   "mimetype": "text/x-python",
   "name": "python",
   "nbconvert_exporter": "python",
   "pygments_lexer": "ipython3",
   "version": "3.8.8"
  }
 },
 "nbformat": 4,
 "nbformat_minor": 5
}
