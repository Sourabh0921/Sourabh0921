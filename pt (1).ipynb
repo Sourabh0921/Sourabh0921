{
 "cells": [
  {
   "cell_type": "code",
   "execution_count": 62,
   "id": "e4a0864c",
   "metadata": {},
   "outputs": [],
   "source": [
    "import pandas as pd\n",
    "import numpy as np\n",
    "import matplotlib.pyplot as plt\n",
    "import seaborn as sns\n",
    "import warnings\n",
    "warnings.filterwarnings('ignore')"
   ]
  },
  {
   "cell_type": "code",
   "execution_count": 63,
   "id": "9f74015a",
   "metadata": {},
   "outputs": [
    {
     "data": {
      "text/html": [
       "<div>\n",
       "<style scoped>\n",
       "    .dataframe tbody tr th:only-of-type {\n",
       "        vertical-align: middle;\n",
       "    }\n",
       "\n",
       "    .dataframe tbody tr th {\n",
       "        vertical-align: top;\n",
       "    }\n",
       "\n",
       "    .dataframe thead th {\n",
       "        text-align: right;\n",
       "    }\n",
       "</style>\n",
       "<table border=\"1\" class=\"dataframe\">\n",
       "  <thead>\n",
       "    <tr style=\"text-align: right;\">\n",
       "      <th></th>\n",
       "      <th>user_id</th>\n",
       "      <th>country</th>\n",
       "      <th>sex</th>\n",
       "      <th>height</th>\n",
       "      <th>weight</th>\n",
       "      <th>age</th>\n",
       "      <th>years_cl</th>\n",
       "      <th>date_first</th>\n",
       "      <th>date_last</th>\n",
       "      <th>grades_count</th>\n",
       "      <th>grades_first</th>\n",
       "      <th>grades_last</th>\n",
       "      <th>grades_max</th>\n",
       "      <th>grades_mean</th>\n",
       "      <th>year_first</th>\n",
       "      <th>year_last</th>\n",
       "    </tr>\n",
       "  </thead>\n",
       "  <tbody>\n",
       "    <tr>\n",
       "      <th>0</th>\n",
       "      <td>1</td>\n",
       "      <td>SWE</td>\n",
       "      <td>0</td>\n",
       "      <td>177</td>\n",
       "      <td>73</td>\n",
       "      <td>41.0</td>\n",
       "      <td>21</td>\n",
       "      <td>1999-02-06 23:00:00</td>\n",
       "      <td>2001-07-31 22:00:00</td>\n",
       "      <td>84</td>\n",
       "      <td>36</td>\n",
       "      <td>55</td>\n",
       "      <td>62</td>\n",
       "      <td>46.750000</td>\n",
       "      <td>1999</td>\n",
       "      <td>2001</td>\n",
       "    </tr>\n",
       "    <tr>\n",
       "      <th>1</th>\n",
       "      <td>3</td>\n",
       "      <td>SWE</td>\n",
       "      <td>0</td>\n",
       "      <td>180</td>\n",
       "      <td>78</td>\n",
       "      <td>44.0</td>\n",
       "      <td>22</td>\n",
       "      <td>1999-03-31 22:00:00</td>\n",
       "      <td>2000-07-19 22:00:00</td>\n",
       "      <td>12</td>\n",
       "      <td>53</td>\n",
       "      <td>51</td>\n",
       "      <td>59</td>\n",
       "      <td>52.833333</td>\n",
       "      <td>1999</td>\n",
       "      <td>2000</td>\n",
       "    </tr>\n",
       "    <tr>\n",
       "      <th>2</th>\n",
       "      <td>4</td>\n",
       "      <td>SWE</td>\n",
       "      <td>1</td>\n",
       "      <td>165</td>\n",
       "      <td>58</td>\n",
       "      <td>33.0</td>\n",
       "      <td>16</td>\n",
       "      <td>2004-06-30 22:00:00</td>\n",
       "      <td>2009-05-26 22:00:00</td>\n",
       "      <td>119</td>\n",
       "      <td>53</td>\n",
       "      <td>49</td>\n",
       "      <td>64</td>\n",
       "      <td>53.890756</td>\n",
       "      <td>2004</td>\n",
       "      <td>2009</td>\n",
       "    </tr>\n",
       "    <tr>\n",
       "      <th>3</th>\n",
       "      <td>10</td>\n",
       "      <td>SWE</td>\n",
       "      <td>0</td>\n",
       "      <td>167</td>\n",
       "      <td>63</td>\n",
       "      <td>52.0</td>\n",
       "      <td>25</td>\n",
       "      <td>2000-01-14 23:00:00</td>\n",
       "      <td>2017-06-01 22:00:00</td>\n",
       "      <td>298</td>\n",
       "      <td>53</td>\n",
       "      <td>49</td>\n",
       "      <td>63</td>\n",
       "      <td>49.406040</td>\n",
       "      <td>2000</td>\n",
       "      <td>2017</td>\n",
       "    </tr>\n",
       "    <tr>\n",
       "      <th>4</th>\n",
       "      <td>16</td>\n",
       "      <td>NOR</td>\n",
       "      <td>0</td>\n",
       "      <td>177</td>\n",
       "      <td>68</td>\n",
       "      <td>44.0</td>\n",
       "      <td>21</td>\n",
       "      <td>1998-02-27 23:00:00</td>\n",
       "      <td>2010-05-13 22:00:00</td>\n",
       "      <td>5</td>\n",
       "      <td>53</td>\n",
       "      <td>49</td>\n",
       "      <td>53</td>\n",
       "      <td>51.400000</td>\n",
       "      <td>1998</td>\n",
       "      <td>2010</td>\n",
       "    </tr>\n",
       "    <tr>\n",
       "      <th>...</th>\n",
       "      <td>...</td>\n",
       "      <td>...</td>\n",
       "      <td>...</td>\n",
       "      <td>...</td>\n",
       "      <td>...</td>\n",
       "      <td>...</td>\n",
       "      <td>...</td>\n",
       "      <td>...</td>\n",
       "      <td>...</td>\n",
       "      <td>...</td>\n",
       "      <td>...</td>\n",
       "      <td>...</td>\n",
       "      <td>...</td>\n",
       "      <td>...</td>\n",
       "      <td>...</td>\n",
       "      <td>...</td>\n",
       "    </tr>\n",
       "    <tr>\n",
       "      <th>10922</th>\n",
       "      <td>66987</td>\n",
       "      <td>ESP</td>\n",
       "      <td>0</td>\n",
       "      <td>194</td>\n",
       "      <td>83</td>\n",
       "      <td>33.0</td>\n",
       "      <td>5</td>\n",
       "      <td>2015-05-01 22:00:00</td>\n",
       "      <td>2017-09-03 22:00:00</td>\n",
       "      <td>27</td>\n",
       "      <td>35</td>\n",
       "      <td>44</td>\n",
       "      <td>49</td>\n",
       "      <td>39.666667</td>\n",
       "      <td>2015</td>\n",
       "      <td>2017</td>\n",
       "    </tr>\n",
       "    <tr>\n",
       "      <th>10923</th>\n",
       "      <td>66988</td>\n",
       "      <td>USA</td>\n",
       "      <td>0</td>\n",
       "      <td>183</td>\n",
       "      <td>78</td>\n",
       "      <td>22.0</td>\n",
       "      <td>1</td>\n",
       "      <td>2017-09-03 22:00:00</td>\n",
       "      <td>2017-09-06 22:00:00</td>\n",
       "      <td>2</td>\n",
       "      <td>33</td>\n",
       "      <td>28</td>\n",
       "      <td>33</td>\n",
       "      <td>30.500000</td>\n",
       "      <td>2017</td>\n",
       "      <td>2017</td>\n",
       "    </tr>\n",
       "    <tr>\n",
       "      <th>10924</th>\n",
       "      <td>67009</td>\n",
       "      <td>other</td>\n",
       "      <td>0</td>\n",
       "      <td>165</td>\n",
       "      <td>63</td>\n",
       "      <td>41.0</td>\n",
       "      <td>20</td>\n",
       "      <td>2017-09-09 22:00:00</td>\n",
       "      <td>2003-06-19 22:00:00</td>\n",
       "      <td>35</td>\n",
       "      <td>53</td>\n",
       "      <td>46</td>\n",
       "      <td>59</td>\n",
       "      <td>45.800000</td>\n",
       "      <td>2017</td>\n",
       "      <td>2003</td>\n",
       "    </tr>\n",
       "    <tr>\n",
       "      <th>10925</th>\n",
       "      <td>67019</td>\n",
       "      <td>NOR</td>\n",
       "      <td>0</td>\n",
       "      <td>172</td>\n",
       "      <td>73</td>\n",
       "      <td>26.0</td>\n",
       "      <td>4</td>\n",
       "      <td>2017-06-14 22:00:00</td>\n",
       "      <td>2017-08-11 22:00:00</td>\n",
       "      <td>7</td>\n",
       "      <td>44</td>\n",
       "      <td>46</td>\n",
       "      <td>46</td>\n",
       "      <td>42.714286</td>\n",
       "      <td>2017</td>\n",
       "      <td>2017</td>\n",
       "    </tr>\n",
       "    <tr>\n",
       "      <th>10926</th>\n",
       "      <td>67020</td>\n",
       "      <td>DEU</td>\n",
       "      <td>0</td>\n",
       "      <td>178</td>\n",
       "      <td>78</td>\n",
       "      <td>24.0</td>\n",
       "      <td>12</td>\n",
       "      <td>2017-03-03 23:00:00</td>\n",
       "      <td>2017-07-14 22:00:00</td>\n",
       "      <td>10</td>\n",
       "      <td>33</td>\n",
       "      <td>36</td>\n",
       "      <td>55</td>\n",
       "      <td>41.500000</td>\n",
       "      <td>2017</td>\n",
       "      <td>2017</td>\n",
       "    </tr>\n",
       "  </tbody>\n",
       "</table>\n",
       "<p>10927 rows × 16 columns</p>\n",
       "</div>"
      ],
      "text/plain": [
       "       user_id country  sex  height  weight   age  years_cl  \\\n",
       "0            1     SWE    0     177      73  41.0        21   \n",
       "1            3     SWE    0     180      78  44.0        22   \n",
       "2            4     SWE    1     165      58  33.0        16   \n",
       "3           10     SWE    0     167      63  52.0        25   \n",
       "4           16     NOR    0     177      68  44.0        21   \n",
       "...        ...     ...  ...     ...     ...   ...       ...   \n",
       "10922    66987     ESP    0     194      83  33.0         5   \n",
       "10923    66988     USA    0     183      78  22.0         1   \n",
       "10924    67009   other    0     165      63  41.0        20   \n",
       "10925    67019     NOR    0     172      73  26.0         4   \n",
       "10926    67020     DEU    0     178      78  24.0        12   \n",
       "\n",
       "                date_first            date_last  grades_count  grades_first  \\\n",
       "0      1999-02-06 23:00:00  2001-07-31 22:00:00            84            36   \n",
       "1      1999-03-31 22:00:00  2000-07-19 22:00:00            12            53   \n",
       "2      2004-06-30 22:00:00  2009-05-26 22:00:00           119            53   \n",
       "3      2000-01-14 23:00:00  2017-06-01 22:00:00           298            53   \n",
       "4      1998-02-27 23:00:00  2010-05-13 22:00:00             5            53   \n",
       "...                    ...                  ...           ...           ...   \n",
       "10922  2015-05-01 22:00:00  2017-09-03 22:00:00            27            35   \n",
       "10923  2017-09-03 22:00:00  2017-09-06 22:00:00             2            33   \n",
       "10924  2017-09-09 22:00:00  2003-06-19 22:00:00            35            53   \n",
       "10925  2017-06-14 22:00:00  2017-08-11 22:00:00             7            44   \n",
       "10926  2017-03-03 23:00:00  2017-07-14 22:00:00            10            33   \n",
       "\n",
       "       grades_last  grades_max  grades_mean  year_first  year_last  \n",
       "0               55          62    46.750000        1999       2001  \n",
       "1               51          59    52.833333        1999       2000  \n",
       "2               49          64    53.890756        2004       2009  \n",
       "3               49          63    49.406040        2000       2017  \n",
       "4               49          53    51.400000        1998       2010  \n",
       "...            ...         ...          ...         ...        ...  \n",
       "10922           44          49    39.666667        2015       2017  \n",
       "10923           28          33    30.500000        2017       2017  \n",
       "10924           46          59    45.800000        2017       2003  \n",
       "10925           46          46    42.714286        2017       2017  \n",
       "10926           36          55    41.500000        2017       2017  \n",
       "\n",
       "[10927 rows x 16 columns]"
      ]
     },
     "execution_count": 63,
     "metadata": {},
     "output_type": "execute_result"
    }
   ],
   "source": [
    "df = pd.read_csv(\"Z:\\Python\\climber_df.csv\")\n",
    "df"
   ]
  },
  {
   "cell_type": "code",
   "execution_count": 64,
   "id": "2226ca9f",
   "metadata": {},
   "outputs": [
    {
     "data": {
      "text/plain": [
       "<bound method DataFrame.info of        user_id country  sex  height  weight   age  years_cl  \\\n",
       "0            1     SWE    0     177      73  41.0        21   \n",
       "1            3     SWE    0     180      78  44.0        22   \n",
       "2            4     SWE    1     165      58  33.0        16   \n",
       "3           10     SWE    0     167      63  52.0        25   \n",
       "4           16     NOR    0     177      68  44.0        21   \n",
       "...        ...     ...  ...     ...     ...   ...       ...   \n",
       "10922    66987     ESP    0     194      83  33.0         5   \n",
       "10923    66988     USA    0     183      78  22.0         1   \n",
       "10924    67009   other    0     165      63  41.0        20   \n",
       "10925    67019     NOR    0     172      73  26.0         4   \n",
       "10926    67020     DEU    0     178      78  24.0        12   \n",
       "\n",
       "                date_first            date_last  grades_count  grades_first  \\\n",
       "0      1999-02-06 23:00:00  2001-07-31 22:00:00            84            36   \n",
       "1      1999-03-31 22:00:00  2000-07-19 22:00:00            12            53   \n",
       "2      2004-06-30 22:00:00  2009-05-26 22:00:00           119            53   \n",
       "3      2000-01-14 23:00:00  2017-06-01 22:00:00           298            53   \n",
       "4      1998-02-27 23:00:00  2010-05-13 22:00:00             5            53   \n",
       "...                    ...                  ...           ...           ...   \n",
       "10922  2015-05-01 22:00:00  2017-09-03 22:00:00            27            35   \n",
       "10923  2017-09-03 22:00:00  2017-09-06 22:00:00             2            33   \n",
       "10924  2017-09-09 22:00:00  2003-06-19 22:00:00            35            53   \n",
       "10925  2017-06-14 22:00:00  2017-08-11 22:00:00             7            44   \n",
       "10926  2017-03-03 23:00:00  2017-07-14 22:00:00            10            33   \n",
       "\n",
       "       grades_last  grades_max  grades_mean  year_first  year_last  \n",
       "0               55          62    46.750000        1999       2001  \n",
       "1               51          59    52.833333        1999       2000  \n",
       "2               49          64    53.890756        2004       2009  \n",
       "3               49          63    49.406040        2000       2017  \n",
       "4               49          53    51.400000        1998       2010  \n",
       "...            ...         ...          ...         ...        ...  \n",
       "10922           44          49    39.666667        2015       2017  \n",
       "10923           28          33    30.500000        2017       2017  \n",
       "10924           46          59    45.800000        2017       2003  \n",
       "10925           46          46    42.714286        2017       2017  \n",
       "10926           36          55    41.500000        2017       2017  \n",
       "\n",
       "[10927 rows x 16 columns]>"
      ]
     },
     "execution_count": 64,
     "metadata": {},
     "output_type": "execute_result"
    }
   ],
   "source": [
    "df.info"
   ]
  },
  {
   "cell_type": "code",
   "execution_count": 65,
   "id": "8ad1414b",
   "metadata": {},
   "outputs": [
    {
     "data": {
      "text/plain": [
       "<bound method NDFrame.describe of        user_id country  sex  height  weight   age  years_cl  \\\n",
       "0            1     SWE    0     177      73  41.0        21   \n",
       "1            3     SWE    0     180      78  44.0        22   \n",
       "2            4     SWE    1     165      58  33.0        16   \n",
       "3           10     SWE    0     167      63  52.0        25   \n",
       "4           16     NOR    0     177      68  44.0        21   \n",
       "...        ...     ...  ...     ...     ...   ...       ...   \n",
       "10922    66987     ESP    0     194      83  33.0         5   \n",
       "10923    66988     USA    0     183      78  22.0         1   \n",
       "10924    67009   other    0     165      63  41.0        20   \n",
       "10925    67019     NOR    0     172      73  26.0         4   \n",
       "10926    67020     DEU    0     178      78  24.0        12   \n",
       "\n",
       "                date_first            date_last  grades_count  grades_first  \\\n",
       "0      1999-02-06 23:00:00  2001-07-31 22:00:00            84            36   \n",
       "1      1999-03-31 22:00:00  2000-07-19 22:00:00            12            53   \n",
       "2      2004-06-30 22:00:00  2009-05-26 22:00:00           119            53   \n",
       "3      2000-01-14 23:00:00  2017-06-01 22:00:00           298            53   \n",
       "4      1998-02-27 23:00:00  2010-05-13 22:00:00             5            53   \n",
       "...                    ...                  ...           ...           ...   \n",
       "10922  2015-05-01 22:00:00  2017-09-03 22:00:00            27            35   \n",
       "10923  2017-09-03 22:00:00  2017-09-06 22:00:00             2            33   \n",
       "10924  2017-09-09 22:00:00  2003-06-19 22:00:00            35            53   \n",
       "10925  2017-06-14 22:00:00  2017-08-11 22:00:00             7            44   \n",
       "10926  2017-03-03 23:00:00  2017-07-14 22:00:00            10            33   \n",
       "\n",
       "       grades_last  grades_max  grades_mean  year_first  year_last  \n",
       "0               55          62    46.750000        1999       2001  \n",
       "1               51          59    52.833333        1999       2000  \n",
       "2               49          64    53.890756        2004       2009  \n",
       "3               49          63    49.406040        2000       2017  \n",
       "4               49          53    51.400000        1998       2010  \n",
       "...            ...         ...          ...         ...        ...  \n",
       "10922           44          49    39.666667        2015       2017  \n",
       "10923           28          33    30.500000        2017       2017  \n",
       "10924           46          59    45.800000        2017       2003  \n",
       "10925           46          46    42.714286        2017       2017  \n",
       "10926           36          55    41.500000        2017       2017  \n",
       "\n",
       "[10927 rows x 16 columns]>"
      ]
     },
     "execution_count": 65,
     "metadata": {},
     "output_type": "execute_result"
    }
   ],
   "source": [
    "df.describe"
   ]
  },
  {
   "cell_type": "markdown",
   "id": "f2aa3517",
   "metadata": {},
   "source": [
    "# 1) Which country do most climbers come from? "
   ]
  },
  {
   "cell_type": "code",
   "execution_count": 66,
   "id": "580d7cb0",
   "metadata": {},
   "outputs": [
    {
     "data": {
      "text/plain": [
       "user_id         0\n",
       "country         0\n",
       "sex             0\n",
       "height          0\n",
       "weight          0\n",
       "age             0\n",
       "years_cl        0\n",
       "date_first      0\n",
       "date_last       0\n",
       "grades_count    0\n",
       "grades_first    0\n",
       "grades_last     0\n",
       "grades_max      0\n",
       "grades_mean     0\n",
       "year_first      0\n",
       "year_last       0\n",
       "dtype: int64"
      ]
     },
     "execution_count": 66,
     "metadata": {},
     "output_type": "execute_result"
    }
   ],
   "source": [
    "df.isnull().sum()"
   ]
  },
  {
   "cell_type": "code",
   "execution_count": 67,
   "id": "46b9faa6",
   "metadata": {},
   "outputs": [
    {
     "data": {
      "text/plain": [
       "<AxesSubplot:>"
      ]
     },
     "execution_count": 67,
     "metadata": {},
     "output_type": "execute_result"
    },
    {
     "data": {
      "image/png": "[encoded data removed]",
      "text/plain": [
       "<Figure size 432x288 with 1 Axes>"
      ]
     },
     "metadata": {
      "needs_background": "light"
     },
     "output_type": "display_data"
    }
   ],
   "source": [
    "df['country'].value_counts().plot(kind=\"bar\")"
   ]
  },
  {
   "cell_type": "code",
   "execution_count": 73,
   "id": "a6d9ba6b",
   "metadata": {},
   "outputs": [
    {
     "data": {
      "text/plain": [
       "1306"
      ]
     },
     "execution_count": 73,
     "metadata": {},
     "output_type": "execute_result"
    }
   ],
   "source": [
    "df['country'].value_counts().max()\n",
    "## most cliumbers are from ESP"
   ]
  },
  {
   "cell_type": "markdown",
   "id": "c448ab40",
   "metadata": {},
   "source": [
    "# 2) Display per country climber distribution. Share Observation "
   ]
  },
  {
   "cell_type": "code",
   "execution_count": 84,
   "id": "80714dd9",
   "metadata": {},
   "outputs": [
    {
     "data": {
      "text/plain": [
       "<AxesSubplot:xlabel='country', ylabel='count'>"
      ]
     },
     "execution_count": 84,
     "metadata": {},
     "output_type": "execute_result"
    },
    {
     "data": {
      "image/png": "[encoded data removed]",
      "text/plain": [
       "<Figure size 1080x1080 with 1 Axes>"
      ]
     },
     "metadata": {
      "needs_background": "light"
     },
     "output_type": "display_data"
    }
   ],
   "source": [
    "plt.figure(figsize=(15,15))\n",
    "sns.countplot(df[\"country\"])\n",
    "#ESP has the highest no of climbers \n",
    "# FIn has the lowest share of climbers"
   ]
  },
  {
   "cell_type": "markdown",
   "id": "efe6bb74",
   "metadata": {},
   "source": [
    "# 3) Rock-climbing is a sport for tall people. Is it true? "
   ]
  },
  {
   "cell_type": "code",
   "execution_count": 83,
   "id": "fbc1053f",
   "metadata": {},
   "outputs": [
    {
     "data": {
      "text/plain": [
       "<AxesSubplot:xlabel='height', ylabel='Count'>"
      ]
     },
     "execution_count": 83,
     "metadata": {},
     "output_type": "execute_result"
    },
    {
     "data": {
      "image/png": "[encoded data removed]",
      "text/plain": [
       "<Figure size 1080x1080 with 1 Axes>"
      ]
     },
     "metadata": {
      "needs_background": "light"
     },
     "output_type": "display_data"
    }
   ],
   "source": [
    "plt.figure(figsize=(15,15))\n",
    "sns.histplot(df['height'],kde=True)\n",
    "# so we drawn the histogram so it is negatively skewed.\n",
    "# means the plot is tilted towards right\n",
    "# Slowly increases but gradually decreases"
   ]
  },
  {
   "cell_type": "markdown",
   "id": "909ca2af",
   "metadata": {},
   "source": [
    "# 4) Compute BMI index for Each climber. "
   ]
  },
  {
   "cell_type": "code",
   "execution_count": 80,
   "id": "8e856fa5",
   "metadata": {},
   "outputs": [
    {
     "data": {
      "text/html": [
       "<div>\n",
       "<style scoped>\n",
       "    .dataframe tbody tr th:only-of-type {\n",
       "        vertical-align: middle;\n",
       "    }\n",
       "\n",
       "    .dataframe tbody tr th {\n",
       "        vertical-align: top;\n",
       "    }\n",
       "\n",
       "    .dataframe thead th {\n",
       "        text-align: right;\n",
       "    }\n",
       "</style>\n",
       "<table border=\"1\" class=\"dataframe\">\n",
       "  <thead>\n",
       "    <tr style=\"text-align: right;\">\n",
       "      <th></th>\n",
       "      <th>user_id</th>\n",
       "      <th>country</th>\n",
       "      <th>sex</th>\n",
       "      <th>height</th>\n",
       "      <th>weight</th>\n",
       "      <th>age</th>\n",
       "      <th>years_cl</th>\n",
       "      <th>date_first</th>\n",
       "      <th>date_last</th>\n",
       "      <th>grades_count</th>\n",
       "      <th>grades_first</th>\n",
       "      <th>grades_last</th>\n",
       "      <th>grades_max</th>\n",
       "      <th>grades_mean</th>\n",
       "      <th>year_first</th>\n",
       "      <th>year_last</th>\n",
       "      <th>BMI</th>\n",
       "    </tr>\n",
       "  </thead>\n",
       "  <tbody>\n",
       "    <tr>\n",
       "      <th>0</th>\n",
       "      <td>1</td>\n",
       "      <td>SWE</td>\n",
       "      <td>0</td>\n",
       "      <td>177</td>\n",
       "      <td>73</td>\n",
       "      <td>41.0</td>\n",
       "      <td>21</td>\n",
       "      <td>1999-02-06 23:00:00</td>\n",
       "      <td>2001-07-31 22:00:00</td>\n",
       "      <td>84</td>\n",
       "      <td>36</td>\n",
       "      <td>55</td>\n",
       "      <td>62</td>\n",
       "      <td>46.750000</td>\n",
       "      <td>1999</td>\n",
       "      <td>2001</td>\n",
       "      <td>23.301095</td>\n",
       "    </tr>\n",
       "    <tr>\n",
       "      <th>1</th>\n",
       "      <td>3</td>\n",
       "      <td>SWE</td>\n",
       "      <td>0</td>\n",
       "      <td>180</td>\n",
       "      <td>78</td>\n",
       "      <td>44.0</td>\n",
       "      <td>22</td>\n",
       "      <td>1999-03-31 22:00:00</td>\n",
       "      <td>2000-07-19 22:00:00</td>\n",
       "      <td>12</td>\n",
       "      <td>53</td>\n",
       "      <td>51</td>\n",
       "      <td>59</td>\n",
       "      <td>52.833333</td>\n",
       "      <td>1999</td>\n",
       "      <td>2000</td>\n",
       "      <td>24.074074</td>\n",
       "    </tr>\n",
       "    <tr>\n",
       "      <th>2</th>\n",
       "      <td>4</td>\n",
       "      <td>SWE</td>\n",
       "      <td>1</td>\n",
       "      <td>165</td>\n",
       "      <td>58</td>\n",
       "      <td>33.0</td>\n",
       "      <td>16</td>\n",
       "      <td>2004-06-30 22:00:00</td>\n",
       "      <td>2009-05-26 22:00:00</td>\n",
       "      <td>119</td>\n",
       "      <td>53</td>\n",
       "      <td>49</td>\n",
       "      <td>64</td>\n",
       "      <td>53.890756</td>\n",
       "      <td>2004</td>\n",
       "      <td>2009</td>\n",
       "      <td>21.303949</td>\n",
       "    </tr>\n",
       "    <tr>\n",
       "      <th>3</th>\n",
       "      <td>10</td>\n",
       "      <td>SWE</td>\n",
       "      <td>0</td>\n",
       "      <td>167</td>\n",
       "      <td>63</td>\n",
       "      <td>52.0</td>\n",
       "      <td>25</td>\n",
       "      <td>2000-01-14 23:00:00</td>\n",
       "      <td>2017-06-01 22:00:00</td>\n",
       "      <td>298</td>\n",
       "      <td>53</td>\n",
       "      <td>49</td>\n",
       "      <td>63</td>\n",
       "      <td>49.406040</td>\n",
       "      <td>2000</td>\n",
       "      <td>2017</td>\n",
       "      <td>22.589551</td>\n",
       "    </tr>\n",
       "    <tr>\n",
       "      <th>4</th>\n",
       "      <td>16</td>\n",
       "      <td>NOR</td>\n",
       "      <td>0</td>\n",
       "      <td>177</td>\n",
       "      <td>68</td>\n",
       "      <td>44.0</td>\n",
       "      <td>21</td>\n",
       "      <td>1998-02-27 23:00:00</td>\n",
       "      <td>2010-05-13 22:00:00</td>\n",
       "      <td>5</td>\n",
       "      <td>53</td>\n",
       "      <td>49</td>\n",
       "      <td>53</td>\n",
       "      <td>51.400000</td>\n",
       "      <td>1998</td>\n",
       "      <td>2010</td>\n",
       "      <td>21.705129</td>\n",
       "    </tr>\n",
       "  </tbody>\n",
       "</table>\n",
       "</div>"
      ],
      "text/plain": [
       "   user_id country  sex  height  weight   age  years_cl           date_first  \\\n",
       "0        1     SWE    0     177      73  41.0        21  1999-02-06 23:00:00   \n",
       "1        3     SWE    0     180      78  44.0        22  1999-03-31 22:00:00   \n",
       "2        4     SWE    1     165      58  33.0        16  2004-06-30 22:00:00   \n",
       "3       10     SWE    0     167      63  52.0        25  2000-01-14 23:00:00   \n",
       "4       16     NOR    0     177      68  44.0        21  1998-02-27 23:00:00   \n",
       "\n",
       "             date_last  grades_count  grades_first  grades_last  grades_max  \\\n",
       "0  2001-07-31 22:00:00            84            36           55          62   \n",
       "1  2000-07-19 22:00:00            12            53           51          59   \n",
       "2  2009-05-26 22:00:00           119            53           49          64   \n",
       "3  2017-06-01 22:00:00           298            53           49          63   \n",
       "4  2010-05-13 22:00:00             5            53           49          53   \n",
       "\n",
       "   grades_mean  year_first  year_last        BMI  \n",
       "0    46.750000        1999       2001  23.301095  \n",
       "1    52.833333        1999       2000  24.074074  \n",
       "2    53.890756        2004       2009  21.303949  \n",
       "3    49.406040        2000       2017  22.589551  \n",
       "4    51.400000        1998       2010  21.705129  "
      ]
     },
     "execution_count": 80,
     "metadata": {},
     "output_type": "execute_result"
    }
   ],
   "source": [
    "df['BMI']=df['weight']/(df['height']/100)**2\n",
    "df.head()"
   ]
  },
  {
   "cell_type": "markdown",
   "id": "e192eebd",
   "metadata": {},
   "source": [
    "# 5) Display age distribution. What is the common age range? Share observations. "
   ]
  },
  {
   "cell_type": "code",
   "execution_count": 82,
   "id": "83519211",
   "metadata": {},
   "outputs": [
    {
     "data": {
      "text/plain": [
       "<AxesSubplot:xlabel='age', ylabel='Density'>"
      ]
     },
     "execution_count": 82,
     "metadata": {},
     "output_type": "execute_result"
    },
    {
     "data": {
      "image/png": "[encoded data removed]",
      "text/plain": [
       "<Figure size 720x720 with 1 Axes>"
      ]
     },
     "metadata": {
      "needs_background": "light"
     },
     "output_type": "display_data"
    }
   ],
   "source": [
    "plt.figure(figsize=(10,10))\n",
    "sns.distplot(df['age'],bins=150,kde=True)\n",
    "#common age range is between 30 to 36."
   ]
  },
  {
   "cell_type": "code",
   "execution_count": null,
   "id": "4276a9cb",
   "metadata": {},
   "outputs": [],
   "source": []
  }
 ],
 "metadata": {
  "kernelspec": {
   "display_name": "Python 3",
   "language": "python",
   "name": "python3"
  },
  "language_info": {
   "codemirror_mode": {
    "name": "ipython",
    "version": 3
   },
   "file_extension": ".py",
   "mimetype": "text/x-python",
   "name": "python",
   "nbconvert_exporter": "python",
   "pygments_lexer": "ipython3",
   "version": "3.8.8"
  }
 },
 "nbformat": 4,
 "nbformat_minor": 5
}
