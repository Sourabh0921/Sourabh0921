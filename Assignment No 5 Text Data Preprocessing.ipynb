{
 "cells": [
  {
   "cell_type": "code",
   "execution_count": 1,
   "id": "18ab5c37",
   "metadata": {},
   "outputs": [],
   "source": [
    "import numpy as np\n",
    "import pandas as pd\n",
    "import re"
   ]
  },
  {
   "cell_type": "code",
   "execution_count": 2,
   "id": "f66cbfa6",
   "metadata": {},
   "outputs": [],
   "source": [
    "text=\"\"\"keith@cco.caltech.edu (Keith Allan Schneider) \n",
    "Subject: Re: <<Pompous ass\\nOrganization: California Institute of Technology, Pasadena\\nLines: 16\\nNNTP-Posting-Host: punisher.caltech.edu\\nlivesey@solntze.wpd.sgi.com (Jon Livesey) writes:\\n[...]\\n>>The \"`little' things\" above were in reference to\\nGermany, clearly. People\\n>>said that there were similar things\\nin Germany, but no one could name any.\\n>That's not true. I\\ngave you two examples. One was the rather\\n>pevasive anti\\nsemitism in German Christianity well before Hitler\\n>arrived. \\nThe other was the system of social ranks that were used\\n>in\\nImperail Germany and Austria to distinguish Jews from the\\nrest \\n>of the population.\\nThese don't seem like \"little\\nthings\" to me. At least, they are orders\\nworse than the\\nmotto. Do you think that the motto is a \"little thing\"\\nthat\\nwill lead to worse things?\\nkeith\\n\"\"\""
   ]
  },
  {
   "cell_type": "code",
   "execution_count": 3,
   "id": "614b34b3",
   "metadata": {},
   "outputs": [
    {
     "data": {
      "text/plain": [
       "'keith@cco.caltech.edu (Keith Allan Schneider) \\nSubject: Re: <<Pompous ass\\nOrganization: California Institute of Technology, Pasadena\\nLines: 16\\nNNTP-Posting-Host: punisher.caltech.edu\\nlivesey@solntze.wpd.sgi.com (Jon Livesey) writes:\\n[...]\\n>>The \"`little\\' things\" above were in reference to\\nGermany, clearly. People\\n>>said that there were similar things\\nin Germany, but no one could name any.\\n>That\\'s not true. I\\ngave you two examples. One was the rather\\n>pevasive anti\\nsemitism in German Christianity well before Hitler\\n>arrived. \\nThe other was the system of social ranks that were used\\n>in\\nImperail Germany and Austria to distinguish Jews from the\\nrest \\n>of the population.\\nThese don\\'t seem like \"little\\nthings\" to me. At least, they are orders\\nworse than the\\nmotto. Do you think that the motto is a \"little thing\"\\nthat\\nwill lead to worse things?\\nkeith\\n'"
      ]
     },
     "execution_count": 3,
     "metadata": {},
     "output_type": "execute_result"
    }
   ],
   "source": [
    "text"
   ]
  },
  {
   "cell_type": "code",
   "execution_count": 4,
   "id": "f3b55e4c",
   "metadata": {},
   "outputs": [
    {
     "name": "stdout",
     "output_type": "stream",
     "text": [
      "['keith', '@', 'cco.caltech.edu', '(', 'Keith', 'Allan', 'Schneider', ')', 'Subject', ':', 'Re', ':', '<', '<', 'Pompous', 'ass', 'Organization', ':', 'California', 'Institute', 'of', 'Technology', ',', 'Pasadena', 'Lines', ':', '16', 'NNTP-Posting-Host', ':', 'punisher.caltech.edu', 'livesey', '@', 'solntze.wpd.sgi.com', '(', 'Jon', 'Livesey', ')', 'writes', ':', '[', '...', ']', '>', '>', 'The', '``', '`', 'little', \"'\", 'things', \"''\", 'above', 'were', 'in', 'reference', 'to', 'Germany', ',', 'clearly', '.', 'People', '>', '>', 'said', 'that', 'there', 'were', 'similar', 'things', 'in', 'Germany', ',', 'but', 'no', 'one', 'could', 'name', 'any', '.', '>', 'That', \"'s\", 'not', 'true', '.', 'I', 'gave', 'you', 'two', 'examples', '.', 'One', 'was', 'the', 'rather', '>', 'pevasive', 'anti', 'semitism', 'in', 'German', 'Christianity', 'well', 'before', 'Hitler', '>', 'arrived', '.', 'The', 'other', 'was', 'the', 'system', 'of', 'social', 'ranks', 'that', 'were', 'used', '>', 'in', 'Imperail', 'Germany', 'and', 'Austria', 'to', 'distinguish', 'Jews', 'from', 'the', 'rest', '>', 'of', 'the', 'population', '.', 'These', 'do', \"n't\", 'seem', 'like', '``', 'little', 'things', \"''\", 'to', 'me', '.', 'At', 'least', ',', 'they', 'are', 'orders', 'worse', 'than', 'the', 'motto', '.', 'Do', 'you', 'think', 'that', 'the', 'motto', 'is', 'a', '``', 'little', 'thing', \"''\", 'that', 'will', 'lead', 'to', 'worse', 'things', '?', 'keith']\n"
     ]
    }
   ],
   "source": [
    "from nltk import word_tokenize\n",
    "print(word_tokenize(text))"
   ]
  },
  {
   "cell_type": "markdown",
   "id": "8358d5e8",
   "metadata": {},
   "source": [
    "# 1.Remove only punctuation that separates sentences. "
   ]
  },
  {
   "cell_type": "code",
   "execution_count": 5,
   "id": "8b04a011",
   "metadata": {},
   "outputs": [
    {
     "data": {
      "text/plain": [
       "'!\"#$%&\\'()*+,-./:;<=>?@[\\\\]^_`{|}~'"
      ]
     },
     "execution_count": 5,
     "metadata": {},
     "output_type": "execute_result"
    }
   ],
   "source": [
    "import string\n",
    "string.punctuation\n",
    "'!\"#$%&\\'()*+,-./:;<=>?@[\\\\]^_`{|}~'"
   ]
  },
  {
   "cell_type": "code",
   "execution_count": 6,
   "id": "be50a1b4",
   "metadata": {},
   "outputs": [
    {
     "data": {
      "text/plain": [
       "'keith cco caltech edu  Keith Allan Schneider  \\nSubject  Re    Pompous ass\\nOrganization  California Institute of Technology  Pasadena\\nLines  16\\nNNTP Posting Host  punisher caltech edu\\nlivesey solntze wpd sgi com  Jon Livesey  writes \\n     \\n  The   little  things  above were in reference to\\nGermany  clearly  People\\n  said that there were similar things\\nin Germany  but no one could name any \\n That s not true  I\\ngave you two examples  One was the rather\\n pevasive anti\\nsemitism in German Christianity well before Hitler\\n arrived  \\nThe other was the system of social ranks that were used\\n in\\nImperail Germany and Austria to distinguish Jews from the\\nrest \\n of the population \\nThese don t seem like  little\\nthings  to me  At least  they are orders\\nworse than the\\nmotto  Do you think that the motto is a  little thing \\nthat\\nwill lead to worse things \\nkeith'"
      ]
     },
     "execution_count": 6,
     "metadata": {},
     "output_type": "execute_result"
    }
   ],
   "source": [
    "import string\n",
    "regular_punct = list(string.punctuation)\n",
    "def remove_punctuation(text,punct_list):\n",
    "    for punc in punct_list:\n",
    "        if punc in text:\n",
    "            text = text.replace(punc, ' ')\n",
    "    return text.strip()\n",
    "\n",
    "remove_punctuation(text,regular_punct)"
   ]
  },
  {
   "cell_type": "code",
   "execution_count": null,
   "id": "e338b16b",
   "metadata": {},
   "outputs": [],
   "source": []
  },
  {
   "cell_type": "markdown",
   "id": "08c3c525",
   "metadata": {},
   "source": [
    "# 2.Extract name and email addresses ."
   ]
  },
  {
   "cell_type": "code",
   "execution_count": 7,
   "id": "adfa5a6d",
   "metadata": {},
   "outputs": [],
   "source": [
    "import nltk\n",
    "from nltk.corpus import stopwords\n",
    "stop = stopwords.words('english')"
   ]
  },
  {
   "cell_type": "code",
   "execution_count": 8,
   "id": "72ae319d",
   "metadata": {},
   "outputs": [],
   "source": [
    "text = ' '.join([i for i in text.split() if i not in stop])\n",
    "sentences = nltk.sent_tokenize(text)"
   ]
  },
  {
   "cell_type": "code",
   "execution_count": 9,
   "id": "b87463a8",
   "metadata": {},
   "outputs": [],
   "source": [
    "sentences = [nltk.word_tokenize(sent) for sent in sentences]"
   ]
  },
  {
   "cell_type": "code",
   "execution_count": 10,
   "id": "ebb10e87",
   "metadata": {},
   "outputs": [
    {
     "name": "stderr",
     "output_type": "stream",
     "text": [
      "[nltk_data] Downloading package maxent_ne_chunker to\n",
      "[nltk_data]     C:\\Users\\SOURABH\\AppData\\Roaming\\nltk_data...\n",
      "[nltk_data]   Package maxent_ne_chunker is already up-to-date!\n"
     ]
    },
    {
     "data": {
      "text/plain": [
       "True"
      ]
     },
     "execution_count": 10,
     "metadata": {},
     "output_type": "execute_result"
    }
   ],
   "source": [
    "import nltk\n",
    "nltk.download('maxent_ne_chunker')"
   ]
  },
  {
   "cell_type": "code",
   "execution_count": 11,
   "id": "8dd551f5",
   "metadata": {},
   "outputs": [
    {
     "name": "stderr",
     "output_type": "stream",
     "text": [
      "[nltk_data] Downloading package words to\n",
      "[nltk_data]     C:\\Users\\SOURABH\\AppData\\Roaming\\nltk_data...\n",
      "[nltk_data]   Package words is already up-to-date!\n"
     ]
    },
    {
     "data": {
      "text/plain": [
       "True"
      ]
     },
     "execution_count": 11,
     "metadata": {},
     "output_type": "execute_result"
    }
   ],
   "source": [
    "import nltk\n",
    "nltk.download('words')"
   ]
  },
  {
   "cell_type": "code",
   "execution_count": 12,
   "id": "fce633b1",
   "metadata": {},
   "outputs": [],
   "source": [
    "import re\n",
    "import nltk\n",
    "from nltk.corpus import stopwords\n",
    "stop = stopwords.words('english')\n",
    "\n",
    "def extract_email_addresses(text):\n",
    "    r = re.compile(r'[\\w\\.-]+@[\\w\\.-]+')\n",
    "    return r.findall(text)\n",
    "\n",
    "def ie_preprocess(document):\n",
    "    document = ' '.join([i for i in document.split() if i not in stop])\n",
    "    sentences = nltk.sent_tokenize(document)\n",
    "    sentences = [nltk.word_tokenize(sent) for sent in sentences]\n",
    "    sentences = [nltk.pos_tag(sent) for sent in sentences]\n",
    "    return sentences\n",
    "\n",
    "def extract_names(document):\n",
    "    names = []\n",
    "    sentences = ie_preprocess(document)\n",
    "    for tagged_sentence in sentences:\n",
    "        for chunk in nltk.ne_chunk(tagged_sentence):\n",
    "            if type(chunk) == nltk.tree.Tree:\n",
    "                if chunk.label() == 'PERSON':\n",
    "                    names.append(' '.join([c[0] for c in chunk]))\n",
    "    return names\n",
    "if __name__ == '__main__':\n",
    "    emails = extract_email_addresses(text)\n",
    "    names = extract_names(text)"
   ]
  },
  {
   "cell_type": "code",
   "execution_count": 13,
   "id": "16f7d4db",
   "metadata": {},
   "outputs": [
    {
     "data": {
      "text/plain": [
       "['Keith Allan Schneider', 'Jon Livesey', 'German Christianity', 'Hitler']"
      ]
     },
     "execution_count": 13,
     "metadata": {},
     "output_type": "execute_result"
    }
   ],
   "source": [
    "names"
   ]
  },
  {
   "cell_type": "code",
   "execution_count": 14,
   "id": "5e691e72",
   "metadata": {},
   "outputs": [
    {
     "data": {
      "text/plain": [
       "['keith@cco.caltech.edu', 'livesey@solntze.wpd.sgi.com']"
      ]
     },
     "execution_count": 14,
     "metadata": {},
     "output_type": "execute_result"
    }
   ],
   "source": [
    "emails"
   ]
  },
  {
   "cell_type": "markdown",
   "id": "48cb1454",
   "metadata": {},
   "source": [
    "# 3.Split by delimiter \\n ,\\t and whitespace then lowercase all tokens. "
   ]
  },
  {
   "cell_type": "code",
   "execution_count": null,
   "id": "9d80eb9a",
   "metadata": {},
   "outputs": [],
   "source": []
  },
  {
   "cell_type": "markdown",
   "id": "3332ec91",
   "metadata": {},
   "source": [
    "# 4.Remove tokens that don't contain any alphanumeric characters: meaningless token such as [...] will be removed. "
   ]
  },
  {
   "cell_type": "code",
   "execution_count": null,
   "id": "d1889e8d",
   "metadata": {},
   "outputs": [],
   "source": []
  },
  {
   "cell_type": "markdown",
   "id": "afead8c3",
   "metadata": {},
   "source": [
    "# 5.Clean out leading and trailing punctuation."
   ]
  },
  {
   "cell_type": "code",
   "execution_count": 18,
   "id": "cfd1c484",
   "metadata": {},
   "outputs": [
    {
     "name": "stdout",
     "output_type": "stream",
     "text": [
      "keith@cco.caltech.edu (Keith Allan Schneider) Subject: Re: <<Pompous ass Organization: California Institute Technology, Pasadena Lines: 16 NNTP-Posting-Host: punisher.caltech.edu livesey@solntze.wpd.sgi.com (Jon Livesey) writes: [...] >>The \"`little' things\" reference Germany, clearly. People >>said similar things Germany, one could name any. >That's true. I gave two examples. One rather >pevasive anti semitism German Christianity well Hitler >arrived. The system social ranks used >in Imperail Germany Austria distinguish Jews rest >of population. These seem like \"little things\" me. At least, orders worse motto. Do think motto \"little thing\" lead worse things? keith\n",
      "keith@cco.caltech.edu (Keith Allan Schneider) Subject: Re: <<Pompous ass Organization: California Institute Technology, Pasadena Lines: 16 NNTP-Posting-Host: punisher.caltech.edu livesey@solntze.wpd.sgi.com (Jon Livesey) writes: [...] >>The \"`little' things\" reference Germany, clearly. People >>said similar things Germany, one could name any. >That's true. I gave two examples. One rather >pevasive anti semitism German Christianity well Hitler >arrived. The system social ranks used >in Imperail Germany Austria distinguish Jews rest >of population. These seem like \"little things\" me. At least, orders worse motto. Do think motto \"little thing\" lead worse things? keith\n"
     ]
    }
   ],
   "source": [
    "from string import punctuation\n",
    "print(text.lstrip(punctuation))\n",
    "print(text.rstrip(punctuation))"
   ]
  },
  {
   "cell_type": "code",
   "execution_count": null,
   "id": "59a8eb47",
   "metadata": {},
   "outputs": [],
   "source": []
  },
  {
   "cell_type": "markdown",
   "id": "48f2d084",
   "metadata": {},
   "source": [
    "# 6.Remove stopwords "
   ]
  },
  {
   "cell_type": "code",
   "execution_count": null,
   "id": "da2c9525",
   "metadata": {},
   "outputs": [],
   "source": [
    "from nltk.corpus import stopwords        # the corpus module is an \n",
    "from nltk import word_tokenize                                         # extremely useful one. \n",
    "                                         # More on that later.\n",
    "stop_words = stopwords.words('english')  # this is the full list of\n",
    "                                         # all stop-words stored in\n",
    "                                         # nltk\n",
    "token = word_tokenize(text)\n",
    "cleaned_token = []\n",
    "for word in token:\n",
    "    if word not in stop_words:\n",
    "        cleaned_token.append(word)\n",
    "print(\"This is the unclean version:\", token)\n",
    "print(\"This is the cleaned version:\", cleaned_token)"
   ]
  },
  {
   "cell_type": "code",
   "execution_count": null,
   "id": "5395741a",
   "metadata": {},
   "outputs": [],
   "source": []
  }
 ],
 "metadata": {
  "kernelspec": {
   "display_name": "Python 3",
   "language": "python",
   "name": "python3"
  },
  "language_info": {
   "codemirror_mode": {
    "name": "ipython",
    "version": 3
   },
   "file_extension": ".py",
   "mimetype": "text/x-python",
   "name": "python",
   "nbconvert_exporter": "python",
   "pygments_lexer": "ipython3",
   "version": "3.8.8"
  }
 },
 "nbformat": 4,
 "nbformat_minor": 5
}
