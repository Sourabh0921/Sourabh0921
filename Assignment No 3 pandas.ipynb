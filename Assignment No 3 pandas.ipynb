{
 "cells": [
  {
   "cell_type": "markdown",
   "id": "2ddf7b16",
   "metadata": {},
   "source": [
    "#  UCI adult dataset, also called asCensusIncome "
   ]
  },
  {
   "cell_type": "code",
   "execution_count": 1,
   "id": "bd789e83",
   "metadata": {},
   "outputs": [],
   "source": [
    "# Question - Predict whether income exceeds $50K/yr based on census data.  "
   ]
  },
  {
   "cell_type": "code",
   "execution_count": 1,
   "id": "18f369e6",
   "metadata": {},
   "outputs": [],
   "source": [
    "import numpy as np\n",
    "import pandas as pd\n",
    "import matplotlib.pyplot as plt"
   ]
  },
  {
   "cell_type": "code",
   "execution_count": 4,
   "id": "23fdb4cb",
   "metadata": {},
   "outputs": [],
   "source": [
    "# Load th data set"
   ]
  },
  {
   "cell_type": "code",
   "execution_count": 2,
   "id": "db516a20",
   "metadata": {},
   "outputs": [
    {
     "data": {
      "text/html": [
       "<div>\n",
       "<style scoped>\n",
       "    .dataframe tbody tr th:only-of-type {\n",
       "        vertical-align: middle;\n",
       "    }\n",
       "\n",
       "    .dataframe tbody tr th {\n",
       "        vertical-align: top;\n",
       "    }\n",
       "\n",
       "    .dataframe thead th {\n",
       "        text-align: right;\n",
       "    }\n",
       "</style>\n",
       "<table border=\"1\" class=\"dataframe\">\n",
       "  <thead>\n",
       "    <tr style=\"text-align: right;\">\n",
       "      <th></th>\n",
       "      <th>age</th>\n",
       "      <th>workclass</th>\n",
       "      <th>fnlwgt</th>\n",
       "      <th>education</th>\n",
       "      <th>education-num</th>\n",
       "      <th>marital-status</th>\n",
       "      <th>occupation</th>\n",
       "      <th>relationship</th>\n",
       "      <th>race</th>\n",
       "      <th>sex</th>\n",
       "      <th>capital-gain</th>\n",
       "      <th>capital-loss</th>\n",
       "      <th>hours-per-week</th>\n",
       "      <th>native-country</th>\n",
       "      <th>Salary_range</th>\n",
       "    </tr>\n",
       "  </thead>\n",
       "  <tbody>\n",
       "    <tr>\n",
       "      <th>0</th>\n",
       "      <td>39</td>\n",
       "      <td>State-gov</td>\n",
       "      <td>77516</td>\n",
       "      <td>Bachelors</td>\n",
       "      <td>13</td>\n",
       "      <td>Never-married</td>\n",
       "      <td>Adm-clerical</td>\n",
       "      <td>Not-in-family</td>\n",
       "      <td>White</td>\n",
       "      <td>Male</td>\n",
       "      <td>2174</td>\n",
       "      <td>0</td>\n",
       "      <td>40</td>\n",
       "      <td>United-States</td>\n",
       "      <td>&lt;=50K</td>\n",
       "    </tr>\n",
       "    <tr>\n",
       "      <th>1</th>\n",
       "      <td>50</td>\n",
       "      <td>Self-emp-not-inc</td>\n",
       "      <td>83311</td>\n",
       "      <td>Bachelors</td>\n",
       "      <td>13</td>\n",
       "      <td>Married-civ-spouse</td>\n",
       "      <td>Exec-managerial</td>\n",
       "      <td>Husband</td>\n",
       "      <td>White</td>\n",
       "      <td>Male</td>\n",
       "      <td>0</td>\n",
       "      <td>0</td>\n",
       "      <td>13</td>\n",
       "      <td>United-States</td>\n",
       "      <td>&lt;=50K</td>\n",
       "    </tr>\n",
       "    <tr>\n",
       "      <th>2</th>\n",
       "      <td>38</td>\n",
       "      <td>Private</td>\n",
       "      <td>215646</td>\n",
       "      <td>HS-grad</td>\n",
       "      <td>9</td>\n",
       "      <td>Divorced</td>\n",
       "      <td>Handlers-cleaners</td>\n",
       "      <td>Not-in-family</td>\n",
       "      <td>White</td>\n",
       "      <td>Male</td>\n",
       "      <td>0</td>\n",
       "      <td>0</td>\n",
       "      <td>40</td>\n",
       "      <td>United-States</td>\n",
       "      <td>&lt;=50K</td>\n",
       "    </tr>\n",
       "    <tr>\n",
       "      <th>3</th>\n",
       "      <td>53</td>\n",
       "      <td>Private</td>\n",
       "      <td>234721</td>\n",
       "      <td>11th</td>\n",
       "      <td>7</td>\n",
       "      <td>Married-civ-spouse</td>\n",
       "      <td>Handlers-cleaners</td>\n",
       "      <td>Husband</td>\n",
       "      <td>Black</td>\n",
       "      <td>Male</td>\n",
       "      <td>0</td>\n",
       "      <td>0</td>\n",
       "      <td>40</td>\n",
       "      <td>United-States</td>\n",
       "      <td>&lt;=50K</td>\n",
       "    </tr>\n",
       "    <tr>\n",
       "      <th>4</th>\n",
       "      <td>28</td>\n",
       "      <td>Private</td>\n",
       "      <td>338409</td>\n",
       "      <td>Bachelors</td>\n",
       "      <td>13</td>\n",
       "      <td>Married-civ-spouse</td>\n",
       "      <td>Prof-specialty</td>\n",
       "      <td>Wife</td>\n",
       "      <td>Black</td>\n",
       "      <td>Female</td>\n",
       "      <td>0</td>\n",
       "      <td>0</td>\n",
       "      <td>40</td>\n",
       "      <td>Cuba</td>\n",
       "      <td>&lt;=50K</td>\n",
       "    </tr>\n",
       "  </tbody>\n",
       "</table>\n",
       "</div>"
      ],
      "text/plain": [
       "   age          workclass  fnlwgt   education  education-num  \\\n",
       "0   39          State-gov   77516   Bachelors             13   \n",
       "1   50   Self-emp-not-inc   83311   Bachelors             13   \n",
       "2   38            Private  215646     HS-grad              9   \n",
       "3   53            Private  234721        11th              7   \n",
       "4   28            Private  338409   Bachelors             13   \n",
       "\n",
       "        marital-status          occupation    relationship    race      sex  \\\n",
       "0        Never-married        Adm-clerical   Not-in-family   White     Male   \n",
       "1   Married-civ-spouse     Exec-managerial         Husband   White     Male   \n",
       "2             Divorced   Handlers-cleaners   Not-in-family   White     Male   \n",
       "3   Married-civ-spouse   Handlers-cleaners         Husband   Black     Male   \n",
       "4   Married-civ-spouse      Prof-specialty            Wife   Black   Female   \n",
       "\n",
       "   capital-gain  capital-loss  hours-per-week  native-country Salary_range  \n",
       "0          2174             0              40   United-States        <=50K  \n",
       "1             0             0              13   United-States        <=50K  \n",
       "2             0             0              40   United-States        <=50K  \n",
       "3             0             0              40   United-States        <=50K  \n",
       "4             0             0              40            Cuba        <=50K  "
      ]
     },
     "execution_count": 2,
     "metadata": {},
     "output_type": "execute_result"
    }
   ],
   "source": [
    "data=pd.read_csv(\"C:/M.sc Data Science clg/DS SEM 2/Python Assignments/adult Data Set.csv\")\n",
    "data.head()"
   ]
  },
  {
   "cell_type": "code",
   "execution_count": 3,
   "id": "2515c16a",
   "metadata": {},
   "outputs": [
    {
     "data": {
      "text/plain": [
       "(32561, 15)"
      ]
     },
     "execution_count": 3,
     "metadata": {},
     "output_type": "execute_result"
    }
   ],
   "source": [
    "#Q1 shape\n",
    "data.shape"
   ]
  },
  {
   "cell_type": "code",
   "execution_count": 4,
   "id": "fc8fe8b1",
   "metadata": {},
   "outputs": [
    {
     "data": {
      "text/plain": [
       "Index(['age', 'workclass', 'fnlwgt', 'education', 'education-num',\n",
       "       'marital-status', 'occupation', 'relationship', 'race', 'sex',\n",
       "       'capital-gain', 'capital-loss', 'hours-per-week', 'native-country',\n",
       "       'Salary_range'],\n",
       "      dtype='object')"
      ]
     },
     "execution_count": 4,
     "metadata": {},
     "output_type": "execute_result"
    }
   ],
   "source": [
    "#Q2 print columns\n",
    "data.columns"
   ]
  },
  {
   "cell_type": "code",
   "execution_count": 5,
   "id": "cd2c174b",
   "metadata": {},
   "outputs": [],
   "source": [
    "# Q3 How many men and women (sex feature) are represented in this dataset? "
   ]
  },
  {
   "cell_type": "code",
   "execution_count": 6,
   "id": "6d74f5b6",
   "metadata": {},
   "outputs": [
    {
     "data": {
      "text/plain": [
       " Male      21790\n",
       " Female    10771\n",
       "Name: sex, dtype: int64"
      ]
     },
     "execution_count": 6,
     "metadata": {},
     "output_type": "execute_result"
    }
   ],
   "source": [
    "data['sex'].value_counts()"
   ]
  },
  {
   "cell_type": "code",
   "execution_count": 19,
   "id": "9c3f9706",
   "metadata": {},
   "outputs": [],
   "source": [
    "# Q4  What is the average age (age feature) of women? "
   ]
  },
  {
   "cell_type": "code",
   "execution_count": 32,
   "id": "20757b98",
   "metadata": {},
   "outputs": [
    {
     "data": {
      "text/plain": [
       "36.85823043357163"
      ]
     },
     "execution_count": 32,
     "metadata": {},
     "output_type": "execute_result"
    }
   ],
   "source": [
    "data.loc[data['sex']== ' Female']['age'].mean()"
   ]
  },
  {
   "cell_type": "code",
   "execution_count": 8,
   "id": "9dcd3f3a",
   "metadata": {},
   "outputs": [
    {
     "data": {
      "text/plain": [
       "39.43354749885268"
      ]
     },
     "execution_count": 8,
     "metadata": {},
     "output_type": "execute_result"
    }
   ],
   "source": [
    "data.loc[data['sex']==' Male']['age'].mean()"
   ]
  },
  {
   "cell_type": "code",
   "execution_count": 10,
   "id": "698fba4a",
   "metadata": {},
   "outputs": [
    {
     "data": {
      "text/plain": [
       "0.004207487485028101"
      ]
     },
     "execution_count": 10,
     "metadata": {},
     "output_type": "execute_result"
    }
   ],
   "source": [
    "# Q5 What is the percentage of German citizens (native-country feature)? \n",
    "float((data['native-country'] == ' Germany').sum())/data.shape[0]"
   ]
  },
  {
   "cell_type": "code",
   "execution_count": null,
   "id": "8e71c5b2",
   "metadata": {},
   "outputs": [],
   "source": []
  },
  {
   "cell_type": "code",
   "execution_count": 41,
   "id": "e05e906f",
   "metadata": {},
   "outputs": [
    {
     "name": "stdout",
     "output_type": "stream",
     "text": [
      "The average age of the rich: 44 +- 10.5 years, poor - 37 +- 14.0 years.\n"
     ]
    }
   ],
   "source": [
    "# Q6 What are the mean and standard deviation of age for those who earn more than 50K per year (salary feature) and those who earn less than 50K per year? \n",
    "ages1 = data.loc[data['Salary_range'] == ' >50K','age']\n",
    "ages2 = data.loc[data['Salary_range'] == ' <=50K','age']\n",
    "print(\"The average age of the rich: {0} +- {1} years, poor - {2} +- {3} years.\".format(\n",
    "    round(ages1.mean()), round(ages1.std(),1),\n",
    "    round(ages2.mean()), round(ages2.std(),1)))"
   ]
  },
  {
   "cell_type": "code",
   "execution_count": 42,
   "id": "6a40cc28",
   "metadata": {},
   "outputs": [],
   "source": [
    "# Q7 Is it true that people who earn more than 50K have at least high school education? (education – Bachelors, Prof-school, Assoc-acdm, Assoc-voc, Masters or Doctorate feature) "
   ]
  },
  {
   "cell_type": "code",
   "execution_count": 50,
   "id": "62071ffd",
   "metadata": {},
   "outputs": [
    {
     "data": {
      "text/plain": [
       "array([' HS-grad', ' Masters', ' Bachelors', ' Some-college',\n",
       "       ' Assoc-voc', ' Doctorate', ' Prof-school', ' Assoc-acdm',\n",
       "       ' 7th-8th', ' 12th', ' 10th', ' 11th', ' 9th', ' 5th-6th',\n",
       "       ' 1st-4th'], dtype=object)"
      ]
     },
     "execution_count": 50,
     "metadata": {},
     "output_type": "execute_result"
    }
   ],
   "source": [
    "data.loc[data['Salary_range'] == ' >50K', 'education'].unique()"
   ]
  },
  {
   "cell_type": "code",
   "execution_count": null,
   "id": "1a48dca4",
   "metadata": {},
   "outputs": [],
   "source": [
    "#Q8 Display age statistics for each race (race feature) and each gender (sex feature). Use groupby() and describe(). Find the maximum age of men of Amer-Indian-Eskimo race. "
   ]
  },
  {
   "cell_type": "code",
   "execution_count": 51,
   "id": "f0d5a724",
   "metadata": {},
   "outputs": [
    {
     "name": "stdout",
     "output_type": "stream",
     "text": [
      "Race:  Amer-Indian-Eskimo, sex:  Female\n",
      "count    119.000000\n",
      "mean      37.117647\n",
      "std       13.114991\n",
      "min       17.000000\n",
      "25%       27.000000\n",
      "50%       36.000000\n",
      "75%       46.000000\n",
      "max       80.000000\n",
      "Name: age, dtype: float64\n",
      "Race:  Amer-Indian-Eskimo, sex:  Male\n",
      "count    192.000000\n",
      "mean      37.208333\n",
      "std       12.049563\n",
      "min       17.000000\n",
      "25%       28.000000\n",
      "50%       35.000000\n",
      "75%       45.000000\n",
      "max       82.000000\n",
      "Name: age, dtype: float64\n",
      "Race:  Asian-Pac-Islander, sex:  Female\n",
      "count    346.000000\n",
      "mean      35.089595\n",
      "std       12.300845\n",
      "min       17.000000\n",
      "25%       25.000000\n",
      "50%       33.000000\n",
      "75%       43.750000\n",
      "max       75.000000\n",
      "Name: age, dtype: float64\n",
      "Race:  Asian-Pac-Islander, sex:  Male\n",
      "count    693.000000\n",
      "mean      39.073593\n",
      "std       12.883944\n",
      "min       18.000000\n",
      "25%       29.000000\n",
      "50%       37.000000\n",
      "75%       46.000000\n",
      "max       90.000000\n",
      "Name: age, dtype: float64\n",
      "Race:  Black, sex:  Female\n",
      "count    1555.000000\n",
      "mean       37.854019\n",
      "std        12.637197\n",
      "min        17.000000\n",
      "25%        28.000000\n",
      "50%        37.000000\n",
      "75%        46.000000\n",
      "max        90.000000\n",
      "Name: age, dtype: float64\n",
      "Race:  Black, sex:  Male\n",
      "count    1569.000000\n",
      "mean       37.682600\n",
      "std        12.882612\n",
      "min        17.000000\n",
      "25%        27.000000\n",
      "50%        36.000000\n",
      "75%        46.000000\n",
      "max        90.000000\n",
      "Name: age, dtype: float64\n",
      "Race:  Other, sex:  Female\n",
      "count    109.000000\n",
      "mean      31.678899\n",
      "std       11.631599\n",
      "min       17.000000\n",
      "25%       23.000000\n",
      "50%       29.000000\n",
      "75%       39.000000\n",
      "max       74.000000\n",
      "Name: age, dtype: float64\n",
      "Race:  Other, sex:  Male\n",
      "count    162.000000\n",
      "mean      34.654321\n",
      "std       11.355531\n",
      "min       17.000000\n",
      "25%       26.000000\n",
      "50%       32.000000\n",
      "75%       42.000000\n",
      "max       77.000000\n",
      "Name: age, dtype: float64\n",
      "Race:  White, sex:  Female\n",
      "count    8642.000000\n",
      "mean       36.811618\n",
      "std        14.329093\n",
      "min        17.000000\n",
      "25%        25.000000\n",
      "50%        35.000000\n",
      "75%        46.000000\n",
      "max        90.000000\n",
      "Name: age, dtype: float64\n",
      "Race:  White, sex:  Male\n",
      "count    19174.000000\n",
      "mean        39.652498\n",
      "std         13.436029\n",
      "min         17.000000\n",
      "25%         29.000000\n",
      "50%         38.000000\n",
      "75%         49.000000\n",
      "max         90.000000\n",
      "Name: age, dtype: float64\n"
     ]
    }
   ],
   "source": [
    "for (race, sex), sub_df in data.groupby(['race', 'sex']):\n",
    "    print(\"Race: {0}, sex: {1}\".format(race, sex))\n",
    "    print(sub_df['age'].describe())"
   ]
  },
  {
   "cell_type": "code",
   "execution_count": 52,
   "id": "bd9ca0e5",
   "metadata": {},
   "outputs": [],
   "source": [
    "# Q9 Among whom is the proportion of those who earn a lot (>50K) greater: married or single men (marital-status feature)? Consider as married those who have a marital-status starting with  Married (Married-civ-spouse, Married-spouse-absent or Married-AF-spouse), the rest are considered bachelors. "
   ]
  },
  {
   "cell_type": "code",
   "execution_count": 11,
   "id": "166ae27c",
   "metadata": {},
   "outputs": [],
   "source": [
    "#  isin() method helps in selecting rows with having a particular(or Multiple) value in a particular column."
   ]
  },
  {
   "cell_type": "code",
   "execution_count": 60,
   "id": "516ad2bf",
   "metadata": {},
   "outputs": [
    {
     "data": {
      "text/plain": [
       " <=50K    7552\n",
       " >50K      697\n",
       "Name: Salary_range, dtype: int64"
      ]
     },
     "execution_count": 60,
     "metadata": {},
     "output_type": "execute_result"
    }
   ],
   "source": [
    "data.loc[(data['sex'] == ' Male') &\n",
    "     (data['marital-status'].isin([' Never-married', \n",
    "                                   ' Separated', \n",
    "                                   ' Divorced',\n",
    "                                   ' Widowed'])), 'Salary_range'].value_counts()"
   ]
  },
  {
   "cell_type": "code",
   "execution_count": 64,
   "id": "7cbdaa3c",
   "metadata": {},
   "outputs": [
    {
     "data": {
      "text/plain": [
       " <=50K    7576\n",
       " >50K     5965\n",
       "Name: Salary_range, dtype: int64"
      ]
     },
     "execution_count": 64,
     "metadata": {},
     "output_type": "execute_result"
    }
   ],
   "source": [
    "data.loc[(data['sex'] == ' Male') &\n",
    "     (data['marital-status'].str.startswith(' Married')), 'Salary_range'].value_counts()"
   ]
  },
  {
   "cell_type": "code",
   "execution_count": 65,
   "id": "ec26a491",
   "metadata": {},
   "outputs": [
    {
     "data": {
      "text/plain": [
       " Married-civ-spouse       14976\n",
       " Never-married            10683\n",
       " Divorced                  4443\n",
       " Separated                 1025\n",
       " Widowed                    993\n",
       " Married-spouse-absent      418\n",
       " Married-AF-spouse           23\n",
       "Name: marital-status, dtype: int64"
      ]
     },
     "execution_count": 65,
     "metadata": {},
     "output_type": "execute_result"
    }
   ],
   "source": [
    "data['marital-status'].value_counts()"
   ]
  },
  {
   "cell_type": "code",
   "execution_count": null,
   "id": "27b2b23c",
   "metadata": {},
   "outputs": [],
   "source": [
    "# Q10 What is the maximum number of hours a person works per week (hours-per-week feature)? How many people work such a number of hours, and what is the percentage of those who earn a lot (>50K) among them? "
   ]
  },
  {
   "cell_type": "code",
   "execution_count": 66,
   "id": "2e69fdbe",
   "metadata": {},
   "outputs": [
    {
     "name": "stdout",
     "output_type": "stream",
     "text": [
      "Max time - 99 hours./week.\n",
      "Total number of such hard workers 85\n",
      "Percentage of rich among them 29%\n"
     ]
    }
   ],
   "source": [
    "max_load = data['hours-per-week'].max()\n",
    "print(\"Max time - {0} hours./week.\".format(max_load))\n",
    "\n",
    "num_workaholics = data[data['hours-per-week'] == max_load].shape[0]\n",
    "print(\"Total number of such hard workers {0}\".format(num_workaholics))\n",
    "\n",
    "rich_share = float(data[(data['hours-per-week'] == max_load)\n",
    "                 & (data['Salary_range'] == ' >50K')].shape[0]) / num_workaholics\n",
    "print(\"Percentage of rich among them {0}%\".format(int(100 * rich_share)))"
   ]
  },
  {
   "cell_type": "code",
   "execution_count": null,
   "id": "9aa8236d",
   "metadata": {},
   "outputs": [],
   "source": [
    "# Q11 Count the average time of work (hours-per-week) for those who earn a little and a lot (salary) for each country (native-country). What will these be for Japan? "
   ]
  },
  {
   "cell_type": "code",
   "execution_count": 67,
   "id": "67c28167",
   "metadata": {},
   "outputs": [
    {
     "name": "stdout",
     "output_type": "stream",
     "text": [
      " ?  <=50K 40.16\n",
      " ?  >50K 45.55\n",
      " Cambodia  <=50K 41.42\n",
      " Cambodia  >50K 40.0\n",
      " Canada  <=50K 37.91\n",
      " Canada  >50K 45.64\n",
      " China  <=50K 37.38\n",
      " China  >50K 38.9\n",
      " Columbia  <=50K 38.68\n",
      " Columbia  >50K 50.0\n",
      " Cuba  <=50K 37.99\n",
      " Cuba  >50K 42.44\n",
      " Dominican-Republic  <=50K 42.34\n",
      " Dominican-Republic  >50K 47.0\n",
      " Ecuador  <=50K 38.04\n",
      " Ecuador  >50K 48.75\n",
      " El-Salvador  <=50K 36.03\n",
      " El-Salvador  >50K 45.0\n",
      " England  <=50K 40.48\n",
      " England  >50K 44.53\n",
      " France  <=50K 41.06\n",
      " France  >50K 50.75\n",
      " Germany  <=50K 39.14\n",
      " Germany  >50K 44.98\n",
      " Greece  <=50K 41.81\n",
      " Greece  >50K 50.62\n",
      " Guatemala  <=50K 39.36\n",
      " Guatemala  >50K 36.67\n",
      " Haiti  <=50K 36.33\n",
      " Haiti  >50K 42.75\n",
      " Holand-Netherlands  <=50K 40.0\n",
      " Honduras  <=50K 34.33\n",
      " Honduras  >50K 60.0\n",
      " Hong  <=50K 39.14\n",
      " Hong  >50K 45.0\n",
      " Hungary  <=50K 31.3\n",
      " Hungary  >50K 50.0\n",
      " India  <=50K 38.23\n",
      " India  >50K 46.48\n",
      " Iran  <=50K 41.44\n",
      " Iran  >50K 47.5\n",
      " Ireland  <=50K 40.95\n",
      " Ireland  >50K 48.0\n",
      " Italy  <=50K 39.62\n",
      " Italy  >50K 45.4\n",
      " Jamaica  <=50K 38.24\n",
      " Jamaica  >50K 41.1\n",
      " Japan  <=50K 41.0\n",
      " Japan  >50K 47.96\n",
      " Laos  <=50K 40.38\n",
      " Laos  >50K 40.0\n",
      " Mexico  <=50K 40.0\n",
      " Mexico  >50K 46.58\n",
      " Nicaragua  <=50K 36.09\n",
      " Nicaragua  >50K 37.5\n",
      " Outlying-US(Guam-USVI-etc)  <=50K 41.86\n",
      " Peru  <=50K 35.07\n",
      " Peru  >50K 40.0\n",
      " Philippines  <=50K 38.07\n",
      " Philippines  >50K 43.03\n",
      " Poland  <=50K 38.17\n",
      " Poland  >50K 39.0\n",
      " Portugal  <=50K 41.94\n",
      " Portugal  >50K 41.5\n",
      " Puerto-Rico  <=50K 38.47\n",
      " Puerto-Rico  >50K 39.42\n",
      " Scotland  <=50K 39.44\n",
      " Scotland  >50K 46.67\n",
      " South  <=50K 40.16\n",
      " South  >50K 51.44\n",
      " Taiwan  <=50K 33.77\n",
      " Taiwan  >50K 46.8\n",
      " Thailand  <=50K 42.87\n",
      " Thailand  >50K 58.33\n",
      " Trinadad&Tobago  <=50K 37.06\n",
      " Trinadad&Tobago  >50K 40.0\n",
      " United-States  <=50K 38.8\n",
      " United-States  >50K 45.51\n",
      " Vietnam  <=50K 37.19\n",
      " Vietnam  >50K 39.2\n",
      " Yugoslavia  <=50K 41.6\n",
      " Yugoslavia  >50K 49.5\n"
     ]
    }
   ],
   "source": [
    "for (country, salary), sub_df in data.groupby(['native-country', 'Salary_range']):\n",
    "    print(country, salary, round(sub_df['hours-per-week'].mean(), 2))"
   ]
  },
  {
   "cell_type": "code",
   "execution_count": null,
   "id": "4ad4979b",
   "metadata": {},
   "outputs": [],
   "source": []
  }
 ],
 "metadata": {
  "kernelspec": {
   "display_name": "Python 3",
   "language": "python",
   "name": "python3"
  },
  "language_info": {
   "codemirror_mode": {
    "name": "ipython",
    "version": 3
   },
   "file_extension": ".py",
   "mimetype": "text/x-python",
   "name": "python",
   "nbconvert_exporter": "python",
   "pygments_lexer": "ipython3",
   "version": "3.8.8"
  }
 },
 "nbformat": 4,
 "nbformat_minor": 5
}
