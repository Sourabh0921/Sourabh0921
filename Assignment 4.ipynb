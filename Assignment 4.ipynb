{
 "cells": [
  {
   "cell_type": "markdown",
   "id": "82bcdb12",
   "metadata": {},
   "source": [
    " # Multi Indexing Grouping and Aggregations"
   ]
  },
  {
   "cell_type": "code",
   "execution_count": 1,
   "id": "d58177cf",
   "metadata": {},
   "outputs": [],
   "source": [
    "import numpy as np\n",
    "import pandas as pd\n",
    "import seaborn as sns\n",
    "import matplotlib.pyplot as plt"
   ]
  },
  {
   "cell_type": "code",
   "execution_count": 3,
   "id": "fdfb1194",
   "metadata": {},
   "outputs": [
    {
     "data": {
      "text/html": [
       "<div>\n",
       "<style scoped>\n",
       "    .dataframe tbody tr th:only-of-type {\n",
       "        vertical-align: middle;\n",
       "    }\n",
       "\n",
       "    .dataframe tbody tr th {\n",
       "        vertical-align: top;\n",
       "    }\n",
       "\n",
       "    .dataframe thead th {\n",
       "        text-align: right;\n",
       "    }\n",
       "</style>\n",
       "<table border=\"1\" class=\"dataframe\">\n",
       "  <thead>\n",
       "    <tr style=\"text-align: right;\">\n",
       "      <th></th>\n",
       "      <th>Date</th>\n",
       "      <th>Close</th>\n",
       "      <th>Volume</th>\n",
       "      <th>Symbol</th>\n",
       "    </tr>\n",
       "  </thead>\n",
       "  <tbody>\n",
       "    <tr>\n",
       "      <th>0</th>\n",
       "      <td>2016-10-03</td>\n",
       "      <td>31.50</td>\n",
       "      <td>14070500</td>\n",
       "      <td>CSCO</td>\n",
       "    </tr>\n",
       "    <tr>\n",
       "      <th>1</th>\n",
       "      <td>2016-10-03</td>\n",
       "      <td>112.52</td>\n",
       "      <td>21701800</td>\n",
       "      <td>AAPL</td>\n",
       "    </tr>\n",
       "    <tr>\n",
       "      <th>2</th>\n",
       "      <td>2016-10-03</td>\n",
       "      <td>57.42</td>\n",
       "      <td>19189500</td>\n",
       "      <td>MSFT</td>\n",
       "    </tr>\n",
       "    <tr>\n",
       "      <th>3</th>\n",
       "      <td>2016-10-04</td>\n",
       "      <td>113.00</td>\n",
       "      <td>29736800</td>\n",
       "      <td>AAPL</td>\n",
       "    </tr>\n",
       "    <tr>\n",
       "      <th>4</th>\n",
       "      <td>2016-10-04</td>\n",
       "      <td>57.24</td>\n",
       "      <td>20085900</td>\n",
       "      <td>MSFT</td>\n",
       "    </tr>\n",
       "  </tbody>\n",
       "</table>\n",
       "</div>"
      ],
      "text/plain": [
       "         Date   Close    Volume Symbol\n",
       "0  2016-10-03   31.50  14070500   CSCO\n",
       "1  2016-10-03  112.52  21701800   AAPL\n",
       "2  2016-10-03   57.42  19189500   MSFT\n",
       "3  2016-10-04  113.00  29736800   AAPL\n",
       "4  2016-10-04   57.24  20085900   MSFT"
      ]
     },
     "execution_count": 3,
     "metadata": {},
     "output_type": "execute_result"
    }
   ],
   "source": [
    "data=pd.read_csv('https://gist.githubusercontent.com/justmarkham/19241df07db2b93283fbb0cfe9c572f9/raw/f70931bd9f25c560b330f017f6933073c442c7ed/stocks.csv')\n",
    "data.head()"
   ]
  },
  {
   "cell_type": "markdown",
   "id": "008b4408",
   "metadata": {},
   "source": [
    "- set index on ‘Symbol‘ and 'Date‘, allow inplace changes "
   ]
  },
  {
   "cell_type": "code",
   "execution_count": 4,
   "id": "6c9d8250",
   "metadata": {},
   "outputs": [
    {
     "data": {
      "text/html": [
       "<div>\n",
       "<style scoped>\n",
       "    .dataframe tbody tr th:only-of-type {\n",
       "        vertical-align: middle;\n",
       "    }\n",
       "\n",
       "    .dataframe tbody tr th {\n",
       "        vertical-align: top;\n",
       "    }\n",
       "\n",
       "    .dataframe thead th {\n",
       "        text-align: right;\n",
       "    }\n",
       "</style>\n",
       "<table border=\"1\" class=\"dataframe\">\n",
       "  <thead>\n",
       "    <tr style=\"text-align: right;\">\n",
       "      <th></th>\n",
       "      <th>Date</th>\n",
       "      <th>Close</th>\n",
       "      <th>Volume</th>\n",
       "    </tr>\n",
       "    <tr>\n",
       "      <th>Symbol</th>\n",
       "      <th></th>\n",
       "      <th></th>\n",
       "      <th></th>\n",
       "    </tr>\n",
       "  </thead>\n",
       "  <tbody>\n",
       "    <tr>\n",
       "      <th>CSCO</th>\n",
       "      <td>2016-10-03</td>\n",
       "      <td>31.50</td>\n",
       "      <td>14070500</td>\n",
       "    </tr>\n",
       "    <tr>\n",
       "      <th>AAPL</th>\n",
       "      <td>2016-10-03</td>\n",
       "      <td>112.52</td>\n",
       "      <td>21701800</td>\n",
       "    </tr>\n",
       "    <tr>\n",
       "      <th>MSFT</th>\n",
       "      <td>2016-10-03</td>\n",
       "      <td>57.42</td>\n",
       "      <td>19189500</td>\n",
       "    </tr>\n",
       "    <tr>\n",
       "      <th>AAPL</th>\n",
       "      <td>2016-10-04</td>\n",
       "      <td>113.00</td>\n",
       "      <td>29736800</td>\n",
       "    </tr>\n",
       "    <tr>\n",
       "      <th>MSFT</th>\n",
       "      <td>2016-10-04</td>\n",
       "      <td>57.24</td>\n",
       "      <td>20085900</td>\n",
       "    </tr>\n",
       "    <tr>\n",
       "      <th>CSCO</th>\n",
       "      <td>2016-10-04</td>\n",
       "      <td>31.35</td>\n",
       "      <td>18460400</td>\n",
       "    </tr>\n",
       "    <tr>\n",
       "      <th>MSFT</th>\n",
       "      <td>2016-10-05</td>\n",
       "      <td>57.64</td>\n",
       "      <td>16726400</td>\n",
       "    </tr>\n",
       "    <tr>\n",
       "      <th>CSCO</th>\n",
       "      <td>2016-10-05</td>\n",
       "      <td>31.59</td>\n",
       "      <td>11808600</td>\n",
       "    </tr>\n",
       "    <tr>\n",
       "      <th>AAPL</th>\n",
       "      <td>2016-10-05</td>\n",
       "      <td>113.05</td>\n",
       "      <td>21453100</td>\n",
       "    </tr>\n",
       "  </tbody>\n",
       "</table>\n",
       "</div>"
      ],
      "text/plain": [
       "              Date   Close    Volume\n",
       "Symbol                              \n",
       "CSCO    2016-10-03   31.50  14070500\n",
       "AAPL    2016-10-03  112.52  21701800\n",
       "MSFT    2016-10-03   57.42  19189500\n",
       "AAPL    2016-10-04  113.00  29736800\n",
       "MSFT    2016-10-04   57.24  20085900\n",
       "CSCO    2016-10-04   31.35  18460400\n",
       "MSFT    2016-10-05   57.64  16726400\n",
       "CSCO    2016-10-05   31.59  11808600\n",
       "AAPL    2016-10-05  113.05  21453100"
      ]
     },
     "execution_count": 4,
     "metadata": {},
     "output_type": "execute_result"
    }
   ],
   "source": [
    "data.set_index('Symbol','Date')"
   ]
  },
  {
   "cell_type": "code",
   "execution_count": 5,
   "id": "0361e1d7",
   "metadata": {},
   "outputs": [],
   "source": [
    "# sort indexes "
   ]
  },
  {
   "cell_type": "code",
   "execution_count": 7,
   "id": "b419de66",
   "metadata": {},
   "outputs": [
    {
     "data": {
      "text/html": [
       "<div>\n",
       "<style scoped>\n",
       "    .dataframe tbody tr th:only-of-type {\n",
       "        vertical-align: middle;\n",
       "    }\n",
       "\n",
       "    .dataframe tbody tr th {\n",
       "        vertical-align: top;\n",
       "    }\n",
       "\n",
       "    .dataframe thead th {\n",
       "        text-align: right;\n",
       "    }\n",
       "</style>\n",
       "<table border=\"1\" class=\"dataframe\">\n",
       "  <thead>\n",
       "    <tr style=\"text-align: right;\">\n",
       "      <th></th>\n",
       "      <th>Date</th>\n",
       "      <th>Close</th>\n",
       "      <th>Volume</th>\n",
       "      <th>Symbol</th>\n",
       "    </tr>\n",
       "  </thead>\n",
       "  <tbody>\n",
       "    <tr>\n",
       "      <th>0</th>\n",
       "      <td>2016-10-03</td>\n",
       "      <td>31.50</td>\n",
       "      <td>14070500</td>\n",
       "      <td>CSCO</td>\n",
       "    </tr>\n",
       "    <tr>\n",
       "      <th>1</th>\n",
       "      <td>2016-10-03</td>\n",
       "      <td>112.52</td>\n",
       "      <td>21701800</td>\n",
       "      <td>AAPL</td>\n",
       "    </tr>\n",
       "    <tr>\n",
       "      <th>2</th>\n",
       "      <td>2016-10-03</td>\n",
       "      <td>57.42</td>\n",
       "      <td>19189500</td>\n",
       "      <td>MSFT</td>\n",
       "    </tr>\n",
       "    <tr>\n",
       "      <th>3</th>\n",
       "      <td>2016-10-04</td>\n",
       "      <td>113.00</td>\n",
       "      <td>29736800</td>\n",
       "      <td>AAPL</td>\n",
       "    </tr>\n",
       "    <tr>\n",
       "      <th>4</th>\n",
       "      <td>2016-10-04</td>\n",
       "      <td>57.24</td>\n",
       "      <td>20085900</td>\n",
       "      <td>MSFT</td>\n",
       "    </tr>\n",
       "    <tr>\n",
       "      <th>5</th>\n",
       "      <td>2016-10-04</td>\n",
       "      <td>31.35</td>\n",
       "      <td>18460400</td>\n",
       "      <td>CSCO</td>\n",
       "    </tr>\n",
       "    <tr>\n",
       "      <th>6</th>\n",
       "      <td>2016-10-05</td>\n",
       "      <td>57.64</td>\n",
       "      <td>16726400</td>\n",
       "      <td>MSFT</td>\n",
       "    </tr>\n",
       "    <tr>\n",
       "      <th>7</th>\n",
       "      <td>2016-10-05</td>\n",
       "      <td>31.59</td>\n",
       "      <td>11808600</td>\n",
       "      <td>CSCO</td>\n",
       "    </tr>\n",
       "    <tr>\n",
       "      <th>8</th>\n",
       "      <td>2016-10-05</td>\n",
       "      <td>113.05</td>\n",
       "      <td>21453100</td>\n",
       "      <td>AAPL</td>\n",
       "    </tr>\n",
       "  </tbody>\n",
       "</table>\n",
       "</div>"
      ],
      "text/plain": [
       "         Date   Close    Volume Symbol\n",
       "0  2016-10-03   31.50  14070500   CSCO\n",
       "1  2016-10-03  112.52  21701800   AAPL\n",
       "2  2016-10-03   57.42  19189500   MSFT\n",
       "3  2016-10-04  113.00  29736800   AAPL\n",
       "4  2016-10-04   57.24  20085900   MSFT\n",
       "5  2016-10-04   31.35  18460400   CSCO\n",
       "6  2016-10-05   57.64  16726400   MSFT\n",
       "7  2016-10-05   31.59  11808600   CSCO\n",
       "8  2016-10-05  113.05  21453100   AAPL"
      ]
     },
     "execution_count": 7,
     "metadata": {},
     "output_type": "execute_result"
    }
   ],
   "source": [
    "data.sort_index()"
   ]
  },
  {
   "cell_type": "code",
   "execution_count": 8,
   "id": "1a86fe66",
   "metadata": {},
   "outputs": [],
   "source": [
    "# Select data for “AAPL” "
   ]
  },
  {
   "cell_type": "code",
   "execution_count": 23,
   "id": "a80d6709",
   "metadata": {},
   "outputs": [
    {
     "data": {
      "text/html": [
       "<div>\n",
       "<style scoped>\n",
       "    .dataframe tbody tr th:only-of-type {\n",
       "        vertical-align: middle;\n",
       "    }\n",
       "\n",
       "    .dataframe tbody tr th {\n",
       "        vertical-align: top;\n",
       "    }\n",
       "\n",
       "    .dataframe thead th {\n",
       "        text-align: right;\n",
       "    }\n",
       "</style>\n",
       "<table border=\"1\" class=\"dataframe\">\n",
       "  <thead>\n",
       "    <tr style=\"text-align: right;\">\n",
       "      <th></th>\n",
       "      <th>Symbol</th>\n",
       "    </tr>\n",
       "  </thead>\n",
       "  <tbody>\n",
       "    <tr>\n",
       "      <th>0</th>\n",
       "      <td>CSCO</td>\n",
       "    </tr>\n",
       "    <tr>\n",
       "      <th>1</th>\n",
       "      <td>AAPL</td>\n",
       "    </tr>\n",
       "    <tr>\n",
       "      <th>2</th>\n",
       "      <td>MSFT</td>\n",
       "    </tr>\n",
       "    <tr>\n",
       "      <th>3</th>\n",
       "      <td>AAPL</td>\n",
       "    </tr>\n",
       "    <tr>\n",
       "      <th>4</th>\n",
       "      <td>MSFT</td>\n",
       "    </tr>\n",
       "    <tr>\n",
       "      <th>5</th>\n",
       "      <td>CSCO</td>\n",
       "    </tr>\n",
       "    <tr>\n",
       "      <th>6</th>\n",
       "      <td>MSFT</td>\n",
       "    </tr>\n",
       "    <tr>\n",
       "      <th>7</th>\n",
       "      <td>CSCO</td>\n",
       "    </tr>\n",
       "    <tr>\n",
       "      <th>8</th>\n",
       "      <td>AAPL</td>\n",
       "    </tr>\n",
       "  </tbody>\n",
       "</table>\n",
       "</div>"
      ],
      "text/plain": [
       "  Symbol\n",
       "0   CSCO\n",
       "1   AAPL\n",
       "2   MSFT\n",
       "3   AAPL\n",
       "4   MSFT\n",
       "5   CSCO\n",
       "6   MSFT\n",
       "7   CSCO\n",
       "8   AAPL"
      ]
     },
     "execution_count": 23,
     "metadata": {},
     "output_type": "execute_result"
    }
   ],
   "source": [
    "data[[\"Symbol\"]]"
   ]
  },
  {
   "cell_type": "code",
   "execution_count": 24,
   "id": "80457a1c",
   "metadata": {},
   "outputs": [],
   "source": [
    "# Select “Close” value for “AAPL” on “2016-10-03” "
   ]
  },
  {
   "cell_type": "code",
   "execution_count": 26,
   "id": "65456a27",
   "metadata": {},
   "outputs": [],
   "source": [
    "close=pd.DataFrame({'AAPL':[2016/10/3]})"
   ]
  },
  {
   "cell_type": "code",
   "execution_count": 27,
   "id": "412f600e",
   "metadata": {},
   "outputs": [
    {
     "data": {
      "text/html": [
       "<div>\n",
       "<style scoped>\n",
       "    .dataframe tbody tr th:only-of-type {\n",
       "        vertical-align: middle;\n",
       "    }\n",
       "\n",
       "    .dataframe tbody tr th {\n",
       "        vertical-align: top;\n",
       "    }\n",
       "\n",
       "    .dataframe thead th {\n",
       "        text-align: right;\n",
       "    }\n",
       "</style>\n",
       "<table border=\"1\" class=\"dataframe\">\n",
       "  <thead>\n",
       "    <tr style=\"text-align: right;\">\n",
       "      <th></th>\n",
       "      <th>AAPL</th>\n",
       "    </tr>\n",
       "  </thead>\n",
       "  <tbody>\n",
       "    <tr>\n",
       "      <th>0</th>\n",
       "      <td>67.2</td>\n",
       "    </tr>\n",
       "  </tbody>\n",
       "</table>\n",
       "</div>"
      ],
      "text/plain": [
       "   AAPL\n",
       "0  67.2"
      ]
     },
     "execution_count": 27,
     "metadata": {},
     "output_type": "execute_result"
    }
   ],
   "source": [
    "close"
   ]
  },
  {
   "cell_type": "code",
   "execution_count": 28,
   "id": "30d42198",
   "metadata": {},
   "outputs": [],
   "source": [
    "# Select data for Apple and Microsoft "
   ]
  },
  {
   "cell_type": "code",
   "execution_count": 31,
   "id": "ef539dc3",
   "metadata": {},
   "outputs": [
    {
     "ename": "KeyError",
     "evalue": "\"['AAPL'] not in index\"",
     "output_type": "error",
     "traceback": [
      "\u001b[1;31m---------------------------------------------------------------------------\u001b[0m",
      "\u001b[1;31mKeyError\u001b[0m                                  Traceback (most recent call last)",
      "\u001b[1;32m<ipython-input-31-310ab8930bad>\u001b[0m in \u001b[0;36m<module>\u001b[1;34m\u001b[0m\n\u001b[1;32m----> 1\u001b[1;33m \u001b[0mdata\u001b[0m\u001b[1;33m[\u001b[0m\u001b[1;33m[\u001b[0m\u001b[1;34m'Symbol'\u001b[0m\u001b[1;33m,\u001b[0m\u001b[1;34m'AAPL'\u001b[0m\u001b[1;33m]\u001b[0m\u001b[1;33m]\u001b[0m\u001b[1;33m\u001b[0m\u001b[1;33m\u001b[0m\u001b[0m\n\u001b[0m",
      "\u001b[1;32m~\\anaconda3\\lib\\site-packages\\pandas\\core\\frame.py\u001b[0m in \u001b[0;36m__getitem__\u001b[1;34m(self, key)\u001b[0m\n\u001b[0;32m   3028\u001b[0m             \u001b[1;32mif\u001b[0m \u001b[0mis_iterator\u001b[0m\u001b[1;33m(\u001b[0m\u001b[0mkey\u001b[0m\u001b[1;33m)\u001b[0m\u001b[1;33m:\u001b[0m\u001b[1;33m\u001b[0m\u001b[1;33m\u001b[0m\u001b[0m\n\u001b[0;32m   3029\u001b[0m                 \u001b[0mkey\u001b[0m \u001b[1;33m=\u001b[0m \u001b[0mlist\u001b[0m\u001b[1;33m(\u001b[0m\u001b[0mkey\u001b[0m\u001b[1;33m)\u001b[0m\u001b[1;33m\u001b[0m\u001b[1;33m\u001b[0m\u001b[0m\n\u001b[1;32m-> 3030\u001b[1;33m             \u001b[0mindexer\u001b[0m \u001b[1;33m=\u001b[0m \u001b[0mself\u001b[0m\u001b[1;33m.\u001b[0m\u001b[0mloc\u001b[0m\u001b[1;33m.\u001b[0m\u001b[0m_get_listlike_indexer\u001b[0m\u001b[1;33m(\u001b[0m\u001b[0mkey\u001b[0m\u001b[1;33m,\u001b[0m \u001b[0maxis\u001b[0m\u001b[1;33m=\u001b[0m\u001b[1;36m1\u001b[0m\u001b[1;33m,\u001b[0m \u001b[0mraise_missing\u001b[0m\u001b[1;33m=\u001b[0m\u001b[1;32mTrue\u001b[0m\u001b[1;33m)\u001b[0m\u001b[1;33m[\u001b[0m\u001b[1;36m1\u001b[0m\u001b[1;33m]\u001b[0m\u001b[1;33m\u001b[0m\u001b[1;33m\u001b[0m\u001b[0m\n\u001b[0m\u001b[0;32m   3031\u001b[0m \u001b[1;33m\u001b[0m\u001b[0m\n\u001b[0;32m   3032\u001b[0m         \u001b[1;31m# take() does not accept boolean indexers\u001b[0m\u001b[1;33m\u001b[0m\u001b[1;33m\u001b[0m\u001b[1;33m\u001b[0m\u001b[0m\n",
      "\u001b[1;32m~\\anaconda3\\lib\\site-packages\\pandas\\core\\indexing.py\u001b[0m in \u001b[0;36m_get_listlike_indexer\u001b[1;34m(self, key, axis, raise_missing)\u001b[0m\n\u001b[0;32m   1264\u001b[0m             \u001b[0mkeyarr\u001b[0m\u001b[1;33m,\u001b[0m \u001b[0mindexer\u001b[0m\u001b[1;33m,\u001b[0m \u001b[0mnew_indexer\u001b[0m \u001b[1;33m=\u001b[0m \u001b[0max\u001b[0m\u001b[1;33m.\u001b[0m\u001b[0m_reindex_non_unique\u001b[0m\u001b[1;33m(\u001b[0m\u001b[0mkeyarr\u001b[0m\u001b[1;33m)\u001b[0m\u001b[1;33m\u001b[0m\u001b[1;33m\u001b[0m\u001b[0m\n\u001b[0;32m   1265\u001b[0m \u001b[1;33m\u001b[0m\u001b[0m\n\u001b[1;32m-> 1266\u001b[1;33m         \u001b[0mself\u001b[0m\u001b[1;33m.\u001b[0m\u001b[0m_validate_read_indexer\u001b[0m\u001b[1;33m(\u001b[0m\u001b[0mkeyarr\u001b[0m\u001b[1;33m,\u001b[0m \u001b[0mindexer\u001b[0m\u001b[1;33m,\u001b[0m \u001b[0maxis\u001b[0m\u001b[1;33m,\u001b[0m \u001b[0mraise_missing\u001b[0m\u001b[1;33m=\u001b[0m\u001b[0mraise_missing\u001b[0m\u001b[1;33m)\u001b[0m\u001b[1;33m\u001b[0m\u001b[1;33m\u001b[0m\u001b[0m\n\u001b[0m\u001b[0;32m   1267\u001b[0m         \u001b[1;32mreturn\u001b[0m \u001b[0mkeyarr\u001b[0m\u001b[1;33m,\u001b[0m \u001b[0mindexer\u001b[0m\u001b[1;33m\u001b[0m\u001b[1;33m\u001b[0m\u001b[0m\n\u001b[0;32m   1268\u001b[0m \u001b[1;33m\u001b[0m\u001b[0m\n",
      "\u001b[1;32m~\\anaconda3\\lib\\site-packages\\pandas\\core\\indexing.py\u001b[0m in \u001b[0;36m_validate_read_indexer\u001b[1;34m(self, key, indexer, axis, raise_missing)\u001b[0m\n\u001b[0;32m   1314\u001b[0m             \u001b[1;32mif\u001b[0m \u001b[0mraise_missing\u001b[0m\u001b[1;33m:\u001b[0m\u001b[1;33m\u001b[0m\u001b[1;33m\u001b[0m\u001b[0m\n\u001b[0;32m   1315\u001b[0m                 \u001b[0mnot_found\u001b[0m \u001b[1;33m=\u001b[0m \u001b[0mlist\u001b[0m\u001b[1;33m(\u001b[0m\u001b[0mset\u001b[0m\u001b[1;33m(\u001b[0m\u001b[0mkey\u001b[0m\u001b[1;33m)\u001b[0m \u001b[1;33m-\u001b[0m \u001b[0mset\u001b[0m\u001b[1;33m(\u001b[0m\u001b[0max\u001b[0m\u001b[1;33m)\u001b[0m\u001b[1;33m)\u001b[0m\u001b[1;33m\u001b[0m\u001b[1;33m\u001b[0m\u001b[0m\n\u001b[1;32m-> 1316\u001b[1;33m                 \u001b[1;32mraise\u001b[0m \u001b[0mKeyError\u001b[0m\u001b[1;33m(\u001b[0m\u001b[1;34mf\"{not_found} not in index\"\u001b[0m\u001b[1;33m)\u001b[0m\u001b[1;33m\u001b[0m\u001b[1;33m\u001b[0m\u001b[0m\n\u001b[0m\u001b[0;32m   1317\u001b[0m \u001b[1;33m\u001b[0m\u001b[0m\n\u001b[0;32m   1318\u001b[0m             \u001b[0mnot_found\u001b[0m \u001b[1;33m=\u001b[0m \u001b[0mkey\u001b[0m\u001b[1;33m[\u001b[0m\u001b[0mmissing_mask\u001b[0m\u001b[1;33m]\u001b[0m\u001b[1;33m\u001b[0m\u001b[1;33m\u001b[0m\u001b[0m\n",
      "\u001b[1;31mKeyError\u001b[0m: \"['AAPL'] not in index\""
     ]
    }
   ],
   "source": [
    "data[['Symbol','AAPL']]"
   ]
  },
  {
   "cell_type": "code",
   "execution_count": 32,
   "id": "5786c830",
   "metadata": {},
   "outputs": [],
   "source": [
    "# Select data for Apple and Microsoft for a particular Date "
   ]
  },
  {
   "cell_type": "code",
   "execution_count": 33,
   "id": "6edb73d8",
   "metadata": {},
   "outputs": [],
   "source": [
    "# Select data for apple on multiple dates "
   ]
  },
  {
   "cell_type": "code",
   "execution_count": 34,
   "id": "e4e2f73a",
   "metadata": {},
   "outputs": [],
   "source": [
    "#Selecting all data for '2016-10-03','2016-10-04‘date "
   ]
  },
  {
   "cell_type": "markdown",
   "id": "b96d992a",
   "metadata": {},
   "source": [
    "# Grouping and Aggregations "
   ]
  },
  {
   "cell_type": "code",
   "execution_count": 35,
   "id": "cd2f63ac",
   "metadata": {},
   "outputs": [
    {
     "data": {
      "text/html": [
       "<div>\n",
       "<style scoped>\n",
       "    .dataframe tbody tr th:only-of-type {\n",
       "        vertical-align: middle;\n",
       "    }\n",
       "\n",
       "    .dataframe tbody tr th {\n",
       "        vertical-align: top;\n",
       "    }\n",
       "\n",
       "    .dataframe thead th {\n",
       "        text-align: right;\n",
       "    }\n",
       "</style>\n",
       "<table border=\"1\" class=\"dataframe\">\n",
       "  <thead>\n",
       "    <tr style=\"text-align: right;\">\n",
       "      <th></th>\n",
       "      <th>date</th>\n",
       "      <th>gender</th>\n",
       "      <th>region</th>\n",
       "      <th>sales</th>\n",
       "    </tr>\n",
       "  </thead>\n",
       "  <tbody>\n",
       "    <tr>\n",
       "      <th>0</th>\n",
       "      <td>8/22/2022</td>\n",
       "      <td>Male</td>\n",
       "      <td>North-West</td>\n",
       "      <td>20381</td>\n",
       "    </tr>\n",
       "    <tr>\n",
       "      <th>1</th>\n",
       "      <td>3/5/2022</td>\n",
       "      <td>Male</td>\n",
       "      <td>North-East</td>\n",
       "      <td>14495</td>\n",
       "    </tr>\n",
       "    <tr>\n",
       "      <th>2</th>\n",
       "      <td>2/9/2022</td>\n",
       "      <td>Male</td>\n",
       "      <td>North-East</td>\n",
       "      <td>13510</td>\n",
       "    </tr>\n",
       "    <tr>\n",
       "      <th>3</th>\n",
       "      <td>6/22/2022</td>\n",
       "      <td>Male</td>\n",
       "      <td>North-East</td>\n",
       "      <td>15983</td>\n",
       "    </tr>\n",
       "    <tr>\n",
       "      <th>4</th>\n",
       "      <td>8/10/2022</td>\n",
       "      <td>Female</td>\n",
       "      <td>North-West</td>\n",
       "      <td>15007</td>\n",
       "    </tr>\n",
       "  </tbody>\n",
       "</table>\n",
       "</div>"
      ],
      "text/plain": [
       "        date  gender      region  sales\n",
       "0  8/22/2022    Male  North-West  20381\n",
       "1   3/5/2022    Male  North-East  14495\n",
       "2   2/9/2022    Male  North-East  13510\n",
       "3  6/22/2022    Male  North-East  15983\n",
       "4  8/10/2022  Female  North-West  15007"
      ]
     },
     "execution_count": 35,
     "metadata": {},
     "output_type": "execute_result"
    }
   ],
   "source": [
    "data=pd.read_csv('https://raw.githubusercontent.com/datagy/data/main/sales.csv')\n",
    "data.head()"
   ]
  },
  {
   "cell_type": "code",
   "execution_count": null,
   "id": "04859336",
   "metadata": {},
   "outputs": [],
   "source": [
    "# Load data and group by Region "
   ]
  },
  {
   "cell_type": "code",
   "execution_count": 40,
   "id": "dcb0efd4",
   "metadata": {},
   "outputs": [
    {
     "data": {
      "text/plain": [
       "<pandas.core.groupby.generic.DataFrameGroupBy object at 0x000002050B9088B0>"
      ]
     },
     "execution_count": 40,
     "metadata": {},
     "output_type": "execute_result"
    }
   ],
   "source": [
    "data.groupby('region')"
   ]
  },
  {
   "cell_type": "code",
   "execution_count": 41,
   "id": "84265b4a",
   "metadata": {},
   "outputs": [],
   "source": [
    "g1=data.groupby([\"region\"]).count()"
   ]
  },
  {
   "cell_type": "code",
   "execution_count": 42,
   "id": "897da3f7",
   "metadata": {},
   "outputs": [
    {
     "data": {
      "text/html": [
       "<div>\n",
       "<style scoped>\n",
       "    .dataframe tbody tr th:only-of-type {\n",
       "        vertical-align: middle;\n",
       "    }\n",
       "\n",
       "    .dataframe tbody tr th {\n",
       "        vertical-align: top;\n",
       "    }\n",
       "\n",
       "    .dataframe thead th {\n",
       "        text-align: right;\n",
       "    }\n",
       "</style>\n",
       "<table border=\"1\" class=\"dataframe\">\n",
       "  <thead>\n",
       "    <tr style=\"text-align: right;\">\n",
       "      <th></th>\n",
       "      <th>date</th>\n",
       "      <th>gender</th>\n",
       "      <th>sales</th>\n",
       "    </tr>\n",
       "    <tr>\n",
       "      <th>region</th>\n",
       "      <th></th>\n",
       "      <th></th>\n",
       "      <th></th>\n",
       "    </tr>\n",
       "  </thead>\n",
       "  <tbody>\n",
       "    <tr>\n",
       "      <th>North-East</th>\n",
       "      <td>347</td>\n",
       "      <td>347</td>\n",
       "      <td>347</td>\n",
       "    </tr>\n",
       "    <tr>\n",
       "      <th>North-West</th>\n",
       "      <td>322</td>\n",
       "      <td>322</td>\n",
       "      <td>322</td>\n",
       "    </tr>\n",
       "    <tr>\n",
       "      <th>South</th>\n",
       "      <td>331</td>\n",
       "      <td>331</td>\n",
       "      <td>331</td>\n",
       "    </tr>\n",
       "  </tbody>\n",
       "</table>\n",
       "</div>"
      ],
      "text/plain": [
       "            date  gender  sales\n",
       "region                         \n",
       "North-East   347     347    347\n",
       "North-West   322     322    322\n",
       "South        331     331    331"
      ]
     },
     "execution_count": 42,
     "metadata": {},
     "output_type": "execute_result"
    }
   ],
   "source": [
    "g1"
   ]
  },
  {
   "cell_type": "code",
   "execution_count": 48,
   "id": "4b6fc099",
   "metadata": {},
   "outputs": [],
   "source": [
    "# Accessing the Groups in a GroupBy object "
   ]
  },
  {
   "cell_type": "code",
   "execution_count": 49,
   "id": "bfc8e04a",
   "metadata": {},
   "outputs": [
    {
     "name": "stdout",
     "output_type": "stream",
     "text": [
      "{'North-East': [1, 2, 3, 12, 13, 14, 15, 18, 19, 23, 24, 25, 26, 28, 31, 35, 40, 41, 45, 50, 51, 58, 59, 60, 63, 64, 67, 68, 72, 75, 76, 77, 80, 82, 83, 85, 87, 92, 94, 100, 105, 108, 109, 112, 113, 114, 115, 120, 121, 125, 127, 130, 134, 138, 139, 140, 141, 142, 146, 149, 155, 157, 164, 165, 176, 177, 179, 180, 188, 191, 193, 195, 199, 201, 205, 207, 211, 216, 218, 222, 224, 228, 231, 236, 242, 243, 246, 249, 254, 256, 259, 264, 265, 271, 272, 280, 283, 287, 288, 289, ...], 'North-West': [0, 4, 7, 11, 16, 17, 21, 29, 30, 34, 36, 38, 39, 42, 43, 44, 46, 48, 49, 52, 55, 56, 62, 66, 70, 71, 74, 79, 88, 89, 90, 91, 95, 98, 99, 103, 106, 116, 117, 119, 122, 123, 128, 129, 132, 137, 143, 144, 147, 148, 151, 153, 154, 156, 160, 161, 169, 171, 175, 178, 184, 185, 186, 198, 204, 206, 209, 212, 217, 221, 223, 225, 230, 233, 234, 235, 237, 240, 244, 251, 252, 253, 255, 260, 261, 263, 266, 267, 277, 278, 281, 285, 290, 291, 296, 297, 300, 318, 320, 321, ...], 'South': [5, 6, 8, 9, 10, 20, 22, 27, 32, 33, 37, 47, 53, 54, 57, 61, 65, 69, 73, 78, 81, 84, 86, 93, 96, 97, 101, 102, 104, 107, 110, 111, 118, 124, 126, 131, 133, 135, 136, 145, 150, 152, 158, 159, 162, 163, 166, 167, 168, 170, 172, 173, 174, 181, 182, 183, 187, 189, 190, 192, 194, 196, 197, 200, 202, 203, 208, 210, 213, 214, 215, 219, 220, 226, 227, 229, 232, 238, 239, 241, 245, 247, 248, 250, 257, 258, 262, 268, 269, 270, 273, 274, 275, 276, 279, 282, 284, 286, 292, 294, ...]}\n"
     ]
    }
   ],
   "source": [
    "print(data.groupby('region').groups)"
   ]
  },
  {
   "cell_type": "code",
   "execution_count": 43,
   "id": "0c8c89f8",
   "metadata": {},
   "outputs": [],
   "source": [
    "# counting number of groups  "
   ]
  },
  {
   "cell_type": "code",
   "execution_count": 47,
   "id": "5e6944a0",
   "metadata": {},
   "outputs": [
    {
     "data": {
      "text/plain": [
       "3"
      ]
     },
     "execution_count": 47,
     "metadata": {},
     "output_type": "execute_result"
    }
   ],
   "source": [
    "data.groupby('region').ngroups"
   ]
  },
  {
   "cell_type": "code",
   "execution_count": 50,
   "id": "5bcb49a7",
   "metadata": {},
   "outputs": [],
   "source": [
    "# Selecting a Group of south region "
   ]
  },
  {
   "cell_type": "code",
   "execution_count": 54,
   "id": "4bbc8ed4",
   "metadata": {},
   "outputs": [
    {
     "name": "stdout",
     "output_type": "stream",
     "text": [
      "           date  gender region  sales\n",
      "5      9/6/2022    Male  South  21792\n",
      "6     8/21/2022    Male  South  20113\n",
      "8    11/22/2022    Male  South  14594\n",
      "9     1/16/2022  Female  South  24114\n",
      "10   12/21/2022    Male  South  35154\n",
      "..          ...     ...    ...    ...\n",
      "972    6/9/2022    Male  South  22254\n",
      "979  11/24/2022  Female  South  25591\n",
      "981   12/5/2022    Male  South  34334\n",
      "985   12/1/2022  Female  South  21282\n",
      "994   9/29/2022    Male  South  21255\n",
      "\n",
      "[331 rows x 4 columns]\n"
     ]
    }
   ],
   "source": [
    "print(data.groupby('region').get_group('South'))"
   ]
  },
  {
   "cell_type": "code",
   "execution_count": 55,
   "id": "ba33e2f6",
   "metadata": {},
   "outputs": [],
   "source": [
    "# Findout average sales per region "
   ]
  },
  {
   "cell_type": "code",
   "execution_count": 59,
   "id": "2e3de6f0",
   "metadata": {},
   "outputs": [
    {
     "name": "stdout",
     "output_type": "stream",
     "text": [
      "region\n",
      "North-East    17386.072046\n",
      "North-West    15257.732919\n",
      "South         24466.864048\n",
      "Name: sales, dtype: float64\n"
     ]
    }
   ],
   "source": [
    "averages=data.groupby('region')['sales'].mean()\n",
    "print(averages)"
   ]
  },
  {
   "cell_type": "markdown",
   "id": "930152d0",
   "metadata": {},
   "source": [
    "- Applying Multiple Aggregations Using Pandas GroupBy - \n",
    "- Find out Mean, median and variance of sales per region "
   ]
  },
  {
   "cell_type": "code",
   "execution_count": 63,
   "id": "cf64a94c",
   "metadata": {},
   "outputs": [
    {
     "name": "stdout",
     "output_type": "stream",
     "text": [
      "region\n",
      "North-East    17386.072046\n",
      "North-West    15257.732919\n",
      "South         24466.864048\n",
      "Name: sales, dtype: float64\n",
      "region\n",
      "North-East    17414.0\n",
      "North-West    15337.5\n",
      "South         24492.0\n",
      "Name: sales, dtype: float64\n",
      "region\n",
      "North-East    4.131225e+06\n",
      "North-West    1.311495e+07\n",
      "South         2.760139e+07\n",
      "Name: sales, dtype: float64\n"
     ]
    }
   ],
   "source": [
    "averages=data.groupby('region')['sales'].mean()\n",
    "print(averages)\n",
    "aggregation=data.groupby('region')['sales'].median()\n",
    "print(aggregation)\n",
    "averages1=data.groupby('region')['sales'].var()\n",
    "print(averages1)"
   ]
  },
  {
   "cell_type": "code",
   "execution_count": 65,
   "id": "7fa8533a",
   "metadata": {},
   "outputs": [
    {
     "name": "stdout",
     "output_type": "stream",
     "text": [
      "                    mean          std           var\n",
      "region                                             \n",
      "North-East  17386.072046  2032.541552  4.131225e+06\n",
      "North-West  15257.732919  3621.456493  1.311495e+07\n",
      "South       24466.864048  5253.702513  2.760139e+07\n"
     ]
    }
   ],
   "source": [
    "# OR\n",
    "# Applying Multiple Aggregations with .agg()\n",
    "import numpy as np\n",
    "aggs = data.groupby('region')['sales'].agg([np.mean, np.std, np.var])\n",
    "print(aggs)"
   ]
  },
  {
   "cell_type": "code",
   "execution_count": 64,
   "id": "d15cbbfe",
   "metadata": {},
   "outputs": [],
   "source": [
    "# Calculate percentage of region's sales per row with respect to total sale of the region "
   ]
  },
  {
   "cell_type": "code",
   "execution_count": 66,
   "id": "096215db",
   "metadata": {},
   "outputs": [
    {
     "name": "stdout",
     "output_type": "stream",
     "text": [
      "        date  gender      region  sales  Percent Of Region Sales\n",
      "0  8/22/2022    Male  North-West  20381                 0.004148\n",
      "1   3/5/2022    Male  North-East  14495                 0.002403\n",
      "2   2/9/2022    Male  North-East  13510                 0.002239\n",
      "3  6/22/2022    Male  North-East  15983                 0.002649\n",
      "4  8/10/2022  Female  North-West  15007                 0.003055\n"
     ]
    }
   ],
   "source": [
    "data['Percent Of Region Sales'] = data['sales'] / data.groupby('region')['sales'].transform('sum')\n",
    "print(data.head())"
   ]
  },
  {
   "cell_type": "code",
   "execution_count": 70,
   "id": "aed354d6",
   "metadata": {},
   "outputs": [],
   "source": [
    "# Filtering Rows Where the Group's Average Sale Price is Less Than 20,000 "
   ]
  },
  {
   "cell_type": "code",
   "execution_count": 71,
   "id": "4fcd6542",
   "metadata": {},
   "outputs": [
    {
     "name": "stdout",
     "output_type": "stream",
     "text": [
      "        date  gender      region  sales  Percent Of Region Sales\n",
      "0  8/22/2022    Male  North-West  20381                 0.004148\n",
      "1   3/5/2022    Male  North-East  14495                 0.002403\n",
      "2   2/9/2022    Male  North-East  13510                 0.002239\n",
      "3  6/22/2022    Male  North-East  15983                 0.002649\n",
      "4  8/10/2022  Female  North-West  15007                 0.003055\n"
     ]
    }
   ],
   "source": [
    "data = data.groupby('region').filter(lambda x: x['sales'].mean() < 20000)\n",
    "print(data.head())"
   ]
  },
  {
   "cell_type": "code",
   "execution_count": 68,
   "id": "06493c5a",
   "metadata": {},
   "outputs": [],
   "source": [
    "# calculate the sum of all sales broken out by 'region' and by 'gender' "
   ]
  },
  {
   "cell_type": "code",
   "execution_count": 72,
   "id": "4bcf13f8",
   "metadata": {},
   "outputs": [
    {
     "name": "stdout",
     "output_type": "stream",
     "text": [
      "                     sales  Percent Of Region Sales\n",
      "region     gender                                  \n",
      "North-East Female  3051132                 0.505743\n",
      "           Male    2981835                 0.494257\n",
      "North-West Female  2455899                 0.499879\n",
      "           Male    2457091                 0.500121\n"
     ]
    }
   ],
   "source": [
    "sums = data.groupby(['region', 'gender']).sum()\n",
    "print(sums.head())"
   ]
  },
  {
   "cell_type": "code",
   "execution_count": 69,
   "id": "561b93f9",
   "metadata": {},
   "outputs": [],
   "source": [
    "# Ranking Sales by Region and by Gender  "
   ]
  },
  {
   "cell_type": "code",
   "execution_count": 73,
   "id": "06a6e276",
   "metadata": {},
   "outputs": [
    {
     "name": "stdout",
     "output_type": "stream",
     "text": [
      "        date  gender      region  sales  Percent Of Region Sales   rank\n",
      "0  8/22/2022    Male  North-West  20381                 0.004148   11.0\n",
      "1   3/5/2022    Male  North-East  14495                 0.002403  154.0\n",
      "2   2/9/2022    Male  North-East  13510                 0.002239  168.0\n",
      "3  6/22/2022    Male  North-East  15983                 0.002649  138.0\n",
      "4  8/10/2022  Female  North-West  15007                 0.003055   89.5\n"
     ]
    }
   ],
   "source": [
    "data['rank'] = data.groupby(['region', 'gender'])['sales'].rank(ascending=False)\n",
    "print(data.head())"
   ]
  },
  {
   "cell_type": "code",
   "execution_count": null,
   "id": "52353b47",
   "metadata": {},
   "outputs": [],
   "source": []
  }
 ],
 "metadata": {
  "kernelspec": {
   "display_name": "Python (myenv)",
   "language": "python",
   "name": "myenv"
  },
  "language_info": {
   "codemirror_mode": {
    "name": "ipython",
    "version": 3
   },
   "file_extension": ".py",
   "mimetype": "text/x-python",
   "name": "python",
   "nbconvert_exporter": "python",
   "pygments_lexer": "ipython3",
   "version": "3.8.8"
  }
 },
 "nbformat": 4,
 "nbformat_minor": 5
}
