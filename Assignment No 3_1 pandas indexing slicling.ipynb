{
 "cells": [
  {
   "cell_type": "markdown",
   "id": "0ae69337",
   "metadata": {},
   "source": [
    " \n",
    "\n",
    "Indexing, slicing \n",
    "\n",
    "Load the winery dataset and call it as reviews"
   ]
  },
  {
   "cell_type": "code",
   "execution_count": null,
   "id": "f4a9d4bc",
   "metadata": {},
   "outputs": [],
   "source": []
  },
  {
   "cell_type": "code",
   "execution_count": 1,
   "id": "971f0045",
   "metadata": {},
   "outputs": [],
   "source": [
    "import numpy as np\n",
    "import pandas as pd"
   ]
  },
  {
   "cell_type": "code",
   "execution_count": 2,
   "id": "65b76780",
   "metadata": {},
   "outputs": [
    {
     "data": {
      "text/html": [
       "<div>\n",
       "<style scoped>\n",
       "    .dataframe tbody tr th:only-of-type {\n",
       "        vertical-align: middle;\n",
       "    }\n",
       "\n",
       "    .dataframe tbody tr th {\n",
       "        vertical-align: top;\n",
       "    }\n",
       "\n",
       "    .dataframe thead th {\n",
       "        text-align: right;\n",
       "    }\n",
       "</style>\n",
       "<table border=\"1\" class=\"dataframe\">\n",
       "  <thead>\n",
       "    <tr style=\"text-align: right;\">\n",
       "      <th></th>\n",
       "      <th>Unnamed: 0</th>\n",
       "      <th>country</th>\n",
       "      <th>description</th>\n",
       "      <th>designation</th>\n",
       "      <th>points</th>\n",
       "      <th>price</th>\n",
       "      <th>province</th>\n",
       "      <th>region_1</th>\n",
       "      <th>region_2</th>\n",
       "      <th>taster_name</th>\n",
       "      <th>taster_twitter_handle</th>\n",
       "      <th>title</th>\n",
       "      <th>variety</th>\n",
       "      <th>winery</th>\n",
       "    </tr>\n",
       "  </thead>\n",
       "  <tbody>\n",
       "    <tr>\n",
       "      <th>0</th>\n",
       "      <td>0</td>\n",
       "      <td>Italy</td>\n",
       "      <td>Aromas include tropical fruit, broom, brimston...</td>\n",
       "      <td>Vulkà Bianco</td>\n",
       "      <td>87</td>\n",
       "      <td>NaN</td>\n",
       "      <td>Sicily &amp; Sardinia</td>\n",
       "      <td>Etna</td>\n",
       "      <td>NaN</td>\n",
       "      <td>Kerin O’Keefe</td>\n",
       "      <td>@kerinokeefe</td>\n",
       "      <td>Nicosia 2013 Vulkà Bianco  (Etna)</td>\n",
       "      <td>White Blend</td>\n",
       "      <td>Nicosia</td>\n",
       "    </tr>\n",
       "    <tr>\n",
       "      <th>1</th>\n",
       "      <td>1</td>\n",
       "      <td>Portugal</td>\n",
       "      <td>This is ripe and fruity, a wine that is smooth...</td>\n",
       "      <td>Avidagos</td>\n",
       "      <td>87</td>\n",
       "      <td>15.0</td>\n",
       "      <td>Douro</td>\n",
       "      <td>NaN</td>\n",
       "      <td>NaN</td>\n",
       "      <td>Roger Voss</td>\n",
       "      <td>@vossroger</td>\n",
       "      <td>Quinta dos Avidagos 2011 Avidagos Red (Douro)</td>\n",
       "      <td>Portuguese Red</td>\n",
       "      <td>Quinta dos Avidagos</td>\n",
       "    </tr>\n",
       "    <tr>\n",
       "      <th>2</th>\n",
       "      <td>2</td>\n",
       "      <td>US</td>\n",
       "      <td>Tart and snappy, the flavors of lime flesh and...</td>\n",
       "      <td>NaN</td>\n",
       "      <td>87</td>\n",
       "      <td>14.0</td>\n",
       "      <td>Oregon</td>\n",
       "      <td>Willamette Valley</td>\n",
       "      <td>Willamette Valley</td>\n",
       "      <td>Paul Gregutt</td>\n",
       "      <td>@paulgwine</td>\n",
       "      <td>Rainstorm 2013 Pinot Gris (Willamette Valley)</td>\n",
       "      <td>Pinot Gris</td>\n",
       "      <td>Rainstorm</td>\n",
       "    </tr>\n",
       "    <tr>\n",
       "      <th>3</th>\n",
       "      <td>3</td>\n",
       "      <td>US</td>\n",
       "      <td>Pineapple rind, lemon pith and orange blossom ...</td>\n",
       "      <td>Reserve Late Harvest</td>\n",
       "      <td>87</td>\n",
       "      <td>13.0</td>\n",
       "      <td>Michigan</td>\n",
       "      <td>Lake Michigan Shore</td>\n",
       "      <td>NaN</td>\n",
       "      <td>Alexander Peartree</td>\n",
       "      <td>NaN</td>\n",
       "      <td>St. Julian 2013 Reserve Late Harvest Riesling ...</td>\n",
       "      <td>Riesling</td>\n",
       "      <td>St. Julian</td>\n",
       "    </tr>\n",
       "    <tr>\n",
       "      <th>4</th>\n",
       "      <td>4</td>\n",
       "      <td>US</td>\n",
       "      <td>Much like the regular bottling from 2012, this...</td>\n",
       "      <td>Vintner's Reserve Wild Child Block</td>\n",
       "      <td>87</td>\n",
       "      <td>65.0</td>\n",
       "      <td>Oregon</td>\n",
       "      <td>Willamette Valley</td>\n",
       "      <td>Willamette Valley</td>\n",
       "      <td>Paul Gregutt</td>\n",
       "      <td>@paulgwine</td>\n",
       "      <td>Sweet Cheeks 2012 Vintner's Reserve Wild Child...</td>\n",
       "      <td>Pinot Noir</td>\n",
       "      <td>Sweet Cheeks</td>\n",
       "    </tr>\n",
       "  </tbody>\n",
       "</table>\n",
       "</div>"
      ],
      "text/plain": [
       "   Unnamed: 0   country                                        description  \\\n",
       "0           0     Italy  Aromas include tropical fruit, broom, brimston...   \n",
       "1           1  Portugal  This is ripe and fruity, a wine that is smooth...   \n",
       "2           2        US  Tart and snappy, the flavors of lime flesh and...   \n",
       "3           3        US  Pineapple rind, lemon pith and orange blossom ...   \n",
       "4           4        US  Much like the regular bottling from 2012, this...   \n",
       "\n",
       "                          designation  points  price           province  \\\n",
       "0                        Vulkà Bianco      87    NaN  Sicily & Sardinia   \n",
       "1                            Avidagos      87   15.0              Douro   \n",
       "2                                 NaN      87   14.0             Oregon   \n",
       "3                Reserve Late Harvest      87   13.0           Michigan   \n",
       "4  Vintner's Reserve Wild Child Block      87   65.0             Oregon   \n",
       "\n",
       "              region_1           region_2         taster_name  \\\n",
       "0                 Etna                NaN       Kerin O’Keefe   \n",
       "1                  NaN                NaN          Roger Voss   \n",
       "2    Willamette Valley  Willamette Valley        Paul Gregutt   \n",
       "3  Lake Michigan Shore                NaN  Alexander Peartree   \n",
       "4    Willamette Valley  Willamette Valley        Paul Gregutt   \n",
       "\n",
       "  taster_twitter_handle                                              title  \\\n",
       "0          @kerinokeefe                  Nicosia 2013 Vulkà Bianco  (Etna)   \n",
       "1            @vossroger      Quinta dos Avidagos 2011 Avidagos Red (Douro)   \n",
       "2           @paulgwine       Rainstorm 2013 Pinot Gris (Willamette Valley)   \n",
       "3                   NaN  St. Julian 2013 Reserve Late Harvest Riesling ...   \n",
       "4           @paulgwine   Sweet Cheeks 2012 Vintner's Reserve Wild Child...   \n",
       "\n",
       "          variety               winery  \n",
       "0     White Blend              Nicosia  \n",
       "1  Portuguese Red  Quinta dos Avidagos  \n",
       "2      Pinot Gris            Rainstorm  \n",
       "3        Riesling           St. Julian  \n",
       "4      Pinot Noir         Sweet Cheeks  "
      ]
     },
     "execution_count": 2,
     "metadata": {},
     "output_type": "execute_result"
    }
   ],
   "source": [
    "reviews=pd.read_csv(\"C:/M.sc Data Science clg/DS SEM 2/Python Assignments/winemag-data-130k-v2.csv\")\n",
    "reviews.head()"
   ]
  },
  {
   "cell_type": "code",
   "execution_count": 3,
   "id": "3b247244",
   "metadata": {},
   "outputs": [
    {
     "data": {
      "text/plain": [
       "(129971, 14)"
      ]
     },
     "execution_count": 3,
     "metadata": {},
     "output_type": "execute_result"
    }
   ],
   "source": [
    "reviews.shape"
   ]
  },
  {
   "cell_type": "code",
   "execution_count": 4,
   "id": "1e79fdcf",
   "metadata": {},
   "outputs": [
    {
     "name": "stdout",
     "output_type": "stream",
     "text": [
      "<class 'pandas.core.frame.DataFrame'>\n",
      "RangeIndex: 129971 entries, 0 to 129970\n",
      "Data columns (total 14 columns):\n",
      " #   Column                 Non-Null Count   Dtype  \n",
      "---  ------                 --------------   -----  \n",
      " 0   Unnamed: 0             129971 non-null  int64  \n",
      " 1   country                129908 non-null  object \n",
      " 2   description            129971 non-null  object \n",
      " 3   designation            92506 non-null   object \n",
      " 4   points                 129971 non-null  int64  \n",
      " 5   price                  120975 non-null  float64\n",
      " 6   province               129908 non-null  object \n",
      " 7   region_1               108724 non-null  object \n",
      " 8   region_2               50511 non-null   object \n",
      " 9   taster_name            103727 non-null  object \n",
      " 10  taster_twitter_handle  98758 non-null   object \n",
      " 11  title                  129971 non-null  object \n",
      " 12  variety                129970 non-null  object \n",
      " 13  winery                 129971 non-null  object \n",
      "dtypes: float64(1), int64(2), object(11)\n",
      "memory usage: 13.9+ MB\n"
     ]
    }
   ],
   "source": [
    "reviews.info()"
   ]
  },
  {
   "cell_type": "markdown",
   "id": "05ff39f1",
   "metadata": {},
   "source": [
    "Q1 Select the description column from reviews and assign the result to the variable desc."
   ]
  },
  {
   "cell_type": "code",
   "execution_count": 5,
   "id": "d0805195",
   "metadata": {},
   "outputs": [],
   "source": [
    "desc=reviews['description']"
   ]
  },
  {
   "cell_type": "code",
   "execution_count": 6,
   "id": "7e0f4c28",
   "metadata": {},
   "outputs": [
    {
     "data": {
      "text/plain": [
       "0         Aromas include tropical fruit, broom, brimston...\n",
       "1         This is ripe and fruity, a wine that is smooth...\n",
       "2         Tart and snappy, the flavors of lime flesh and...\n",
       "3         Pineapple rind, lemon pith and orange blossom ...\n",
       "4         Much like the regular bottling from 2012, this...\n",
       "                                ...                        \n",
       "129966    Notes of honeysuckle and cantaloupe sweeten th...\n",
       "129967    Citation is given as much as a decade of bottl...\n",
       "129968    Well-drained gravel soil gives this wine its c...\n",
       "129969    A dry style of Pinot Gris, this is crisp with ...\n",
       "129970    Big, rich and off-dry, this is powered by inte...\n",
       "Name: description, Length: 129971, dtype: object"
      ]
     },
     "execution_count": 6,
     "metadata": {},
     "output_type": "execute_result"
    }
   ],
   "source": [
    "desc"
   ]
  },
  {
   "cell_type": "markdown",
   "id": "8be21298",
   "metadata": {},
   "source": [
    "1 Select the first row of data (the first record) from reviews, assigning it to the variable first_row. "
   ]
  },
  {
   "cell_type": "code",
   "execution_count": 7,
   "id": "7d9baf9d",
   "metadata": {},
   "outputs": [
    {
     "name": "stdout",
     "output_type": "stream",
     "text": [
      "Aromas include tropical fruit, broom, brimstone and dried herb. The palate isn't overly expressive, offering unripened apple, citrus and dried sage alongside brisk acidity.\n"
     ]
    }
   ],
   "source": [
    "first_row=reviews['description'][0]\n",
    "print(first_row)"
   ]
  },
  {
   "cell_type": "markdown",
   "id": "f10a6e56",
   "metadata": {},
   "source": [
    "Q2 Select the first 10 values from the description column in reviews, assigning the result to variable first_descriptions "
   ]
  },
  {
   "cell_type": "code",
   "execution_count": 8,
   "id": "a97f8093",
   "metadata": {},
   "outputs": [
    {
     "name": "stdout",
     "output_type": "stream",
     "text": [
      "0    Aromas include tropical fruit, broom, brimston...\n",
      "1    This is ripe and fruity, a wine that is smooth...\n",
      "2    Tart and snappy, the flavors of lime flesh and...\n",
      "3    Pineapple rind, lemon pith and orange blossom ...\n",
      "4    Much like the regular bottling from 2012, this...\n",
      "5    Blackberry and raspberry aromas show a typical...\n",
      "6    Here's a bright, informal red that opens with ...\n",
      "7    This dry and restrained wine offers spice in p...\n",
      "8    Savory dried thyme notes accent sunnier flavor...\n",
      "9    This has great depth of flavor with its fresh ...\n",
      "Name: description, dtype: object\n"
     ]
    }
   ],
   "source": [
    "first_descriptions=reviews['description'].head(10)\n",
    "print(first_descriptions)"
   ]
  },
  {
   "cell_type": "markdown",
   "id": "5c251962",
   "metadata": {},
   "source": [
    "Q3 Select the records with index labels 1, 2, 3, 5, and 8, assigning the result to the variable sample_reviews."
   ]
  },
  {
   "cell_type": "code",
   "execution_count": 9,
   "id": "0c6a0286",
   "metadata": {},
   "outputs": [
    {
     "name": "stdout",
     "output_type": "stream",
     "text": [
      "   Unnamed: 0   country                                        description  \\\n",
      "1           1  Portugal  This is ripe and fruity, a wine that is smooth...   \n",
      "2           2        US  Tart and snappy, the flavors of lime flesh and...   \n",
      "3           3        US  Pineapple rind, lemon pith and orange blossom ...   \n",
      "5           5     Spain  Blackberry and raspberry aromas show a typical...   \n",
      "8           8   Germany  Savory dried thyme notes accent sunnier flavor...   \n",
      "\n",
      "            designation  points  price        province             region_1  \\\n",
      "1              Avidagos      87   15.0           Douro                  NaN   \n",
      "2                   NaN      87   14.0          Oregon    Willamette Valley   \n",
      "3  Reserve Late Harvest      87   13.0        Michigan  Lake Michigan Shore   \n",
      "5          Ars In Vitro      87   15.0  Northern Spain              Navarra   \n",
      "8                 Shine      87   12.0     Rheinhessen                  NaN   \n",
      "\n",
      "            region_2         taster_name taster_twitter_handle  \\\n",
      "1                NaN          Roger Voss            @vossroger   \n",
      "2  Willamette Valley        Paul Gregutt           @paulgwine    \n",
      "3                NaN  Alexander Peartree                   NaN   \n",
      "5                NaN   Michael Schachner           @wineschach   \n",
      "8                NaN  Anna Lee C. Iijima                   NaN   \n",
      "\n",
      "                                               title             variety  \\\n",
      "1      Quinta dos Avidagos 2011 Avidagos Red (Douro)      Portuguese Red   \n",
      "2      Rainstorm 2013 Pinot Gris (Willamette Valley)          Pinot Gris   \n",
      "3  St. Julian 2013 Reserve Late Harvest Riesling ...            Riesling   \n",
      "5  Tandem 2011 Ars In Vitro Tempranillo-Merlot (N...  Tempranillo-Merlot   \n",
      "8  Heinz Eifel 2013 Shine Gewürztraminer (Rheinhe...      Gewürztraminer   \n",
      "\n",
      "                winery  \n",
      "1  Quinta dos Avidagos  \n",
      "2            Rainstorm  \n",
      "3           St. Julian  \n",
      "5               Tandem  \n",
      "8          Heinz Eifel  \n"
     ]
    }
   ],
   "source": [
    "sample_reviews=reviews.iloc[[1,2,3,5,8]]\n",
    "print(sample_reviews)"
   ]
  },
  {
   "cell_type": "markdown",
   "id": "364ff045",
   "metadata": {},
   "source": [
    "Q4 Create a variable df containing the country, province, region_1, and region_2 columns of the records with the index labels 0, 1, 10, and 100 "
   ]
  },
  {
   "cell_type": "code",
   "execution_count": 10,
   "id": "7a7e62ea",
   "metadata": {},
   "outputs": [
    {
     "name": "stdout",
     "output_type": "stream",
     "text": [
      "      country           province      region_1      region_2\n",
      "0       Italy  Sicily & Sardinia          Etna           NaN\n",
      "1    Portugal              Douro           NaN           NaN\n",
      "10         US         California   Napa Valley          Napa\n",
      "100        US           New York  Finger Lakes  Finger Lakes\n"
     ]
    }
   ],
   "source": [
    "df=reviews.loc[[0,1,10,100],['country','province','region_1','region_2']]\n",
    "print(df)"
   ]
  },
  {
   "cell_type": "markdown",
   "id": "649839f0",
   "metadata": {},
   "source": [
    "Q5 Create a variable df containing the country and variety columns of the first 100 records. Try both loc and iloc. "
   ]
  },
  {
   "cell_type": "code",
   "execution_count": 11,
   "id": "289c7546",
   "metadata": {},
   "outputs": [
    {
     "name": "stdout",
     "output_type": "stream",
     "text": [
      "     country                   variety\n",
      "0      Italy               White Blend\n",
      "1   Portugal            Portuguese Red\n",
      "2         US                Pinot Gris\n",
      "3         US                  Riesling\n",
      "4         US                Pinot Noir\n",
      "..       ...                       ...\n",
      "95    France                     Gamay\n",
      "96    France                     Gamay\n",
      "97        US                  Riesling\n",
      "98     Italy                Sangiovese\n",
      "99        US  Bordeaux-style Red Blend\n",
      "\n",
      "[100 rows x 2 columns]\n"
     ]
    }
   ],
   "source": [
    "df = reviews.iloc[0:100][['country','variety']]\n",
    "print(df)\n"
   ]
  },
  {
   "cell_type": "code",
   "execution_count": 12,
   "id": "293695f5",
   "metadata": {},
   "outputs": [
    {
     "name": "stdout",
     "output_type": "stream",
     "text": [
      "      country                   variety\n",
      "0       Italy               White Blend\n",
      "1    Portugal            Portuguese Red\n",
      "2          US                Pinot Gris\n",
      "3          US                  Riesling\n",
      "4          US                Pinot Noir\n",
      "..        ...                       ...\n",
      "96     France                     Gamay\n",
      "97         US                  Riesling\n",
      "98      Italy                Sangiovese\n",
      "99         US  Bordeaux-style Red Blend\n",
      "100        US                Pinot Gris\n",
      "\n",
      "[101 rows x 2 columns]\n"
     ]
    }
   ],
   "source": [
    "df1 = reviews.loc[0:100][['country','variety']]\n",
    "print(df1)"
   ]
  },
  {
   "cell_type": "markdown",
   "id": "a2d56201",
   "metadata": {},
   "source": [
    "Q6 Create a DataFrame italian_wines containing reviews of wines made in Italy. "
   ]
  },
  {
   "cell_type": "code",
   "execution_count": 13,
   "id": "eb103336",
   "metadata": {},
   "outputs": [
    {
     "name": "stdout",
     "output_type": "stream",
     "text": [
      "        Unnamed: 0 country                                        description  \\\n",
      "0                0   Italy  Aromas include tropical fruit, broom, brimston...   \n",
      "6                6   Italy  Here's a bright, informal red that opens with ...   \n",
      "13              13   Italy  This is dominated by oak and oak-driven aromas...   \n",
      "22              22   Italy  Delicate aromas recall white flower and citrus...   \n",
      "24              24   Italy  Aromas of prune, blackcurrant, toast and oak c...   \n",
      "...            ...     ...                                                ...   \n",
      "129929      129929   Italy  This luminous sparkler has a sweet, fruit-forw...   \n",
      "129943      129943   Italy  A blend of Nero d'Avola and Syrah, this convey...   \n",
      "129947      129947   Italy  A blend of 65% Cabernet Sauvignon, 30% Merlot ...   \n",
      "129961      129961   Italy  Intense aromas of wild cherry, baking spice, t...   \n",
      "129962      129962   Italy  Blackberry, cassis, grilled herb and toasted a...   \n",
      "\n",
      "                      designation  points  price           province  \\\n",
      "0                    Vulkà Bianco      87    NaN  Sicily & Sardinia   \n",
      "6                         Belsito      87   16.0  Sicily & Sardinia   \n",
      "13                          Rosso      87    NaN  Sicily & Sardinia   \n",
      "22                      Ficiligno      87   19.0  Sicily & Sardinia   \n",
      "24                          Aynat      87   35.0  Sicily & Sardinia   \n",
      "...                           ...     ...    ...                ...   \n",
      "129929                        NaN      91   38.0             Veneto   \n",
      "129943                    Adènzia      90   29.0  Sicily & Sardinia   \n",
      "129947                   Symposio      90   20.0  Sicily & Sardinia   \n",
      "129961                        NaN      90   30.0  Sicily & Sardinia   \n",
      "129962  Sàgana Tenuta San Giacomo      90   40.0  Sicily & Sardinia   \n",
      "\n",
      "                              region_1 region_2    taster_name  \\\n",
      "0                                 Etna      NaN  Kerin O’Keefe   \n",
      "6                             Vittoria      NaN  Kerin O’Keefe   \n",
      "13                                Etna      NaN  Kerin O’Keefe   \n",
      "22                             Sicilia      NaN  Kerin O’Keefe   \n",
      "24                             Sicilia      NaN  Kerin O’Keefe   \n",
      "...                                ...      ...            ...   \n",
      "129929  Prosecco Superiore di Cartizze      NaN            NaN   \n",
      "129943                         Sicilia      NaN  Kerin O’Keefe   \n",
      "129947                 Terre Siciliane      NaN  Kerin O’Keefe   \n",
      "129961                         Sicilia      NaN  Kerin O’Keefe   \n",
      "129962                         Sicilia      NaN  Kerin O’Keefe   \n",
      "\n",
      "       taster_twitter_handle  \\\n",
      "0               @kerinokeefe   \n",
      "6               @kerinokeefe   \n",
      "13              @kerinokeefe   \n",
      "22              @kerinokeefe   \n",
      "24              @kerinokeefe   \n",
      "...                      ...   \n",
      "129929                   NaN   \n",
      "129943          @kerinokeefe   \n",
      "129947          @kerinokeefe   \n",
      "129961          @kerinokeefe   \n",
      "129962          @kerinokeefe   \n",
      "\n",
      "                                                    title            variety  \\\n",
      "0                       Nicosia 2013 Vulkà Bianco  (Etna)        White Blend   \n",
      "6        Terre di Giurfo 2013 Belsito Frappato (Vittoria)           Frappato   \n",
      "13                 Masseria Setteporte 2012 Rosso  (Etna)  Nerello Mascalese   \n",
      "22      Baglio di Pianetto 2007 Ficiligno White (Sicilia)        White Blend   \n",
      "24            Canicattì 2009 Aynat Nero d'Avola (Sicilia)       Nero d'Avola   \n",
      "...                                                   ...                ...   \n",
      "129929  Col Vetoraz Spumanti NV  Prosecco Superiore di...           Prosecco   \n",
      "129943  Baglio del Cristo di Campobello 2012 Adènzia R...          Red Blend   \n",
      "129947  Feudo Principi di Butera 2012 Symposio Red (Te...          Red Blend   \n",
      "129961                        COS 2013 Frappato (Sicilia)           Frappato   \n",
      "129962  Cusumano 2012 Sàgana Tenuta San Giacomo Nero d...       Nero d'Avola   \n",
      "\n",
      "                                 winery  \n",
      "0                               Nicosia  \n",
      "6                       Terre di Giurfo  \n",
      "13                  Masseria Setteporte  \n",
      "22                   Baglio di Pianetto  \n",
      "24                            Canicattì  \n",
      "...                                 ...  \n",
      "129929             Col Vetoraz Spumanti  \n",
      "129943  Baglio del Cristo di Campobello  \n",
      "129947         Feudo Principi di Butera  \n",
      "129961                              COS  \n",
      "129962                         Cusumano  \n",
      "\n",
      "[19540 rows x 14 columns]\n"
     ]
    }
   ],
   "source": [
    "italian_wines=reviews[reviews['country']=='Italy']\n",
    "print(italian_wines)"
   ]
  },
  {
   "cell_type": "markdown",
   "id": "08299ada",
   "metadata": {},
   "source": [
    "Q7 Create a DataFrame `top_oceania_wines` containing all reviews with at least 95 points (out of 100) for wines from Australia or New Zealand. "
   ]
  },
  {
   "cell_type": "code",
   "execution_count": 14,
   "id": "4ba179c0",
   "metadata": {},
   "outputs": [
    {
     "name": "stdout",
     "output_type": "stream",
     "text": [
      "        Unnamed: 0      country  \\\n",
      "345            345    Australia   \n",
      "346            346    Australia   \n",
      "348            348    Australia   \n",
      "349            349    Australia   \n",
      "356            356    Australia   \n",
      "360            360    Australia   \n",
      "365            365    Australia   \n",
      "14354        14354    Australia   \n",
      "16538        16538    Australia   \n",
      "28573        28573    Australia   \n",
      "34502        34502    Australia   \n",
      "34506        34506    Australia   \n",
      "38988        38988    Australia   \n",
      "39059        39059    Australia   \n",
      "39961        39961    Australia   \n",
      "39962        39962    Australia   \n",
      "45809        45809    Australia   \n",
      "56953        56953    Australia   \n",
      "56956        56956    Australia   \n",
      "56957        56957    Australia   \n",
      "56959        56959    Australia   \n",
      "59977        59977    Australia   \n",
      "59984        59984    Australia   \n",
      "67096        67096    Australia   \n",
      "67101        67101    Australia   \n",
      "76392        76392    Australia   \n",
      "77028        77028    Australia   \n",
      "77036        77036    Australia   \n",
      "77037        77037    Australia   \n",
      "77042        77042    Australia   \n",
      "77044        77044    Australia   \n",
      "77046        77046    Australia   \n",
      "83357        83357    Australia   \n",
      "84815        84815    Australia   \n",
      "84816        84816    Australia   \n",
      "87128        87128    Australia   \n",
      "87137        87137    Australia   \n",
      "87143        87143    Australia   \n",
      "91851        91851  New Zealand   \n",
      "98386        98386    Australia   \n",
      "99318        99318    Australia   \n",
      "99330        99330    Australia   \n",
      "99340        99340    Australia   \n",
      "109427      109427    Australia   \n",
      "109434      109434    Australia   \n",
      "122421      122421    Australia   \n",
      "122430      122430    Australia   \n",
      "122507      122507  New Zealand   \n",
      "122939      122939    Australia   \n",
      "\n",
      "                                              description  \\\n",
      "345     This wine contains some material over 100 year...   \n",
      "346     This deep brown wine smells like a damp, mossy...   \n",
      "348     Deep mahogany. Dried fig and black tea on the ...   \n",
      "349     RunRig is always complex, and the 2012 doesn't...   \n",
      "356     Dusty, firm, powerful: just a few apt descript...   \n",
      "360     Bacon and tapenade elements merge easily on th...   \n",
      "365     The Taylor family selected Clare Valley for it...   \n",
      "14354   This wine's concentrated dark fruit shows in t...   \n",
      "16538   Rich, dense and intense, this is a big, muscul...   \n",
      "28573   Astralis has become one of Australia's top col...   \n",
      "34502   This prodigious wine showcases Barossa's abili...   \n",
      "34506   If Standish's Relic is the feminine side of Sh...   \n",
      "38988   Penfolds Bin 707 has leapt in quality over the...   \n",
      "39059   The Taylor family selected Clare Valley for it...   \n",
      "39961   As unevolved as they are, the dense and multil...   \n",
      "39962   Seamless luxury from stem to stern, this ‘baby...   \n",
      "45809   The 2007 Astralis impresses for its combinatio...   \n",
      "56953   This inky, embryonic wine deserves to be cella...   \n",
      "56956   You may have to scour the country to secure so...   \n",
      "56957   Thorn Clarke has taken its Shiraz to a new lev...   \n",
      "56959   Is this the Yin to Grange's Yang? The wines ar...   \n",
      "59977   This is a top example of the classic Australia...   \n",
      "59984   This is a throwback to those brash, flavor-exu...   \n",
      "67096   Just a tiny serving of this dark nectar will l...   \n",
      "67101   This Muscat is the color of dark coffee, with ...   \n",
      "76392   When the alcohol levels are reined in to appro...   \n",
      "77028   This has all the size and weight you've come t...   \n",
      "77036   RWT (unromantically derived from “Red Wine Tri...   \n",
      "77037   Winemaker Dave Powell is no longer with Torbre...   \n",
      "77042   This is likely the most ageworthy Shiraz winem...   \n",
      "77044   The fruit for this offering comes from the Gre...   \n",
      "77046   With aromas and flavors that range widely from...   \n",
      "83357   A throwback to the monster Shiraz style of old...   \n",
      "84815   The Factor is always one of Torbreck's biggest...   \n",
      "84816   Nashwauk is Kaesler's McLaren Vale project, fi...   \n",
      "87128   This full-bodied, muscular Shiraz is built for...   \n",
      "87137   Perhaps the best young wine I've tasted from M...   \n",
      "87143   This is wonderfully complex and aromatic, with...   \n",
      "91851   This full-bodied, richly tannic wine delivers....   \n",
      "98386   One of the more approachable of the d'Arenberg...   \n",
      "99318   From vines planted in 1912, this has been an i...   \n",
      "99330   This Cabernet equivalent to Grange has explode...   \n",
      "99340   This rich, opulent wine carries its massive oa...   \n",
      "109427  This wine is dark brown in hue with a greenish...   \n",
      "109434  D'Arenberg's lineup of single-vineyard Shiraze...   \n",
      "122421  Despite this wine's weight and richness, it re...   \n",
      "122430  These blends are traditional in Australia—they...   \n",
      "122507  This blend of Cabernet Sauvignon (62.5%), Merl...   \n",
      "122939  Full-bodied and plush yet vibrant and imbued w...   \n",
      "\n",
      "                                   designation  points  price  \\\n",
      "345                                       Rare     100  350.0   \n",
      "346                                       Rare      98  350.0   \n",
      "348                                      Grand      97  100.0   \n",
      "349                                     RunRig      97  225.0   \n",
      "356                          Georgia's Paddock      95   85.0   \n",
      "360                                 Descendant      95  125.0   \n",
      "365        St. Andrews Single Vineyard Release      95   60.0   \n",
      "14354                                 Old Vine      95   60.0   \n",
      "16538                          The Family Tree      95   65.0   \n",
      "28573                                 Astralis      95  350.0   \n",
      "34502                                The Relic      98  135.0   \n",
      "34506             The Standish Single Vineyard      96  135.0   \n",
      "38988                                  Bin 707      95  200.0   \n",
      "39059      St. Andrews Single Vineyard Release      95   60.0   \n",
      "39961                                   Grange      96  185.0   \n",
      "39962                                      RWT      95   70.0   \n",
      "45809                                 Astralis      95  225.0   \n",
      "56953                                   Grange      99  850.0   \n",
      "56956                               Andelmonde      97   95.0   \n",
      "56957                Ron Thorn Single Vineyard      96   89.0   \n",
      "56959                            Hill of Grace      96  820.0   \n",
      "59977                                The Peake      96  150.0   \n",
      "59984                                      One      95   95.0   \n",
      "67096                            Calliope Rare      98   86.0   \n",
      "67101                                     Rare      95  300.0   \n",
      "76392                        Georgia's Paddock      95   85.0   \n",
      "77028                                   Grange      98  850.0   \n",
      "77036                                      RWT      96  150.0   \n",
      "77037                                   RunRig      96  225.0   \n",
      "77042                                    Eligo      95  100.0   \n",
      "77044                                R Reserve      95  105.0   \n",
      "77046                               The Factor      95  125.0   \n",
      "83357                                   Grange      96  500.0   \n",
      "84815                               The Factor      95  125.0   \n",
      "84816                                   Beacon      95  145.0   \n",
      "87128                   Amery Vineyard Block 6      96  120.0   \n",
      "87137                                      NaN      95   84.0   \n",
      "87143      St. Andrews Single Vineyard Release      95   60.0   \n",
      "91851                                   Homage      95  100.0   \n",
      "98386            Little Venice Single Vineyard      95   85.0   \n",
      "99318                 Mount Edelstone Vineyard      95  200.0   \n",
      "99330                                  Bin 707      95  500.0   \n",
      "99340                                 Les Amis      95  185.0   \n",
      "109427                                    Rare      99  300.0   \n",
      "109434  The Swinging Malaysian Single Vineyard      96   85.0   \n",
      "122421                      Amon-Ra Unfiltered      96  110.0   \n",
      "122430                              Anaperenna      95   80.0   \n",
      "122507   SQM Gimblett Gravels Cabernets/Merlot      95   79.0   \n",
      "122939                              The Factor      98  125.0   \n",
      "\n",
      "                 province         region_1 region_2     taster_name  \\\n",
      "345              Victoria       Rutherglen      NaN  Joe Czerwinski   \n",
      "346              Victoria       Rutherglen      NaN  Joe Czerwinski   \n",
      "348              Victoria       Rutherglen      NaN  Joe Czerwinski   \n",
      "349       South Australia          Barossa      NaN  Joe Czerwinski   \n",
      "356              Victoria        Heathcote      NaN  Joe Czerwinski   \n",
      "360       South Australia   Barossa Valley      NaN  Joe Czerwinski   \n",
      "365       South Australia     Clare Valley      NaN  Joe Czerwinski   \n",
      "14354     South Australia   Barossa Valley      NaN  Joe Czerwinski   \n",
      "16538     South Australia   Barossa Valley      NaN  Joe Czerwinski   \n",
      "28573     South Australia        Clarendon      NaN  Joe Czerwinski   \n",
      "34502     South Australia   Barossa Valley      NaN  Joe Czerwinski   \n",
      "34506     South Australia   Barossa Valley      NaN  Joe Czerwinski   \n",
      "38988     South Australia  South Australia      NaN  Joe Czerwinski   \n",
      "39059     South Australia     Clare Valley      NaN  Joe Czerwinski   \n",
      "39961     South Australia  South Australia      NaN             NaN   \n",
      "39962     South Australia   Barossa Valley      NaN             NaN   \n",
      "45809     South Australia        Clarendon      NaN  Joe Czerwinski   \n",
      "56953     South Australia  South Australia      NaN  Joe Czerwinski   \n",
      "56956     South Australia   Barossa Valley      NaN  Joe Czerwinski   \n",
      "56957     South Australia          Barossa      NaN  Joe Czerwinski   \n",
      "56959     South Australia      Eden Valley      NaN  Joe Czerwinski   \n",
      "59977     South Australia     McLaren Vale      NaN  Joe Czerwinski   \n",
      "59984     South Australia  Langhorne Creek      NaN  Joe Czerwinski   \n",
      "67096            Victoria       Rutherglen      NaN  Joe Czerwinski   \n",
      "67101            Victoria       Rutherglen      NaN  Joe Czerwinski   \n",
      "76392            Victoria        Heathcote      NaN  Joe Czerwinski   \n",
      "77028     South Australia  South Australia      NaN  Joe Czerwinski   \n",
      "77036     South Australia   Barossa Valley      NaN  Joe Czerwinski   \n",
      "77037     South Australia   Barossa Valley      NaN  Joe Czerwinski   \n",
      "77042     South Australia          Barossa      NaN  Joe Czerwinski   \n",
      "77044     South Australia   Barossa Valley      NaN  Joe Czerwinski   \n",
      "77046     South Australia   Barossa Valley      NaN  Joe Czerwinski   \n",
      "83357     South Australia  South Australia      NaN  Joe Czerwinski   \n",
      "84815     South Australia          Barossa      NaN  Joe Czerwinski   \n",
      "84816     South Australia     McLaren Vale      NaN  Joe Czerwinski   \n",
      "87128     South Australia     McLaren Vale      NaN  Joe Czerwinski   \n",
      "87137   Western Australia   Margaret River      NaN  Joe Czerwinski   \n",
      "87143     South Australia     Clare Valley      NaN  Joe Czerwinski   \n",
      "91851         Hawke's Bay              NaN      NaN  Joe Czerwinski   \n",
      "98386     South Australia     McLaren Vale      NaN  Joe Czerwinski   \n",
      "99318     South Australia      Eden Valley      NaN  Joe Czerwinski   \n",
      "99330     South Australia  South Australia      NaN  Joe Czerwinski   \n",
      "99340     South Australia   Barossa Valley      NaN  Joe Czerwinski   \n",
      "109427           Victoria       Rutherglen      NaN  Joe Czerwinski   \n",
      "109434    South Australia     McLaren Vale      NaN  Joe Czerwinski   \n",
      "122421    South Australia   Barossa Valley      NaN  Joe Czerwinski   \n",
      "122430    South Australia   Barossa Valley      NaN  Joe Czerwinski   \n",
      "122507        Hawke's Bay              NaN      NaN  Joe Czerwinski   \n",
      "122939    South Australia   Barossa Valley      NaN  Joe Czerwinski   \n",
      "\n",
      "       taster_twitter_handle  \\\n",
      "345                   @JoeCz   \n",
      "346                   @JoeCz   \n",
      "348                   @JoeCz   \n",
      "349                   @JoeCz   \n",
      "356                   @JoeCz   \n",
      "360                   @JoeCz   \n",
      "365                   @JoeCz   \n",
      "14354                 @JoeCz   \n",
      "16538                 @JoeCz   \n",
      "28573                 @JoeCz   \n",
      "34502                 @JoeCz   \n",
      "34506                 @JoeCz   \n",
      "38988                 @JoeCz   \n",
      "39059                 @JoeCz   \n",
      "39961                    NaN   \n",
      "39962                    NaN   \n",
      "45809                 @JoeCz   \n",
      "56953                 @JoeCz   \n",
      "56956                 @JoeCz   \n",
      "56957                 @JoeCz   \n",
      "56959                 @JoeCz   \n",
      "59977                 @JoeCz   \n",
      "59984                 @JoeCz   \n",
      "67096                 @JoeCz   \n",
      "67101                 @JoeCz   \n",
      "76392                 @JoeCz   \n",
      "77028                 @JoeCz   \n",
      "77036                 @JoeCz   \n",
      "77037                 @JoeCz   \n",
      "77042                 @JoeCz   \n",
      "77044                 @JoeCz   \n",
      "77046                 @JoeCz   \n",
      "83357                 @JoeCz   \n",
      "84815                 @JoeCz   \n",
      "84816                 @JoeCz   \n",
      "87128                 @JoeCz   \n",
      "87137                 @JoeCz   \n",
      "87143                 @JoeCz   \n",
      "91851                 @JoeCz   \n",
      "98386                 @JoeCz   \n",
      "99318                 @JoeCz   \n",
      "99330                 @JoeCz   \n",
      "99340                 @JoeCz   \n",
      "109427                @JoeCz   \n",
      "109434                @JoeCz   \n",
      "122421                @JoeCz   \n",
      "122430                @JoeCz   \n",
      "122507                @JoeCz   \n",
      "122939                @JoeCz   \n",
      "\n",
      "                                                    title  \\\n",
      "345     Chambers Rosewood Vineyards NV Rare Muscat (Ru...   \n",
      "346     Chambers Rosewood Vineyards NV Rare Muscadelle...   \n",
      "348     Chambers Rosewood Vineyards NV Grand Muscat (R...   \n",
      "349        Torbreck 2012 RunRig Shiraz-Viognier (Barossa)   \n",
      "356     Jasper Hill 2013 Georgia's Paddock Shiraz (Hea...   \n",
      "360     Torbreck 2012 Descendant Shiraz-Viognier (Baro...   \n",
      "365     Wakefield 2013 St. Andrews Single Vineyard Rel...   \n",
      "14354       Kaesler 2006 Old Vine Shiraz (Barossa Valley)   \n",
      "16538   Lambert 2013 The Family Tree Shiraz (Barossa V...   \n",
      "28573     Clarendon Hills 2005 Astralis Syrah (Clarendon)   \n",
      "34502     Standish 2006 The Relic Shiraz (Barossa Valley)   \n",
      "34506   Standish 2005 The Standish Single Vineyard Shi...   \n",
      "38988   Penfolds 2009 Bin 707 Cabernet Sauvignon (Sout...   \n",
      "39059   Wakefield 2013 St. Andrews Single Vineyard Rel...   \n",
      "39961       Penfolds 1996 Grange Shiraz (South Australia)   \n",
      "39962           Penfolds 1998 RWT Shiraz (Barossa Valley)   \n",
      "45809     Clarendon Hills 2007 Astralis Syrah (Clarendon)   \n",
      "56953       Penfolds 2010 Grange Shiraz (South Australia)   \n",
      "56956    Standish 2012 Andelmonde Shiraz (Barossa Valley)   \n",
      "56957   Thorn Clarke 2012 Ron Thorn Single Vineyard Sh...   \n",
      "56959    Henschke 2010 Hill of Grace Shiraz (Eden Valley)   \n",
      "59977   Hickinbotham 2013 The Peake Cabernet-Shiraz (M...   \n",
      "59984            Heartland 2013 One Red (Langhorne Creek)   \n",
      "67096   R.L. Buller & Son NV Calliope Rare Tokay (Ruth...   \n",
      "67101   Chambers Rosewood Vineyards NV Rare Muscat (Ru...   \n",
      "76392   Jasper Hill 2012 Georgia's Paddock Shiraz (Hea...   \n",
      "77028       Penfolds 2008 Grange Shiraz (South Australia)   \n",
      "77036           Penfolds 2009 RWT Shiraz (Barossa Valley)   \n",
      "77037   Torbreck 2007 RunRig Shiraz-Viognier (Barossa ...   \n",
      "77042        John Duval Wines 2010 Eligo Shiraz (Barossa)   \n",
      "77044   Kilikanoon 2009 R Reserve Shiraz (Barossa Valley)   \n",
      "77046    Torbreck 2007 The Factor Shiraz (Barossa Valley)   \n",
      "83357       Penfolds 2004 Grange Shiraz (South Australia)   \n",
      "84815           Torbreck 2012 The Factor Shiraz (Barossa)   \n",
      "84816          Nashwauk 2010 Beacon Shiraz (McLaren Vale)   \n",
      "87128   Kay Brothers 2012 Amery Vineyard Block 6 Shira...   \n",
      "87137   Moss Wood 2011 Cabernet Sauvignon (Margaret Ri...   \n",
      "87143   Wakefield 2012 St. Andrews Single Vineyard Rel...   \n",
      "91851        Trinity Hill 2013 Homage Syrah (Hawke's Bay)   \n",
      "98386   D'Arenberg 2010 Little Venice Single Vineyard ...   \n",
      "99318   Henschke 2014 Mount Edelstone Vineyard Shiraz ...   \n",
      "99330   Penfolds 2014 Bin 707 Cabernet Sauvignon (Sout...   \n",
      "99340    Torbreck 2013 Les Amis Grenache (Barossa Valley)   \n",
      "109427  Chambers Rosewood Vineyards NV Rare Muscadelle...   \n",
      "109434  D'Arenberg 2010 The Swinging Malaysian Single ...   \n",
      "122421  Glaetzer 2010 Amon-Ra Unfiltered Shiraz (Baros...   \n",
      "122430  Glaetzer 2010 Anaperenna Shiraz-Cabernet Sauvi...   \n",
      "122507  Squawking Magpie 2014 SQM Gimblett Gravels Cab...   \n",
      "122939   Torbreck 2013 The Factor Shiraz (Barossa Valley)   \n",
      "\n",
      "                          variety                       winery  \n",
      "345                        Muscat  Chambers Rosewood Vineyards  \n",
      "346                    Muscadelle  Chambers Rosewood Vineyards  \n",
      "348                        Muscat  Chambers Rosewood Vineyards  \n",
      "349               Shiraz-Viognier                     Torbreck  \n",
      "356                        Shiraz                  Jasper Hill  \n",
      "360               Shiraz-Viognier                     Torbreck  \n",
      "365                        Shiraz                    Wakefield  \n",
      "14354                      Shiraz                      Kaesler  \n",
      "16538                      Shiraz                      Lambert  \n",
      "28573                       Syrah              Clarendon Hills  \n",
      "34502                      Shiraz                     Standish  \n",
      "34506                      Shiraz                     Standish  \n",
      "38988          Cabernet Sauvignon                     Penfolds  \n",
      "39059                      Shiraz                    Wakefield  \n",
      "39961                      Shiraz                     Penfolds  \n",
      "39962                      Shiraz                     Penfolds  \n",
      "45809                       Syrah              Clarendon Hills  \n",
      "56953                      Shiraz                     Penfolds  \n",
      "56956                      Shiraz                     Standish  \n",
      "56957                      Shiraz                 Thorn Clarke  \n",
      "56959                      Shiraz                     Henschke  \n",
      "59977             Cabernet-Shiraz                 Hickinbotham  \n",
      "59984                   Red Blend                    Heartland  \n",
      "67096                       Tokay            R.L. Buller & Son  \n",
      "67101                      Muscat  Chambers Rosewood Vineyards  \n",
      "76392                      Shiraz                  Jasper Hill  \n",
      "77028                      Shiraz                     Penfolds  \n",
      "77036                      Shiraz                     Penfolds  \n",
      "77037             Shiraz-Viognier                     Torbreck  \n",
      "77042                      Shiraz             John Duval Wines  \n",
      "77044                      Shiraz                   Kilikanoon  \n",
      "77046                      Shiraz                     Torbreck  \n",
      "83357                      Shiraz                     Penfolds  \n",
      "84815                      Shiraz                     Torbreck  \n",
      "84816                      Shiraz                     Nashwauk  \n",
      "87128                      Shiraz                 Kay Brothers  \n",
      "87137          Cabernet Sauvignon                    Moss Wood  \n",
      "87143                      Shiraz                    Wakefield  \n",
      "91851                       Syrah                 Trinity Hill  \n",
      "98386                      Shiraz                   D'Arenberg  \n",
      "99318                      Shiraz                     Henschke  \n",
      "99330          Cabernet Sauvignon                     Penfolds  \n",
      "99340                    Grenache                     Torbreck  \n",
      "109427                 Muscadelle  Chambers Rosewood Vineyards  \n",
      "109434                     Shiraz                   D'Arenberg  \n",
      "122421                     Shiraz                     Glaetzer  \n",
      "122430  Shiraz-Cabernet Sauvignon                     Glaetzer  \n",
      "122507   Bordeaux-style Red Blend             Squawking Magpie  \n",
      "122939                     Shiraz                     Torbreck  \n"
     ]
    }
   ],
   "source": [
    "top_oceania_wines = reviews[(reviews['points']>= 95) & ((reviews['country']=='Australia')|(reviews['country']=='New Zealand'))]\n",
    "print(top_oceania_wines)"
   ]
  },
  {
   "cell_type": "markdown",
   "id": "a99806c1",
   "metadata": {},
   "source": [
    "# Summary Functions and Maps \n",
    "\n",
    "Functions like - Describe, mean, unique, value_counts,"
   ]
  },
  {
   "cell_type": "markdown",
   "id": "5a1084fc",
   "metadata": {},
   "source": [
    " Q1 What is the median of the points column in the reviews DataFrame? "
   ]
  },
  {
   "cell_type": "code",
   "execution_count": 15,
   "id": "af7625cc",
   "metadata": {},
   "outputs": [
    {
     "name": "stdout",
     "output_type": "stream",
     "text": [
      "88.0\n"
     ]
    }
   ],
   "source": [
    "median_points=reviews.points.median()\n",
    "print(median_points)"
   ]
  },
  {
   "cell_type": "markdown",
   "id": "8c677bcb",
   "metadata": {},
   "source": [
    "Q2 What countries are represented in the dataset? Print the list without duplicates "
   ]
  },
  {
   "cell_type": "code",
   "execution_count": 17,
   "id": "bee05903",
   "metadata": {},
   "outputs": [
    {
     "name": "stdout",
     "output_type": "stream",
     "text": [
      "['Italy' 'Portugal' 'US' 'Spain' 'France' 'Germany' 'Argentina' 'Chile'\n",
      " 'Australia' 'Austria' 'South Africa' 'New Zealand' 'Israel' 'Hungary'\n",
      " 'Greece' 'Romania' 'Mexico' 'Canada' nan 'Turkey' 'Czech Republic'\n",
      " 'Slovenia' 'Luxembourg' 'Croatia' 'Georgia' 'Uruguay' 'England' 'Lebanon'\n",
      " 'Serbia' 'Brazil' 'Moldova' 'Morocco' 'Peru' 'India' 'Bulgaria' 'Cyprus'\n",
      " 'Armenia' 'Switzerland' 'Bosnia and Herzegovina' 'Ukraine' 'Slovakia'\n",
      " 'Macedonia' 'China' 'Egypt']\n"
     ]
    }
   ],
   "source": [
    "countries = reviews.country.unique()\n",
    "print(countries)"
   ]
  },
  {
   "cell_type": "markdown",
   "id": "aae906e0",
   "metadata": {},
   "source": [
    "Q3 How often does each country appear in the dataset? Create a Series reviews_per_country mapping countries to the count of reviews of wines from that country. "
   ]
  },
  {
   "cell_type": "code",
   "execution_count": 18,
   "id": "a216ad3a",
   "metadata": {},
   "outputs": [
    {
     "name": "stdout",
     "output_type": "stream",
     "text": [
      "US                        54504\n",
      "France                    22093\n",
      "Italy                     19540\n",
      "Spain                      6645\n",
      "Portugal                   5691\n",
      "Chile                      4472\n",
      "Argentina                  3800\n",
      "Austria                    3345\n",
      "Australia                  2329\n",
      "Germany                    2165\n",
      "New Zealand                1419\n",
      "South Africa               1401\n",
      "Israel                      505\n",
      "Greece                      466\n",
      "Canada                      257\n",
      "Hungary                     146\n",
      "Bulgaria                    141\n",
      "Romania                     120\n",
      "Uruguay                     109\n",
      "Turkey                       90\n",
      "Slovenia                     87\n",
      "Georgia                      86\n",
      "England                      74\n",
      "Croatia                      73\n",
      "Mexico                       70\n",
      "Moldova                      59\n",
      "Brazil                       52\n",
      "Lebanon                      35\n",
      "Morocco                      28\n",
      "Peru                         16\n",
      "Ukraine                      14\n",
      "Czech Republic               12\n",
      "Macedonia                    12\n",
      "Serbia                       12\n",
      "Cyprus                       11\n",
      "India                         9\n",
      "Switzerland                   7\n",
      "Luxembourg                    6\n",
      "Bosnia and Herzegovina        2\n",
      "Armenia                       2\n",
      "Slovakia                      1\n",
      "China                         1\n",
      "Egypt                         1\n",
      "Name: country, dtype: int64\n"
     ]
    }
   ],
   "source": [
    "reviews_per_country = reviews.country.value_counts()\n",
    "print(reviews_per_country)"
   ]
  },
  {
   "cell_type": "markdown",
   "id": "3ec675a0",
   "metadata": {},
   "source": [
    "Q4 Create variable centered_price containing a version of the price column with the mean price subtracted. "
   ]
  },
  {
   "cell_type": "code",
   "execution_count": 20,
   "id": "4b1dea1b",
   "metadata": {},
   "outputs": [
    {
     "name": "stdout",
     "output_type": "stream",
     "text": [
      "0               NaN\n",
      "1        -20.363389\n",
      "2        -21.363389\n",
      "3        -22.363389\n",
      "4         29.636611\n",
      "            ...    \n",
      "129966    -7.363389\n",
      "129967    39.636611\n",
      "129968    -5.363389\n",
      "129969    -3.363389\n",
      "129970   -14.363389\n",
      "Name: price, Length: 129971, dtype: float64\n"
     ]
    }
   ],
   "source": [
    "centered_price=reviews.price-reviews.price.mean()\n",
    "print(centered_price)"
   ]
  },
  {
   "cell_type": "markdown",
   "id": "5238d3b7",
   "metadata": {},
   "source": [
    "Q5 Which wine is the \"best bargain\"? Create a variable bargain_wine with the title of the wine with the highest points-to-price ratio in the dataset.   \n",
    "\n",
    "Hint use idxmax "
   ]
  },
  {
   "cell_type": "code",
   "execution_count": 21,
   "id": "b12a5b21",
   "metadata": {},
   "outputs": [
    {
     "name": "stdout",
     "output_type": "stream",
     "text": [
      "Bandit NV Merlot (California)\n"
     ]
    }
   ],
   "source": [
    "bargain_wine = reviews.loc[(reviews.points / reviews.price).idxmax(), 'title']\n",
    "print(bargain_wine)"
   ]
  },
  {
   "cell_type": "markdown",
   "id": "65c034fc",
   "metadata": {},
   "source": [
    "Q6 There are only so many words you can use when describing a bottle of wine. Is a wine more likely to be \"tropical\" or \"fruity\"? Check how many times these words are used description.  \n",
    "\n",
    "tropical    3607 \n",
    "\n",
    "fruity      9090 "
   ]
  },
  {
   "cell_type": "code",
   "execution_count": 25,
   "id": "d73be387",
   "metadata": {},
   "outputs": [
    {
     "name": "stdout",
     "output_type": "stream",
     "text": [
      "tropical    3607\n",
      "fruity      9090\n",
      "dtype: int64\n"
     ]
    }
   ],
   "source": [
    "tropical = reviews.description.map(lambda x: \"tropical\" in x).sum()\n",
    "fruity = reviews.description.map(lambda x: \"fruity\" in x).sum()\n",
    "descriptor_counts = pd.Series([tropical, fruity], index=['tropical', 'fruity'])\n",
    "\n",
    "print(descriptor_counts)"
   ]
  },
  {
   "cell_type": "markdown",
   "id": "bd1d6520",
   "metadata": {},
   "source": [
    "Q7 We'd like to host these wine reviews on our website, but a rating system ranging from 80 to 100 points is too hard to understand - we'd like to translate them into simple star ratings. \n",
    "\n",
    "- a. A score of 95 or higher counts as 3 stars, a score of at least 85 but less than 95 is 2 stars. Any other score is 1 star. \n",
    "\n",
    "- b. Also, the Canadian Vintners Association bought a lot of ads on the site, so any wines from Canada should automatically get 3 stars, regardless of points. \n",
    "\n",
    "- c. Create a series star_ratings with the number of stars corresponding to each review in the dataset \n",
    "\n",
    "Hint: create a function to compute rating, apply it and compute new column “star_ratings” "
   ]
  },
  {
   "cell_type": "code",
   "execution_count": 27,
   "id": "c5f08341",
   "metadata": {},
   "outputs": [
    {
     "data": {
      "text/plain": [
       "2    114877\n",
       "1     12421\n",
       "3      2673\n",
       "dtype: int64"
      ]
     },
     "execution_count": 27,
     "metadata": {},
     "output_type": "execute_result"
    }
   ],
   "source": [
    "#a\n",
    "def stars(row):\n",
    "    if (row.points >= 95) | (row.country == 'Canada'): row.stars = 3\n",
    "    elif row.points >= 85:                             row.stars = 2\n",
    "    else:                                              row.stars = 1\n",
    "    return row.stars\n",
    "        \n",
    "star_ratings = reviews.apply(stars, axis='columns')\n",
    "                                                 \n",
    "pd.Series(star_ratings).value_counts()"
   ]
  },
  {
   "cell_type": "code",
   "execution_count": 30,
   "id": "ae0474da",
   "metadata": {},
   "outputs": [
    {
     "data": {
      "text/plain": [
       "2    114877\n",
       "1     12421\n",
       "3      2673\n",
       "dtype: int64"
      ]
     },
     "execution_count": 30,
     "metadata": {},
     "output_type": "execute_result"
    }
   ],
   "source": [
    "#b \n",
    "star_ratings = [0] * len(reviews)\n",
    "\n",
    "for i in range(len(reviews)):\n",
    "    if (reviews['points'][i] >= 95) | (reviews['country'][i] == 'Canada'):\n",
    "        star_ratings[i] = 3\n",
    "    elif reviews['points'][i] >= 85:\n",
    "        star_ratings[i] = 2\n",
    "    else:\n",
    "        star_ratings[i] = 1\n",
    "\n",
    "pd.Series(star_ratings).value_counts()"
   ]
  },
  {
   "cell_type": "code",
   "execution_count": 26,
   "id": "6b970f2e",
   "metadata": {},
   "outputs": [
    {
     "name": "stdout",
     "output_type": "stream",
     "text": [
      "0         2\n",
      "1         2\n",
      "2         2\n",
      "3         2\n",
      "4         2\n",
      "         ..\n",
      "129966    2\n",
      "129967    2\n",
      "129968    2\n",
      "129969    2\n",
      "129970    2\n",
      "Length: 129971, dtype: int64\n"
     ]
    }
   ],
   "source": [
    "#c \n",
    "def rating(row):\n",
    "    return 3 if row.points >= 95 or row.country == 'Canada' else (2 if row.points >= 85 else 1)\n",
    "\n",
    "star_ratings = reviews.apply(rating, axis='columns')\n",
    "\n",
    "print(star_ratings)"
   ]
  },
  {
   "cell_type": "code",
   "execution_count": null,
   "id": "bd9cc2cc",
   "metadata": {},
   "outputs": [],
   "source": []
  }
 ],
 "metadata": {
  "kernelspec": {
   "display_name": "Python 3",
   "language": "python",
   "name": "python3"
  },
  "language_info": {
   "codemirror_mode": {
    "name": "ipython",
    "version": 3
   },
   "file_extension": ".py",
   "mimetype": "text/x-python",
   "name": "python",
   "nbconvert_exporter": "python",
   "pygments_lexer": "ipython3",
   "version": "3.8.8"
  }
 },
 "nbformat": 4,
 "nbformat_minor": 5
}
